{
 "cells": [
  {
   "cell_type": "code",
   "execution_count": 1,
   "metadata": {
    "collapsed": true
   },
   "outputs": [],
   "source": [
    "import pandas as pd\n",
    "import re\n",
    "import matplotlib.pyplot as plt\n",
    "%matplotlib inline\n"
   ]
  },
  {
   "cell_type": "code",
   "execution_count": 3,
   "metadata": {
    "collapsed": false
   },
   "outputs": [
    {
     "data": {
      "text/html": [
       "<div>\n",
       "<table border=\"1\" class=\"dataframe\">\n",
       "  <thead>\n",
       "    <tr style=\"text-align: right;\">\n",
       "      <th></th>\n",
       "      <th>tucaseid</th>\n",
       "      <th>TUFINLWGT</th>\n",
       "      <th>TRYHHCHILD</th>\n",
       "      <th>TEAGE</th>\n",
       "      <th>TESEX</th>\n",
       "      <th>PEEDUCA</th>\n",
       "      <th>PTDTRACE</th>\n",
       "      <th>PEHSPNON</th>\n",
       "      <th>GTMETSTA</th>\n",
       "      <th>TELFS</th>\n",
       "      <th>...</th>\n",
       "      <th>t181501</th>\n",
       "      <th>t181599</th>\n",
       "      <th>t181601</th>\n",
       "      <th>t181801</th>\n",
       "      <th>t189999</th>\n",
       "      <th>t500101</th>\n",
       "      <th>t500103</th>\n",
       "      <th>t500105</th>\n",
       "      <th>t500106</th>\n",
       "      <th>t500107</th>\n",
       "    </tr>\n",
       "  </thead>\n",
       "  <tbody>\n",
       "    <tr>\n",
       "      <th>0</th>\n",
       "      <td>20130101130004</td>\n",
       "      <td>11899905.662034</td>\n",
       "      <td>12</td>\n",
       "      <td>22</td>\n",
       "      <td>2</td>\n",
       "      <td>40</td>\n",
       "      <td>8</td>\n",
       "      <td>2</td>\n",
       "      <td>1</td>\n",
       "      <td>5</td>\n",
       "      <td>...</td>\n",
       "      <td>0</td>\n",
       "      <td>0</td>\n",
       "      <td>0</td>\n",
       "      <td>0</td>\n",
       "      <td>0</td>\n",
       "      <td>0</td>\n",
       "      <td>0</td>\n",
       "      <td>0</td>\n",
       "      <td>0</td>\n",
       "      <td>0</td>\n",
       "    </tr>\n",
       "    <tr>\n",
       "      <th>1</th>\n",
       "      <td>20130101130112</td>\n",
       "      <td>4447638.009513</td>\n",
       "      <td>1</td>\n",
       "      <td>39</td>\n",
       "      <td>1</td>\n",
       "      <td>43</td>\n",
       "      <td>1</td>\n",
       "      <td>2</td>\n",
       "      <td>1</td>\n",
       "      <td>1</td>\n",
       "      <td>...</td>\n",
       "      <td>0</td>\n",
       "      <td>0</td>\n",
       "      <td>0</td>\n",
       "      <td>0</td>\n",
       "      <td>0</td>\n",
       "      <td>0</td>\n",
       "      <td>0</td>\n",
       "      <td>0</td>\n",
       "      <td>0</td>\n",
       "      <td>0</td>\n",
       "    </tr>\n",
       "    <tr>\n",
       "      <th>2</th>\n",
       "      <td>20130101130123</td>\n",
       "      <td>10377056.507734</td>\n",
       "      <td>-1</td>\n",
       "      <td>47</td>\n",
       "      <td>2</td>\n",
       "      <td>40</td>\n",
       "      <td>1</td>\n",
       "      <td>2</td>\n",
       "      <td>1</td>\n",
       "      <td>4</td>\n",
       "      <td>...</td>\n",
       "      <td>25</td>\n",
       "      <td>0</td>\n",
       "      <td>0</td>\n",
       "      <td>0</td>\n",
       "      <td>0</td>\n",
       "      <td>0</td>\n",
       "      <td>0</td>\n",
       "      <td>0</td>\n",
       "      <td>0</td>\n",
       "      <td>0</td>\n",
       "    </tr>\n",
       "    <tr>\n",
       "      <th>3</th>\n",
       "      <td>20130101130611</td>\n",
       "      <td>7731257.992805</td>\n",
       "      <td>-1</td>\n",
       "      <td>50</td>\n",
       "      <td>2</td>\n",
       "      <td>40</td>\n",
       "      <td>1</td>\n",
       "      <td>1</td>\n",
       "      <td>1</td>\n",
       "      <td>1</td>\n",
       "      <td>...</td>\n",
       "      <td>0</td>\n",
       "      <td>0</td>\n",
       "      <td>0</td>\n",
       "      <td>0</td>\n",
       "      <td>0</td>\n",
       "      <td>0</td>\n",
       "      <td>0</td>\n",
       "      <td>0</td>\n",
       "      <td>0</td>\n",
       "      <td>0</td>\n",
       "    </tr>\n",
       "    <tr>\n",
       "      <th>4</th>\n",
       "      <td>20130101130616</td>\n",
       "      <td>4725269.227067</td>\n",
       "      <td>-1</td>\n",
       "      <td>45</td>\n",
       "      <td>2</td>\n",
       "      <td>40</td>\n",
       "      <td>2</td>\n",
       "      <td>2</td>\n",
       "      <td>1</td>\n",
       "      <td>1</td>\n",
       "      <td>...</td>\n",
       "      <td>0</td>\n",
       "      <td>0</td>\n",
       "      <td>0</td>\n",
       "      <td>0</td>\n",
       "      <td>0</td>\n",
       "      <td>0</td>\n",
       "      <td>0</td>\n",
       "      <td>0</td>\n",
       "      <td>0</td>\n",
       "      <td>0</td>\n",
       "    </tr>\n",
       "  </tbody>\n",
       "</table>\n",
       "<p>5 rows × 413 columns</p>\n",
       "</div>"
      ],
      "text/plain": [
       "         tucaseid        TUFINLWGT  TRYHHCHILD  TEAGE  TESEX  PEEDUCA  \\\n",
       "0  20130101130004  11899905.662034          12     22      2       40   \n",
       "1  20130101130112   4447638.009513           1     39      1       43   \n",
       "2  20130101130123  10377056.507734          -1     47      2       40   \n",
       "3  20130101130611   7731257.992805          -1     50      2       40   \n",
       "4  20130101130616   4725269.227067          -1     45      2       40   \n",
       "\n",
       "   PTDTRACE  PEHSPNON  GTMETSTA  TELFS   ...     t181501  t181599  t181601  \\\n",
       "0         8         2         1      5   ...           0        0        0   \n",
       "1         1         2         1      1   ...           0        0        0   \n",
       "2         1         2         1      4   ...          25        0        0   \n",
       "3         1         1         1      1   ...           0        0        0   \n",
       "4         2         2         1      1   ...           0        0        0   \n",
       "\n",
       "   t181801  t189999  t500101  t500103  t500105  t500106  t500107  \n",
       "0        0        0        0        0        0        0        0  \n",
       "1        0        0        0        0        0        0        0  \n",
       "2        0        0        0        0        0        0        0  \n",
       "3        0        0        0        0        0        0        0  \n",
       "4        0        0        0        0        0        0        0  \n",
       "\n",
       "[5 rows x 413 columns]"
      ]
     },
     "execution_count": 3,
     "metadata": {},
     "output_type": "execute_result"
    }
   ],
   "source": [
    "summary = pd.read_csv('atussum_2013.dat')\n",
    "summary.head()\n"
   ]
  },
  {
   "cell_type": "code",
   "execution_count": 4,
   "metadata": {
    "collapsed": false
   },
   "outputs": [
    {
     "data": {
      "text/plain": [
       "Index(['tucaseid', 'TUFINLWGT', 'TRYHHCHILD', 'TEAGE', 'TESEX', 'PEEDUCA',\n",
       "       'PTDTRACE', 'PEHSPNON', 'GTMETSTA', 'TELFS', \n",
       "       ...\n",
       "       't181501', 't181599', 't181601', 't181801', 't189999', 't500101',\n",
       "       't500103', 't500105', 't500106', 't500107'],\n",
       "      dtype='object', length=413)"
      ]
     },
     "execution_count": 4,
     "metadata": {},
     "output_type": "execute_result"
    }
   ],
   "source": [
    "summary.columns"
   ]
  },
  {
   "cell_type": "code",
   "execution_count": 5,
   "metadata": {
    "collapsed": false
   },
   "outputs": [],
   "source": [
    "new_data = summary[[\"tucaseid\", \"TUFINLWGT\",\"TESEX\", \"TEAGE\", \"t120302\"]]"
   ]
  },
  {
   "cell_type": "markdown",
   "metadata": {},
   "source": [
    "Redefining column names"
   ]
  },
  {
   "cell_type": "code",
   "execution_count": 6,
   "metadata": {
    "collapsed": false
   },
   "outputs": [],
   "source": [
    "new_data = new_data.rename(columns={\"tucaseid\": \"Case_id\", \"TUFINLWGT\": \"Weight\", \"TESEX\": \"Gender\", \"TEAGE\" : \"Age\", \"t120302\": \"Tobacco__Drug_Use\"})"
   ]
  },
  {
   "cell_type": "code",
   "execution_count": 7,
   "metadata": {
    "collapsed": false
   },
   "outputs": [
    {
     "data": {
      "text/html": [
       "<div>\n",
       "<table border=\"1\" class=\"dataframe\">\n",
       "  <thead>\n",
       "    <tr style=\"text-align: right;\">\n",
       "      <th></th>\n",
       "      <th>Case_id</th>\n",
       "      <th>Weight</th>\n",
       "      <th>Gender</th>\n",
       "      <th>Age</th>\n",
       "      <th>Tobacco__Drug_Use</th>\n",
       "    </tr>\n",
       "  </thead>\n",
       "  <tbody>\n",
       "    <tr>\n",
       "      <th>0</th>\n",
       "      <td>20130101130004</td>\n",
       "      <td>11899905.662034</td>\n",
       "      <td>2</td>\n",
       "      <td>22</td>\n",
       "      <td>0</td>\n",
       "    </tr>\n",
       "    <tr>\n",
       "      <th>1</th>\n",
       "      <td>20130101130112</td>\n",
       "      <td>4447638.009513</td>\n",
       "      <td>1</td>\n",
       "      <td>39</td>\n",
       "      <td>0</td>\n",
       "    </tr>\n",
       "    <tr>\n",
       "      <th>2</th>\n",
       "      <td>20130101130123</td>\n",
       "      <td>10377056.507734</td>\n",
       "      <td>2</td>\n",
       "      <td>47</td>\n",
       "      <td>0</td>\n",
       "    </tr>\n",
       "    <tr>\n",
       "      <th>3</th>\n",
       "      <td>20130101130611</td>\n",
       "      <td>7731257.992805</td>\n",
       "      <td>2</td>\n",
       "      <td>50</td>\n",
       "      <td>0</td>\n",
       "    </tr>\n",
       "    <tr>\n",
       "      <th>4</th>\n",
       "      <td>20130101130616</td>\n",
       "      <td>4725269.227067</td>\n",
       "      <td>2</td>\n",
       "      <td>45</td>\n",
       "      <td>0</td>\n",
       "    </tr>\n",
       "  </tbody>\n",
       "</table>\n",
       "</div>"
      ],
      "text/plain": [
       "          Case_id           Weight  Gender  Age  Tobacco__Drug_Use\n",
       "0  20130101130004  11899905.662034       2   22                  0\n",
       "1  20130101130112   4447638.009513       1   39                  0\n",
       "2  20130101130123  10377056.507734       2   47                  0\n",
       "3  20130101130611   7731257.992805       2   50                  0\n",
       "4  20130101130616   4725269.227067       2   45                  0"
      ]
     },
     "execution_count": 7,
     "metadata": {},
     "output_type": "execute_result"
    }
   ],
   "source": [
    "new_data.head()"
   ]
  },
  {
   "cell_type": "code",
   "execution_count": 8,
   "metadata": {
    "collapsed": false
   },
   "outputs": [],
   "source": [
    "real_data = new_data[['Case_id','Weight', 'Gender', 'Age', 'Tobacco__Drug_Use']]\n",
    "\n"
   ]
  },
  {
   "cell_type": "code",
   "execution_count": 9,
   "metadata": {
    "collapsed": false
   },
   "outputs": [
    {
     "data": {
      "text/plain": [
       "80"
      ]
     },
     "execution_count": 9,
     "metadata": {},
     "output_type": "execute_result"
    }
   ],
   "source": [
    "clean_data = real_data[real_data.Tobacco__Drug_Use > 0]\n",
    "clean_data.Age.min()\n",
    "clean_data.Age.max()\n",
    "#I want all values that are greater than 0\n",
    "#I wanted to know the range of ages for those who had more than 0 minutes of tobacco and drug use per day. "
   ]
  },
  {
   "cell_type": "code",
   "execution_count": 10,
   "metadata": {
    "collapsed": false
   },
   "outputs": [
    {
     "name": "stderr",
     "output_type": "stream",
     "text": [
      "/Users/pnitto/iron_yard/atus-analysis/.direnv/python-3.4.3/lib/python3.4/site-packages/IPython/kernel/__main__.py:2: SettingWithCopyWarning: \n",
      "A value is trying to be set on a copy of a slice from a DataFrame.\n",
      "Try using .loc[row_indexer,col_indexer] = value instead\n",
      "\n",
      "See the the caveats in the documentation: http://pandas.pydata.org/pandas-docs/stable/indexing.html#indexing-view-versus-copy\n",
      "  from IPython.kernel.zmq import kernelapp as app\n"
     ]
    },
    {
     "data": {
      "text/plain": [
       "22.116807244441901"
      ]
     },
     "execution_count": 10,
     "metadata": {},
     "output_type": "execute_result"
    }
   ],
   "source": [
    "\n",
    "clean_data['Weighted_Minutes'] = clean_data.Weight * clean_data.Tobacco__Drug_Use\n",
    "weighted_average = clean_data.Weighted_Minutes.sum() / clean_data.Weight.sum()\n",
    "weighted_average"
   ]
  },
  {
   "cell_type": "markdown",
   "metadata": {},
   "source": [
    "Weighted Average for Tobacco and Drug Use"
   ]
  },
  {
   "cell_type": "code",
   "execution_count": 11,
   "metadata": {
    "collapsed": false
   },
   "outputs": [
    {
     "data": {
      "text/plain": [
       "25.368794326241133"
      ]
     },
     "execution_count": 11,
     "metadata": {},
     "output_type": "execute_result"
    }
   ],
   "source": [
    "unweighted_average = clean_data.Tobacco__Drug_Use.sum() / len(clean_data.Tobacco__Drug_Use)\n",
    "unweighted_average"
   ]
  },
  {
   "cell_type": "markdown",
   "metadata": {},
   "source": [
    "Unweighted Average for Tobacco and Drug Use"
   ]
  },
  {
   "cell_type": "code",
   "execution_count": 12,
   "metadata": {
    "collapsed": false
   },
   "outputs": [
    {
     "data": {
      "text/plain": [
       "<matplotlib.axes._subplots.AxesSubplot at 0x10575a4e0>"
      ]
     },
     "execution_count": 12,
     "metadata": {},
     "output_type": "execute_result"
    },
    {
     "data": {
      "image/png": "[encoded data removed]",
      "text/plain": [
       "<matplotlib.figure.Figure at 0x10574fb70>"
      ]
     },
     "metadata": {},
     "output_type": "display_data"
    }
   ],
   "source": [
    "averages = [weighted_average, unweighted_average]\n",
    "index1 = ['Weighted Average','Unweighted Average']\n",
    "both_averages = pd.Series(averages, index=index1)\n",
    "both_averages.name = 'Tobacco and Drug Use Averages(minutes)'\n",
    "both_averages.to_frame().plot(kind='bar')\n",
    "\n"
   ]
  },
  {
   "cell_type": "markdown",
   "metadata": {},
   "source": [
    "This bar graph shows the weighted and unweighted averages of Tobacco and Drug Use for both male and females ages 16 through 80. The approximate weighted average is 22.12 minutes per day of Tobacco and Drug Use.  The approximate unweighted average is 25.37 minutes per day of Tobacco and Drug Use. Based on this group of respondents, we can conclude that the respondents that answered more questions to the survey spent less of their time a day using tobacco and drugs than respondents who did not answer as many questions."
   ]
  },
  {
   "cell_type": "markdown",
   "metadata": {},
   "source": [
    " "
   ]
  },
  {
   "cell_type": "code",
   "execution_count": 13,
   "metadata": {
    "collapsed": false
   },
   "outputs": [
    {
     "data": {
      "text/html": [
       "<div>\n",
       "<table border=\"1\" class=\"dataframe\">\n",
       "  <thead>\n",
       "    <tr style=\"text-align: right;\">\n",
       "      <th></th>\n",
       "      <th>Case_id</th>\n",
       "      <th>Weight</th>\n",
       "      <th>Gender</th>\n",
       "      <th>Age</th>\n",
       "      <th>Tobacco__Drug_Use</th>\n",
       "      <th>Weighted_Minutes</th>\n",
       "    </tr>\n",
       "  </thead>\n",
       "  <tbody>\n",
       "    <tr>\n",
       "      <th>6641</th>\n",
       "      <td>20130706132269</td>\n",
       "      <td>15730733.344123</td>\n",
       "      <td>2</td>\n",
       "      <td>16</td>\n",
       "      <td>5</td>\n",
       "      <td>7.865367e+07</td>\n",
       "    </tr>\n",
       "    <tr>\n",
       "      <th>6983</th>\n",
       "      <td>20130806130958</td>\n",
       "      <td>4573647.022275</td>\n",
       "      <td>1</td>\n",
       "      <td>18</td>\n",
       "      <td>98</td>\n",
       "      <td>4.482174e+08</td>\n",
       "    </tr>\n",
       "    <tr>\n",
       "      <th>5405</th>\n",
       "      <td>20130605131341</td>\n",
       "      <td>9828291.745606</td>\n",
       "      <td>1</td>\n",
       "      <td>19</td>\n",
       "      <td>20</td>\n",
       "      <td>1.965658e+08</td>\n",
       "    </tr>\n",
       "    <tr>\n",
       "      <th>5594</th>\n",
       "      <td>20130605131856</td>\n",
       "      <td>7587461.538383</td>\n",
       "      <td>2</td>\n",
       "      <td>21</td>\n",
       "      <td>5</td>\n",
       "      <td>3.793731e+07</td>\n",
       "    </tr>\n",
       "    <tr>\n",
       "      <th>7896</th>\n",
       "      <td>20130907131998</td>\n",
       "      <td>20941446.986026</td>\n",
       "      <td>1</td>\n",
       "      <td>22</td>\n",
       "      <td>5</td>\n",
       "      <td>1.047072e+08</td>\n",
       "    </tr>\n",
       "  </tbody>\n",
       "</table>\n",
       "</div>"
      ],
      "text/plain": [
       "             Case_id           Weight  Gender  Age  Tobacco__Drug_Use  \\\n",
       "6641  20130706132269  15730733.344123       2   16                  5   \n",
       "6983  20130806130958   4573647.022275       1   18                 98   \n",
       "5405  20130605131341   9828291.745606       1   19                 20   \n",
       "5594  20130605131856   7587461.538383       2   21                  5   \n",
       "7896  20130907131998  20941446.986026       1   22                  5   \n",
       "\n",
       "      Weighted_Minutes  \n",
       "6641      7.865367e+07  \n",
       "6983      4.482174e+08  \n",
       "5405      1.965658e+08  \n",
       "5594      3.793731e+07  \n",
       "7896      1.047072e+08  "
      ]
     },
     "execution_count": 13,
     "metadata": {},
     "output_type": "execute_result"
    },
    {
     "data": {
      "image/png": "[encoded data removed]",
      "text/plain": [
       "<matplotlib.figure.Figure at 0x1048362b0>"
      ]
     },
     "metadata": {},
     "output_type": "display_data"
    }
   ],
   "source": [
    "sorted_age_data = clean_data.sort_index(ascending=True, by=['Age'])\n",
    "sorted_age_data.plot(kind='line',x='Age', y='Tobacco__Drug_Use')\n",
    "sorted_age_data.head()"
   ]
  },
  {
   "cell_type": "markdown",
   "metadata": {},
   "source": [
    "This line-graph shows males and females tobacco and drug use per minute per day based on age. Based on this information alone, we can not differentiate between how much time was allocated towards tobacco use and drug use. This category groups both together.  It is unclear what is meant by drug use. We do not know if this category includes illegal drug use, or legal drug use(medication). Respondents in the age range of 75 to 80, have the highest amount of time spent per day using tobacco and drugs. Respondents between the ages of 30 and 40, have the second highest amount of time spent per day using tobacco and drugs. It is surprising that respondents less than 18 years old have such a high amount of time spent using tobacco and drugs. Tobacco can only legally be purchased by someone who is at least 18 years old. \n"
   ]
  },
  {
   "cell_type": "code",
   "execution_count": 14,
   "metadata": {
    "collapsed": false
   },
   "outputs": [
    {
     "data": {
      "text/html": [
       "<div>\n",
       "<table border=\"1\" class=\"dataframe\">\n",
       "  <thead>\n",
       "    <tr style=\"text-align: right;\">\n",
       "      <th></th>\n",
       "      <th>Case_id</th>\n",
       "      <th>Weight</th>\n",
       "      <th>Gender</th>\n",
       "      <th>Age</th>\n",
       "      <th>Tobacco__Drug_Use</th>\n",
       "      <th>Weighted_Minutes</th>\n",
       "    </tr>\n",
       "  </thead>\n",
       "  <tbody>\n",
       "    <tr>\n",
       "      <th>6641</th>\n",
       "      <td>20130706132269</td>\n",
       "      <td>15730733.344123</td>\n",
       "      <td>2</td>\n",
       "      <td>16</td>\n",
       "      <td>5</td>\n",
       "      <td>7.865367e+07</td>\n",
       "    </tr>\n",
       "    <tr>\n",
       "      <th>6983</th>\n",
       "      <td>20130806130958</td>\n",
       "      <td>4573647.022275</td>\n",
       "      <td>1</td>\n",
       "      <td>18</td>\n",
       "      <td>98</td>\n",
       "      <td>4.482174e+08</td>\n",
       "    </tr>\n",
       "    <tr>\n",
       "      <th>5405</th>\n",
       "      <td>20130605131341</td>\n",
       "      <td>9828291.745606</td>\n",
       "      <td>1</td>\n",
       "      <td>19</td>\n",
       "      <td>20</td>\n",
       "      <td>1.965658e+08</td>\n",
       "    </tr>\n",
       "    <tr>\n",
       "      <th>5594</th>\n",
       "      <td>20130605131856</td>\n",
       "      <td>7587461.538383</td>\n",
       "      <td>2</td>\n",
       "      <td>21</td>\n",
       "      <td>5</td>\n",
       "      <td>3.793731e+07</td>\n",
       "    </tr>\n",
       "    <tr>\n",
       "      <th>7896</th>\n",
       "      <td>20130907131998</td>\n",
       "      <td>20941446.986026</td>\n",
       "      <td>1</td>\n",
       "      <td>22</td>\n",
       "      <td>5</td>\n",
       "      <td>1.047072e+08</td>\n",
       "    </tr>\n",
       "  </tbody>\n",
       "</table>\n",
       "</div>"
      ],
      "text/plain": [
       "             Case_id           Weight  Gender  Age  Tobacco__Drug_Use  \\\n",
       "6641  20130706132269  15730733.344123       2   16                  5   \n",
       "6983  20130806130958   4573647.022275       1   18                 98   \n",
       "5405  20130605131341   9828291.745606       1   19                 20   \n",
       "5594  20130605131856   7587461.538383       2   21                  5   \n",
       "7896  20130907131998  20941446.986026       1   22                  5   \n",
       "\n",
       "      Weighted_Minutes  \n",
       "6641      7.865367e+07  \n",
       "6983      4.482174e+08  \n",
       "5405      1.965658e+08  \n",
       "5594      3.793731e+07  \n",
       "7896      1.047072e+08  "
      ]
     },
     "execution_count": 14,
     "metadata": {},
     "output_type": "execute_result"
    }
   ],
   "source": [
    "sorted_age_data.head()"
   ]
  },
  {
   "cell_type": "markdown",
   "metadata": {},
   "source": [
    "I want to look at the weighted average of minutes spent using tobacco and drugs in 8 different age ranges from 16 to 80 years old."
   ]
  },
  {
   "cell_type": "markdown",
   "metadata": {},
   "source": [
    "##Age Range 16 - 24"
   ]
  },
  {
   "cell_type": "code",
   "execution_count": 18,
   "metadata": {
    "collapsed": false
   },
   "outputs": [
    {
     "data": {
      "text/plain": [
       "16.215508789041831"
      ]
     },
     "execution_count": 18,
     "metadata": {},
     "output_type": "execute_result"
    }
   ],
   "source": [
    "ages_16_above = sorted_age_data.Age >= 16\n",
    "ages_24_less = sorted_age_data.Age <= 24\n",
    "\n",
    "ages_16_thru_24 = sorted_age_data[ages_16_above & ages_24_less]\n",
    "ages_16_thru_24\n",
    "\n",
    "def average_minutes_16_24():\n",
    "    return ages_16_thru_24.Weighted_Minutes.sum() / ages_16_thru_24.Weight.sum()\n",
    "\n",
    "average_16_thru_24 = average_minutes_16_24()\n",
    "average_16_thru_24\n",
    "\n"
   ]
  },
  {
   "cell_type": "markdown",
   "metadata": {},
   "source": [
    "##Age Range 25 - 33"
   ]
  },
  {
   "cell_type": "code",
   "execution_count": 19,
   "metadata": {
    "collapsed": false
   },
   "outputs": [
    {
     "data": {
      "text/plain": [
       "22.693085661116601"
      ]
     },
     "execution_count": 19,
     "metadata": {},
     "output_type": "execute_result"
    }
   ],
   "source": [
    "ages_25_above = sorted_age_data.Age >= 25\n",
    "ages_33_less = sorted_age_data.Age <= 33\n",
    "ages_25_thru_33 = sorted_age_data[ages_25_above & ages_33_less]\n",
    "ages_25_thru_33\n",
    "\n",
    "def average_minutes_25_33():\n",
    "    return ages_25_thru_33.Weighted_Minutes.sum() / ages_25_thru_33.Weight.sum()\n",
    "\n",
    "average_25_33 = average_minutes_25_33()\n",
    "average_25_33"
   ]
  },
  {
   "cell_type": "markdown",
   "metadata": {},
   "source": [
    "##Age Range 34 - 42"
   ]
  },
  {
   "cell_type": "code",
   "execution_count": 20,
   "metadata": {
    "collapsed": false
   },
   "outputs": [
    {
     "data": {
      "text/plain": [
       "19.199097092492444"
      ]
     },
     "execution_count": 20,
     "metadata": {},
     "output_type": "execute_result"
    }
   ],
   "source": [
    "ages_34_above = sorted_age_data.Age >= 34\n",
    "ages_42_less = sorted_age_data.Age <= 42\n",
    "ages_34_thru_42 = sorted_age_data[ages_34_above & ages_42_less]\n",
    "ages_34_thru_42\n",
    "\n",
    "def average_minutes_34_42():\n",
    "    return ages_34_thru_42.Weighted_Minutes.sum() / ages_34_thru_42.Weight.sum()\n",
    "\n",
    "average_34_42 = average_minutes_34_42()\n",
    "average_34_42"
   ]
  },
  {
   "cell_type": "markdown",
   "metadata": {},
   "source": [
    "##Age Range 43 - 51"
   ]
  },
  {
   "cell_type": "code",
   "execution_count": 21,
   "metadata": {
    "collapsed": false
   },
   "outputs": [
    {
     "data": {
      "text/plain": [
       "19.334700082144561"
      ]
     },
     "execution_count": 21,
     "metadata": {},
     "output_type": "execute_result"
    }
   ],
   "source": [
    "ages_43_above = sorted_age_data.Age >= 43\n",
    "ages_51_less = sorted_age_data.Age <= 51\n",
    "ages_43_thru_51 = sorted_age_data[ages_43_above & ages_51_less]\n",
    "ages_43_thru_51\n",
    "\n",
    "def average_minutes_43_51():\n",
    "    return ages_43_thru_51.Weighted_Minutes.sum() / ages_43_thru_51.Weight.sum()\n",
    "\n",
    "average_43_51 = average_minutes_43_51()\n",
    "average_43_51"
   ]
  },
  {
   "cell_type": "markdown",
   "metadata": {},
   "source": [
    "##Age Range 52 - 60"
   ]
  },
  {
   "cell_type": "code",
   "execution_count": 22,
   "metadata": {
    "collapsed": false
   },
   "outputs": [
    {
     "data": {
      "text/plain": [
       "19.790336196833557"
      ]
     },
     "execution_count": 22,
     "metadata": {},
     "output_type": "execute_result"
    }
   ],
   "source": [
    "ages_52_above = sorted_age_data.Age >= 52\n",
    "ages_60_less = sorted_age_data.Age <= 60\n",
    "ages_52_thru_60 = sorted_age_data[ages_52_above & ages_60_less]\n",
    "ages_52_thru_60\n",
    "\n",
    "def average_minutes_52_60():\n",
    "    return ages_52_thru_60.Weighted_Minutes.sum() / ages_52_thru_60.Weight.sum()\n",
    "\n",
    "average_52_60 = average_minutes_52_60()\n",
    "average_52_60"
   ]
  },
  {
   "cell_type": "markdown",
   "metadata": {},
   "source": [
    "## Age range 61 - 69"
   ]
  },
  {
   "cell_type": "code",
   "execution_count": 23,
   "metadata": {
    "collapsed": false
   },
   "outputs": [
    {
     "data": {
      "text/plain": [
       "21.653373582415274"
      ]
     },
     "execution_count": 23,
     "metadata": {},
     "output_type": "execute_result"
    }
   ],
   "source": [
    "ages_61_above = sorted_age_data.Age >= 61\n",
    "ages_69_less = sorted_age_data.Age <= 69\n",
    "ages_61_thru_69 = sorted_age_data[ages_61_above & ages_69_less]\n",
    "ages_61_thru_69\n",
    "\n",
    "def average_minutes_61_69():\n",
    "    return ages_61_thru_69.Weighted_Minutes.sum() / ages_61_thru_69.Weight.sum()\n",
    "\n",
    "average_61_69 = average_minutes_61_69()\n",
    "average_61_69"
   ]
  },
  {
   "cell_type": "markdown",
   "metadata": {},
   "source": [
    "##Age range 70 - 78"
   ]
  },
  {
   "cell_type": "code",
   "execution_count": 24,
   "metadata": {
    "collapsed": false
   },
   "outputs": [
    {
     "data": {
      "text/plain": [
       "94.55379732310989"
      ]
     },
     "execution_count": 24,
     "metadata": {},
     "output_type": "execute_result"
    }
   ],
   "source": [
    "ages_70_above = sorted_age_data.Age >= 70\n",
    "ages_78_less = sorted_age_data.Age <= 78\n",
    "ages_70_thru_78 = sorted_age_data[ages_70_above & ages_78_less]\n",
    "ages_70_thru_78\n",
    "\n",
    "def average_minutes_70_78():\n",
    "    return ages_70_thru_78.Weighted_Minutes.sum() / ages_70_thru_78.Weight.sum()\n",
    "\n",
    "average_70_78 = average_minutes_70_78()\n",
    "average_70_78"
   ]
  },
  {
   "cell_type": "markdown",
   "metadata": {},
   "source": [
    "## Age Range 79 - 87"
   ]
  },
  {
   "cell_type": "code",
   "execution_count": 25,
   "metadata": {
    "collapsed": false
   },
   "outputs": [
    {
     "data": {
      "text/plain": [
       "19.646172688230575"
      ]
     },
     "execution_count": 25,
     "metadata": {},
     "output_type": "execute_result"
    }
   ],
   "source": [
    "ages_79_above = sorted_age_data.Age >= 79\n",
    "ages_87_less = sorted_age_data.Age <= 87\n",
    "ages_79_thru_87 = sorted_age_data[ages_79_above & ages_87_less]\n",
    "ages_79_thru_87\n",
    "\n",
    "def average_minutes_79_87():\n",
    "    return ages_79_thru_87.Weighted_Minutes.sum() / ages_79_thru_87.Weight.sum()\n",
    "\n",
    "average_79_87 = average_minutes_79_87()\n",
    "average_79_87"
   ]
  },
  {
   "cell_type": "markdown",
   "metadata": {},
   "source": [
    "##Pie chart of weighted average minutes of tobacco and drug use per age group."
   ]
  },
  {
   "cell_type": "code",
   "execution_count": 26,
   "metadata": {
    "collapsed": false
   },
   "outputs": [
    {
     "data": {
      "text/plain": [
       "array([<matplotlib.axes._subplots.AxesSubplot object at 0x1059ab6a0>], dtype=object)"
      ]
     },
     "execution_count": 26,
     "metadata": {},
     "output_type": "execute_result"
    },
    {
     "data": {
      "image/png": "[encoded data removed]",
      "text/plain": [
       "<matplotlib.figure.Figure at 0x105a64a90>"
      ]
     },
     "metadata": {},
     "output_type": "display_data"
    }
   ],
   "source": [
    "age_averages = [average_16_thru_24,\n",
    "                average_25_33, \n",
    "                average_34_42,\n",
    "                average_43_51,\n",
    "                average_52_60,\n",
    "                average_61_69,\n",
    "                average_70_78,\n",
    "                average_79_87\n",
    "               ]\n",
    "index2 = ['Ages 16 - 24',\n",
    "          'Ages 25 - 33', \n",
    "          'Ages 34 - 42', \n",
    "          'Ages 43 - 51', \n",
    "          'Ages 52 - 60', \n",
    "          'Ages 61 - 69', \n",
    "          'Ages 70 - 78', \n",
    "          'Ages 79 - 87'\n",
    "         ]\n",
    "averages_by_age = pd.Series(age_averages, index=index2)\n",
    "averages_by_age.to_frame().plot(kind='pie', legend=4, title='Weighted Average minutes per Age Range', shadow=True, colors=['r','y','b','g','k','w','c','m'], subplots=True)\n",
    "\n",
    "\n"
   ]
  },
  {
   "cell_type": "markdown",
   "metadata": {},
   "source": [
    "This pie chart illustrates the weighted average in minutes per age group. The age group of 70 - 80, has the highest weighted average of time spent using tobacco and drugs. It is interesting that this group would have the highest average of minutes spent using tobacco and drugs. In general, older respondents will most likely be taking more medication for health related issues then younger respondents. The other age ranges appear to have a similar amount of time spent using tobacco and drugs. "
   ]
  },
  {
   "cell_type": "markdown",
   "metadata": {},
   "source": [
    "##The data frame below shows Tobacco and Drug Use sorted by gender. "
   ]
  },
  {
   "cell_type": "code",
   "execution_count": 27,
   "metadata": {
    "collapsed": false
   },
   "outputs": [
    {
     "data": {
      "text/html": [
       "<div>\n",
       "<table border=\"1\" class=\"dataframe\">\n",
       "  <thead>\n",
       "    <tr style=\"text-align: right;\">\n",
       "      <th></th>\n",
       "      <th>Gender</th>\n",
       "      <th>Weight</th>\n",
       "      <th>Tobacco__Drug_Use</th>\n",
       "      <th>Age</th>\n",
       "      <th>Weighted_Minutes</th>\n",
       "    </tr>\n",
       "  </thead>\n",
       "  <tbody>\n",
       "    <tr>\n",
       "      <th>4203</th>\n",
       "      <td>1</td>\n",
       "      <td>2294518.311576</td>\n",
       "      <td>90</td>\n",
       "      <td>80</td>\n",
       "      <td>2.065066e+08</td>\n",
       "    </tr>\n",
       "    <tr>\n",
       "      <th>780</th>\n",
       "      <td>1</td>\n",
       "      <td>3315154.212265</td>\n",
       "      <td>2</td>\n",
       "      <td>56</td>\n",
       "      <td>6.630308e+06</td>\n",
       "    </tr>\n",
       "    <tr>\n",
       "      <th>9268</th>\n",
       "      <td>1</td>\n",
       "      <td>8955189.380733</td>\n",
       "      <td>10</td>\n",
       "      <td>43</td>\n",
       "      <td>8.955189e+07</td>\n",
       "    </tr>\n",
       "    <tr>\n",
       "      <th>2897</th>\n",
       "      <td>1</td>\n",
       "      <td>2754025.869296</td>\n",
       "      <td>25</td>\n",
       "      <td>43</td>\n",
       "      <td>6.885065e+07</td>\n",
       "    </tr>\n",
       "    <tr>\n",
       "      <th>5608</th>\n",
       "      <td>1</td>\n",
       "      <td>5028766.282474</td>\n",
       "      <td>10</td>\n",
       "      <td>42</td>\n",
       "      <td>5.028766e+07</td>\n",
       "    </tr>\n",
       "  </tbody>\n",
       "</table>\n",
       "</div>"
      ],
      "text/plain": [
       "      Gender          Weight  Tobacco__Drug_Use  Age  Weighted_Minutes\n",
       "4203       1  2294518.311576                 90   80      2.065066e+08\n",
       "780        1  3315154.212265                  2   56      6.630308e+06\n",
       "9268       1  8955189.380733                 10   43      8.955189e+07\n",
       "2897       1  2754025.869296                 25   43      6.885065e+07\n",
       "5608       1  5028766.282474                 10   42      5.028766e+07"
      ]
     },
     "execution_count": 27,
     "metadata": {},
     "output_type": "execute_result"
    }
   ],
   "source": [
    "men_women_tobacco = sorted_age_data[['Gender', 'Weight', 'Tobacco__Drug_Use', 'Age','Weighted_Minutes']]\n",
    "sorted_men_women = men_women_tobacco.sort_index(ascending=True, by='Gender')\n",
    "sorted_men_women.head()"
   ]
  },
  {
   "cell_type": "markdown",
   "metadata": {},
   "source": [
    "##Men"
   ]
  },
  {
   "cell_type": "code",
   "execution_count": 28,
   "metadata": {
    "collapsed": false
   },
   "outputs": [
    {
     "data": {
      "text/html": [
       "<div>\n",
       "<table border=\"1\" class=\"dataframe\">\n",
       "  <thead>\n",
       "    <tr style=\"text-align: right;\">\n",
       "      <th></th>\n",
       "      <th>Gender</th>\n",
       "      <th>Weight</th>\n",
       "      <th>Tobacco__Drug_Use</th>\n",
       "      <th>Age</th>\n",
       "      <th>Weighted_Minutes</th>\n",
       "    </tr>\n",
       "  </thead>\n",
       "  <tbody>\n",
       "    <tr>\n",
       "      <th>4203</th>\n",
       "      <td>1</td>\n",
       "      <td>2294518.311576</td>\n",
       "      <td>90</td>\n",
       "      <td>80</td>\n",
       "      <td>2.065066e+08</td>\n",
       "    </tr>\n",
       "    <tr>\n",
       "      <th>780</th>\n",
       "      <td>1</td>\n",
       "      <td>3315154.212265</td>\n",
       "      <td>2</td>\n",
       "      <td>56</td>\n",
       "      <td>6.630308e+06</td>\n",
       "    </tr>\n",
       "    <tr>\n",
       "      <th>9268</th>\n",
       "      <td>1</td>\n",
       "      <td>8955189.380733</td>\n",
       "      <td>10</td>\n",
       "      <td>43</td>\n",
       "      <td>8.955189e+07</td>\n",
       "    </tr>\n",
       "    <tr>\n",
       "      <th>2897</th>\n",
       "      <td>1</td>\n",
       "      <td>2754025.869296</td>\n",
       "      <td>25</td>\n",
       "      <td>43</td>\n",
       "      <td>6.885065e+07</td>\n",
       "    </tr>\n",
       "    <tr>\n",
       "      <th>5608</th>\n",
       "      <td>1</td>\n",
       "      <td>5028766.282474</td>\n",
       "      <td>10</td>\n",
       "      <td>42</td>\n",
       "      <td>5.028766e+07</td>\n",
       "    </tr>\n",
       "  </tbody>\n",
       "</table>\n",
       "</div>"
      ],
      "text/plain": [
       "      Gender          Weight  Tobacco__Drug_Use  Age  Weighted_Minutes\n",
       "4203       1  2294518.311576                 90   80      2.065066e+08\n",
       "780        1  3315154.212265                  2   56      6.630308e+06\n",
       "9268       1  8955189.380733                 10   43      8.955189e+07\n",
       "2897       1  2754025.869296                 25   43      6.885065e+07\n",
       "5608       1  5028766.282474                 10   42      5.028766e+07"
      ]
     },
     "execution_count": 28,
     "metadata": {},
     "output_type": "execute_result"
    }
   ],
   "source": [
    "men = sorted_men_women.Gender == 1\n",
    "tobacco = sorted_men_women.Tobacco__Drug_Use > 0\n",
    "men_tobacco = sorted_men_women[men & tobacco]\n",
    "men_tobacco.head()"
   ]
  },
  {
   "cell_type": "code",
   "execution_count": 29,
   "metadata": {
    "collapsed": false
   },
   "outputs": [
    {
     "data": {
      "text/plain": [
       "24.322665522668853"
      ]
     },
     "execution_count": 29,
     "metadata": {},
     "output_type": "execute_result"
    }
   ],
   "source": [
    "def average_minutes():\n",
    "    return men_tobacco.Weighted_Minutes.sum() / men_tobacco.Weight.sum()\n",
    "\n",
    "average_male_tobacco = average_minutes()\n",
    "average_male_tobacco\n",
    "\n"
   ]
  },
  {
   "cell_type": "markdown",
   "metadata": {},
   "source": [
    "##Women"
   ]
  },
  {
   "cell_type": "code",
   "execution_count": 30,
   "metadata": {
    "collapsed": false
   },
   "outputs": [
    {
     "data": {
      "text/html": [
       "<div>\n",
       "<table border=\"1\" class=\"dataframe\">\n",
       "  <thead>\n",
       "    <tr style=\"text-align: right;\">\n",
       "      <th></th>\n",
       "      <th>Gender</th>\n",
       "      <th>Weight</th>\n",
       "      <th>Tobacco__Drug_Use</th>\n",
       "      <th>Age</th>\n",
       "      <th>Weighted_Minutes</th>\n",
       "    </tr>\n",
       "  </thead>\n",
       "  <tbody>\n",
       "    <tr>\n",
       "      <th>1801</th>\n",
       "      <td>2</td>\n",
       "      <td>13385775.390277</td>\n",
       "      <td>5</td>\n",
       "      <td>55</td>\n",
       "      <td>6.692888e+07</td>\n",
       "    </tr>\n",
       "    <tr>\n",
       "      <th>8596</th>\n",
       "      <td>2</td>\n",
       "      <td>3456870.966053</td>\n",
       "      <td>15</td>\n",
       "      <td>62</td>\n",
       "      <td>5.185306e+07</td>\n",
       "    </tr>\n",
       "    <tr>\n",
       "      <th>8656</th>\n",
       "      <td>2</td>\n",
       "      <td>3438039.180652</td>\n",
       "      <td>20</td>\n",
       "      <td>79</td>\n",
       "      <td>6.876078e+07</td>\n",
       "    </tr>\n",
       "    <tr>\n",
       "      <th>10825</th>\n",
       "      <td>2</td>\n",
       "      <td>3574835.968831</td>\n",
       "      <td>30</td>\n",
       "      <td>58</td>\n",
       "      <td>1.072451e+08</td>\n",
       "    </tr>\n",
       "    <tr>\n",
       "      <th>2256</th>\n",
       "      <td>2</td>\n",
       "      <td>2287392.763976</td>\n",
       "      <td>20</td>\n",
       "      <td>79</td>\n",
       "      <td>4.574786e+07</td>\n",
       "    </tr>\n",
       "  </tbody>\n",
       "</table>\n",
       "</div>"
      ],
      "text/plain": [
       "       Gender           Weight  Tobacco__Drug_Use  Age  Weighted_Minutes\n",
       "1801        2  13385775.390277                  5   55      6.692888e+07\n",
       "8596        2   3456870.966053                 15   62      5.185306e+07\n",
       "8656        2   3438039.180652                 20   79      6.876078e+07\n",
       "10825       2   3574835.968831                 30   58      1.072451e+08\n",
       "2256        2   2287392.763976                 20   79      4.574786e+07"
      ]
     },
     "execution_count": 30,
     "metadata": {},
     "output_type": "execute_result"
    }
   ],
   "source": [
    "women = sorted_men_women.Gender == 2\n",
    "tobacco = sorted_men_women.Tobacco__Drug_Use > 0\n",
    "women_tobacco = sorted_men_women[women & tobacco]\n",
    "women_tobacco.head()"
   ]
  },
  {
   "cell_type": "code",
   "execution_count": 32,
   "metadata": {
    "collapsed": false
   },
   "outputs": [
    {
     "data": {
      "text/plain": [
       "19.155410531004829"
      ]
     },
     "execution_count": 32,
     "metadata": {},
     "output_type": "execute_result"
    }
   ],
   "source": [
    "def average_female_minutes():\n",
    "    return women_tobacco.Weighted_Minutes.sum() / women_tobacco.Weight.sum()\n",
    "\n",
    "average_female_tobacco = average_female_minutes()\n",
    "average_female_tobacco"
   ]
  },
  {
   "cell_type": "markdown",
   "metadata": {},
   "source": [
    "##Weighted Average minutes for Men and Women "
   ]
  },
  {
   "cell_type": "code",
   "execution_count": 33,
   "metadata": {
    "collapsed": false
   },
   "outputs": [
    {
     "data": {
      "text/plain": [
       "<matplotlib.axes._subplots.AxesSubplot at 0x105a64a20>"
      ]
     },
     "execution_count": 33,
     "metadata": {},
     "output_type": "execute_result"
    },
    {
     "data": {
      "image/png": "[encoded data removed]",
      "text/plain": [
       "<matplotlib.figure.Figure at 0x105af90b8>"
      ]
     },
     "metadata": {},
     "output_type": "display_data"
    }
   ],
   "source": [
    "male_female_averages = [average_female_tobacco, average_male_tobacco]\n",
    "index2 = ['Females', 'Males']\n",
    "male_female = pd.Series(male_female_averages, index=index2)\n",
    "male_female.name = 'Weighted Averages for Tobacco and Drug Use(minutes)'\n",
    "male_female_data_frame = male_female.to_frame()\n",
    "male_female_data_frame.plot(kind='bar')\n"
   ]
  },
  {
   "cell_type": "markdown",
   "metadata": {},
   "source": [
    "This bar graph shows the weighted averages for tobacco and drug use for both male and females.  Males had an average of 24.32 minutes of tobacco and drug use per day. Females had an average of 19.15 minutes of tobacco and drug use per day. Based on this group of respondents, males spent more of their time a day using tobacco and drugs than females(approx. 5 more minutes)."
   ]
  },
  {
   "cell_type": "markdown",
   "metadata": {},
   "source": [
    "#These graphs were me having extra practice with a few things. "
   ]
  },
  {
   "cell_type": "code",
   "execution_count": 34,
   "metadata": {
    "collapsed": false
   },
   "outputs": [
    {
     "data": {
      "text/html": [
       "<div>\n",
       "<table border=\"1\" class=\"dataframe\">\n",
       "  <thead>\n",
       "    <tr style=\"text-align: right;\">\n",
       "      <th></th>\n",
       "      <th>Gender</th>\n",
       "      <th>Weight</th>\n",
       "      <th>Tobacco__Drug_Use</th>\n",
       "      <th>Age</th>\n",
       "      <th>Weighted_Minutes</th>\n",
       "    </tr>\n",
       "  </thead>\n",
       "  <tbody>\n",
       "    <tr>\n",
       "      <th>3115</th>\n",
       "      <td>1</td>\n",
       "      <td>15356095.413936</td>\n",
       "      <td>15</td>\n",
       "      <td>27</td>\n",
       "      <td>2.303414e+08</td>\n",
       "    </tr>\n",
       "    <tr>\n",
       "      <th>5416</th>\n",
       "      <td>1</td>\n",
       "      <td>6255335.614635</td>\n",
       "      <td>10</td>\n",
       "      <td>25</td>\n",
       "      <td>6.255336e+07</td>\n",
       "    </tr>\n",
       "    <tr>\n",
       "      <th>3276</th>\n",
       "      <td>1</td>\n",
       "      <td>20140215.418420</td>\n",
       "      <td>30</td>\n",
       "      <td>24</td>\n",
       "      <td>6.042065e+08</td>\n",
       "    </tr>\n",
       "    <tr>\n",
       "      <th>3807</th>\n",
       "      <td>1</td>\n",
       "      <td>4962215.244717</td>\n",
       "      <td>20</td>\n",
       "      <td>23</td>\n",
       "      <td>9.924430e+07</td>\n",
       "    </tr>\n",
       "    <tr>\n",
       "      <th>8416</th>\n",
       "      <td>1</td>\n",
       "      <td>37800691.625648</td>\n",
       "      <td>16</td>\n",
       "      <td>23</td>\n",
       "      <td>6.048111e+08</td>\n",
       "    </tr>\n",
       "  </tbody>\n",
       "</table>\n",
       "</div>"
      ],
      "text/plain": [
       "      Gender           Weight  Tobacco__Drug_Use  Age  Weighted_Minutes\n",
       "3115       1  15356095.413936                 15   27      2.303414e+08\n",
       "5416       1   6255335.614635                 10   25      6.255336e+07\n",
       "3276       1  20140215.418420                 30   24      6.042065e+08\n",
       "3807       1   4962215.244717                 20   23      9.924430e+07\n",
       "8416       1  37800691.625648                 16   23      6.048111e+08"
      ]
     },
     "execution_count": 34,
     "metadata": {},
     "output_type": "execute_result"
    }
   ],
   "source": [
    "male = sorted_men_women.Gender == 1\n",
    "males_thirty_or_less = sorted_men_women.Age < 30\n",
    "tobacco_use = sorted_men_women.Tobacco__Drug_Use > 0\n",
    "males_tobacco = sorted_men_women[male & males_thirty_or_less & tobacco_use]\n",
    "males_tobacco.head()"
   ]
  },
  {
   "cell_type": "code",
   "execution_count": 606,
   "metadata": {
    "collapsed": false
   },
   "outputs": [
    {
     "data": {
      "text/html": [
       "<div>\n",
       "<table border=\"1\" class=\"dataframe\">\n",
       "  <thead>\n",
       "    <tr style=\"text-align: right;\">\n",
       "      <th></th>\n",
       "      <th>Gender</th>\n",
       "      <th>Weight</th>\n",
       "      <th>Tobacco__Drug_Use</th>\n",
       "      <th>Age</th>\n",
       "      <th>Weighted_Minutes</th>\n",
       "    </tr>\n",
       "  </thead>\n",
       "  <tbody>\n",
       "    <tr>\n",
       "      <th>count</th>\n",
       "      <td>11</td>\n",
       "      <td>11.000000</td>\n",
       "      <td>11.000000</td>\n",
       "      <td>11.000000</td>\n",
       "      <td>1.100000e+01</td>\n",
       "    </tr>\n",
       "    <tr>\n",
       "      <th>mean</th>\n",
       "      <td>1</td>\n",
       "      <td>15012213.160972</td>\n",
       "      <td>24.909091</td>\n",
       "      <td>23.545455</td>\n",
       "      <td>2.818991e+08</td>\n",
       "    </tr>\n",
       "    <tr>\n",
       "      <th>std</th>\n",
       "      <td>0</td>\n",
       "      <td>9918328.954370</td>\n",
       "      <td>26.334216</td>\n",
       "      <td>3.173756</td>\n",
       "      <td>2.099023e+08</td>\n",
       "    </tr>\n",
       "    <tr>\n",
       "      <th>min</th>\n",
       "      <td>1</td>\n",
       "      <td>4573647.022275</td>\n",
       "      <td>5.000000</td>\n",
       "      <td>18.000000</td>\n",
       "      <td>6.255336e+07</td>\n",
       "    </tr>\n",
       "    <tr>\n",
       "      <th>25%</th>\n",
       "      <td>1</td>\n",
       "      <td>8041813.680120</td>\n",
       "      <td>12.500000</td>\n",
       "      <td>22.500000</td>\n",
       "      <td>1.092693e+08</td>\n",
       "    </tr>\n",
       "    <tr>\n",
       "      <th>50%</th>\n",
       "      <td>1</td>\n",
       "      <td>11950398.607941</td>\n",
       "      <td>16.000000</td>\n",
       "      <td>23.000000</td>\n",
       "      <td>1.965658e+08</td>\n",
       "    </tr>\n",
       "    <tr>\n",
       "      <th>75%</th>\n",
       "      <td>1</td>\n",
       "      <td>20540831.202223</td>\n",
       "      <td>25.000000</td>\n",
       "      <td>26.000000</td>\n",
       "      <td>4.631167e+08</td>\n",
       "    </tr>\n",
       "    <tr>\n",
       "      <th>max</th>\n",
       "      <td>1</td>\n",
       "      <td>37800691.625648</td>\n",
       "      <td>98.000000</td>\n",
       "      <td>28.000000</td>\n",
       "      <td>6.048111e+08</td>\n",
       "    </tr>\n",
       "  </tbody>\n",
       "</table>\n",
       "</div>"
      ],
      "text/plain": [
       "       Gender           Weight  Tobacco__Drug_Use        Age  Weighted_Minutes\n",
       "count      11        11.000000          11.000000  11.000000      1.100000e+01\n",
       "mean        1  15012213.160972          24.909091  23.545455      2.818991e+08\n",
       "std         0   9918328.954370          26.334216   3.173756      2.099023e+08\n",
       "min         1   4573647.022275           5.000000  18.000000      6.255336e+07\n",
       "25%         1   8041813.680120          12.500000  22.500000      1.092693e+08\n",
       "50%         1  11950398.607941          16.000000  23.000000      1.965658e+08\n",
       "75%         1  20540831.202223          25.000000  26.000000      4.631167e+08\n",
       "max         1  37800691.625648          98.000000  28.000000      6.048111e+08"
      ]
     },
     "execution_count": 606,
     "metadata": {},
     "output_type": "execute_result"
    },
    {
     "data": {
      "image/png": "[encoded data removed]",
      "text/plain": [
       "<matplotlib.figure.Figure at 0x10bcd6390>"
      ]
     },
     "metadata": {},
     "output_type": "display_data"
    }
   ],
   "source": [
    "sorted_males = males_tobacco.sort_index(ascending=True, by='Age')\n",
    "sorted_males.plot(kind='bar', x='Age', y='Tobacco__Drug_Use')\n",
    "sorted_males.describe()"
   ]
  },
  {
   "cell_type": "code",
   "execution_count": 35,
   "metadata": {
    "collapsed": false
   },
   "outputs": [
    {
     "data": {
      "text/html": [
       "<div>\n",
       "<table border=\"1\" class=\"dataframe\">\n",
       "  <thead>\n",
       "    <tr style=\"text-align: right;\">\n",
       "      <th></th>\n",
       "      <th>Gender</th>\n",
       "      <th>Weight</th>\n",
       "      <th>Tobacco__Drug_Use</th>\n",
       "      <th>Age</th>\n",
       "      <th>Weighted_Minutes</th>\n",
       "    </tr>\n",
       "  </thead>\n",
       "  <tbody>\n",
       "    <tr>\n",
       "      <th>4203</th>\n",
       "      <td>1</td>\n",
       "      <td>2294518.311576</td>\n",
       "      <td>90</td>\n",
       "      <td>80</td>\n",
       "      <td>2.065066e+08</td>\n",
       "    </tr>\n",
       "    <tr>\n",
       "      <th>780</th>\n",
       "      <td>1</td>\n",
       "      <td>3315154.212265</td>\n",
       "      <td>2</td>\n",
       "      <td>56</td>\n",
       "      <td>6.630308e+06</td>\n",
       "    </tr>\n",
       "    <tr>\n",
       "      <th>9268</th>\n",
       "      <td>1</td>\n",
       "      <td>8955189.380733</td>\n",
       "      <td>10</td>\n",
       "      <td>43</td>\n",
       "      <td>8.955189e+07</td>\n",
       "    </tr>\n",
       "    <tr>\n",
       "      <th>2897</th>\n",
       "      <td>1</td>\n",
       "      <td>2754025.869296</td>\n",
       "      <td>25</td>\n",
       "      <td>43</td>\n",
       "      <td>6.885065e+07</td>\n",
       "    </tr>\n",
       "    <tr>\n",
       "      <th>5608</th>\n",
       "      <td>1</td>\n",
       "      <td>5028766.282474</td>\n",
       "      <td>10</td>\n",
       "      <td>42</td>\n",
       "      <td>5.028766e+07</td>\n",
       "    </tr>\n",
       "  </tbody>\n",
       "</table>\n",
       "</div>"
      ],
      "text/plain": [
       "      Gender          Weight  Tobacco__Drug_Use  Age  Weighted_Minutes\n",
       "4203       1  2294518.311576                 90   80      2.065066e+08\n",
       "780        1  3315154.212265                  2   56      6.630308e+06\n",
       "9268       1  8955189.380733                 10   43      8.955189e+07\n",
       "2897       1  2754025.869296                 25   43      6.885065e+07\n",
       "5608       1  5028766.282474                 10   42      5.028766e+07"
      ]
     },
     "execution_count": 35,
     "metadata": {},
     "output_type": "execute_result"
    }
   ],
   "source": [
    "older_men = sorted_men_women.Gender == 1\n",
    "males_greater_than_thirty = sorted_men_women.Age > 30\n",
    "tobacco_usage = sorted_men_women.Tobacco__Drug_Use > 0\n",
    "older_men_tobacco = sorted_men_women[older_men & males_greater_than_thirty & tobacco_usage]\n",
    "older_men_tobacco.head()"
   ]
  },
  {
   "cell_type": "code",
   "execution_count": null,
   "metadata": {
    "collapsed": false
   },
   "outputs": [],
   "source": []
  }
 ],
 "metadata": {
  "kernelspec": {
   "display_name": "Python 3",
   "language": "python",
   "name": "python3"
  },
  "language_info": {
   "codemirror_mode": {
    "name": "ipython",
    "version": 3
   },
   "file_extension": ".py",
   "mimetype": "text/x-python",
   "name": "python",
   "nbconvert_exporter": "python",
   "pygments_lexer": "ipython3",
   "version": "3.4.3"
  }
 },
 "nbformat": 4,
 "nbformat_minor": 0
}
