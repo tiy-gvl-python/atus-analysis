{
 "cells": [
  {
   "cell_type": "code",
   "execution_count": 4,
   "metadata": {
    "collapsed": false
   },
   "outputs": [],
   "source": [
    "import pandas as pd\n",
    "import re"
   ]
  },
  {
   "cell_type": "code",
   "execution_count": 5,
   "metadata": {
    "collapsed": false
   },
   "outputs": [],
   "source": [
    "import matplotlib.pyplot as plt"
   ]
  },
  {
   "cell_type": "code",
   "execution_count": 6,
   "metadata": {
    "collapsed": false
   },
   "outputs": [],
   "source": [
    "%matplotlib inline"
   ]
  },
  {
   "cell_type": "code",
   "execution_count": 7,
   "metadata": {
    "collapsed": false
   },
   "outputs": [
    {
     "name": "stdout",
     "output_type": "stream",
     "text": [
      "<class 'pandas.core.frame.DataFrame'>\n",
      "Int64Index: 11385 entries, 0 to 11384\n",
      "Columns: 413 entries, tucaseid to t500107\n",
      "dtypes: float64(1), int64(412)\n",
      "memory usage: 36.0 MB\n"
     ]
    }
   ],
   "source": [
    "summary = pd.read_csv(\"atusdata/atussum_2013.dat\")\n",
    "summary.info()"
   ]
  },
  {
   "cell_type": "code",
   "execution_count": 8,
   "metadata": {
    "collapsed": false
   },
   "outputs": [
    {
     "data": {
      "text/plain": [
       "Index(['tucaseid', 'TUFINLWGT', 'TRYHHCHILD', 'TEAGE', 'TESEX', 'PEEDUCA',\n",
       "       'PTDTRACE', 'PEHSPNON', 'GTMETSTA', 'TELFS', \n",
       "       ...\n",
       "       't181501', 't181599', 't181601', 't181801', 't189999', 't500101',\n",
       "       't500103', 't500105', 't500106', 't500107'],\n",
       "      dtype='object', length=413)"
      ]
     },
     "execution_count": 8,
     "metadata": {},
     "output_type": "execute_result"
    }
   ],
   "source": [
    "summary.columns"
   ]
  },
  {
   "cell_type": "markdown",
   "metadata": {},
   "source": [
    "Pertinent columns:\n",
    "\n",
    "* TUFINLWGT - statistical weight of respondent\n",
    "* TRYHHCHILD - age of youngest child in household\n",
    "* TEAGE - age of respondent\n",
    "* TESEX - sex of respondent\n",
    "* TELFS - working status of respondent\n",
    "* TRCHILDNUM - number of children in household"
   ]
  },
  {
   "cell_type": "code",
   "execution_count": 9,
   "metadata": {
    "collapsed": false
   },
   "outputs": [
    {
     "data": {
      "text/html": [
       "<div style=\"max-height:1000px;max-width:1500px;overflow:auto;\">\n",
       "<table border=\"1\" class=\"dataframe\">\n",
       "  <thead>\n",
       "    <tr style=\"text-align: right;\">\n",
       "      <th></th>\n",
       "      <th>tucaseid</th>\n",
       "      <th>TUFINLWGT</th>\n",
       "      <th>TRYHHCHILD</th>\n",
       "      <th>TEAGE</th>\n",
       "      <th>TESEX</th>\n",
       "      <th>PEEDUCA</th>\n",
       "      <th>PTDTRACE</th>\n",
       "      <th>PEHSPNON</th>\n",
       "      <th>GTMETSTA</th>\n",
       "      <th>TELFS</th>\n",
       "      <th>...</th>\n",
       "      <th>t181501</th>\n",
       "      <th>t181599</th>\n",
       "      <th>t181601</th>\n",
       "      <th>t181801</th>\n",
       "      <th>t189999</th>\n",
       "      <th>t500101</th>\n",
       "      <th>t500103</th>\n",
       "      <th>t500105</th>\n",
       "      <th>t500106</th>\n",
       "      <th>t500107</th>\n",
       "    </tr>\n",
       "  </thead>\n",
       "  <tbody>\n",
       "    <tr>\n",
       "      <th>0</th>\n",
       "      <td>20130101130004</td>\n",
       "      <td>11899905.662034</td>\n",
       "      <td>12</td>\n",
       "      <td>22</td>\n",
       "      <td>2</td>\n",
       "      <td>40</td>\n",
       "      <td>8</td>\n",
       "      <td>2</td>\n",
       "      <td>1</td>\n",
       "      <td>5</td>\n",
       "      <td>...</td>\n",
       "      <td>0</td>\n",
       "      <td>0</td>\n",
       "      <td>0</td>\n",
       "      <td>0</td>\n",
       "      <td>0</td>\n",
       "      <td>0</td>\n",
       "      <td>0</td>\n",
       "      <td>0</td>\n",
       "      <td>0</td>\n",
       "      <td>0</td>\n",
       "    </tr>\n",
       "    <tr>\n",
       "      <th>1</th>\n",
       "      <td>20130101130112</td>\n",
       "      <td>4447638.009513</td>\n",
       "      <td>1</td>\n",
       "      <td>39</td>\n",
       "      <td>1</td>\n",
       "      <td>43</td>\n",
       "      <td>1</td>\n",
       "      <td>2</td>\n",
       "      <td>1</td>\n",
       "      <td>1</td>\n",
       "      <td>...</td>\n",
       "      <td>0</td>\n",
       "      <td>0</td>\n",
       "      <td>0</td>\n",
       "      <td>0</td>\n",
       "      <td>0</td>\n",
       "      <td>0</td>\n",
       "      <td>0</td>\n",
       "      <td>0</td>\n",
       "      <td>0</td>\n",
       "      <td>0</td>\n",
       "    </tr>\n",
       "    <tr>\n",
       "      <th>2</th>\n",
       "      <td>20130101130123</td>\n",
       "      <td>10377056.507734</td>\n",
       "      <td>-1</td>\n",
       "      <td>47</td>\n",
       "      <td>2</td>\n",
       "      <td>40</td>\n",
       "      <td>1</td>\n",
       "      <td>2</td>\n",
       "      <td>1</td>\n",
       "      <td>4</td>\n",
       "      <td>...</td>\n",
       "      <td>25</td>\n",
       "      <td>0</td>\n",
       "      <td>0</td>\n",
       "      <td>0</td>\n",
       "      <td>0</td>\n",
       "      <td>0</td>\n",
       "      <td>0</td>\n",
       "      <td>0</td>\n",
       "      <td>0</td>\n",
       "      <td>0</td>\n",
       "    </tr>\n",
       "    <tr>\n",
       "      <th>3</th>\n",
       "      <td>20130101130611</td>\n",
       "      <td>7731257.992805</td>\n",
       "      <td>-1</td>\n",
       "      <td>50</td>\n",
       "      <td>2</td>\n",
       "      <td>40</td>\n",
       "      <td>1</td>\n",
       "      <td>1</td>\n",
       "      <td>1</td>\n",
       "      <td>1</td>\n",
       "      <td>...</td>\n",
       "      <td>0</td>\n",
       "      <td>0</td>\n",
       "      <td>0</td>\n",
       "      <td>0</td>\n",
       "      <td>0</td>\n",
       "      <td>0</td>\n",
       "      <td>0</td>\n",
       "      <td>0</td>\n",
       "      <td>0</td>\n",
       "      <td>0</td>\n",
       "    </tr>\n",
       "    <tr>\n",
       "      <th>4</th>\n",
       "      <td>20130101130616</td>\n",
       "      <td>4725269.227067</td>\n",
       "      <td>-1</td>\n",
       "      <td>45</td>\n",
       "      <td>2</td>\n",
       "      <td>40</td>\n",
       "      <td>2</td>\n",
       "      <td>2</td>\n",
       "      <td>1</td>\n",
       "      <td>1</td>\n",
       "      <td>...</td>\n",
       "      <td>0</td>\n",
       "      <td>0</td>\n",
       "      <td>0</td>\n",
       "      <td>0</td>\n",
       "      <td>0</td>\n",
       "      <td>0</td>\n",
       "      <td>0</td>\n",
       "      <td>0</td>\n",
       "      <td>0</td>\n",
       "      <td>0</td>\n",
       "    </tr>\n",
       "  </tbody>\n",
       "</table>\n",
       "<p>5 rows × 413 columns</p>\n",
       "</div>"
      ],
      "text/plain": [
       "         tucaseid        TUFINLWGT  TRYHHCHILD  TEAGE  TESEX  PEEDUCA  \\\n",
       "0  20130101130004  11899905.662034          12     22      2       40   \n",
       "1  20130101130112   4447638.009513           1     39      1       43   \n",
       "2  20130101130123  10377056.507734          -1     47      2       40   \n",
       "3  20130101130611   7731257.992805          -1     50      2       40   \n",
       "4  20130101130616   4725269.227067          -1     45      2       40   \n",
       "\n",
       "   PTDTRACE  PEHSPNON  GTMETSTA  TELFS   ...     t181501  t181599  t181601  \\\n",
       "0         8         2         1      5   ...           0        0        0   \n",
       "1         1         2         1      1   ...           0        0        0   \n",
       "2         1         2         1      4   ...          25        0        0   \n",
       "3         1         1         1      1   ...           0        0        0   \n",
       "4         2         2         1      1   ...           0        0        0   \n",
       "\n",
       "   t181801  t189999  t500101  t500103  t500105  t500106  t500107  \n",
       "0        0        0        0        0        0        0        0  \n",
       "1        0        0        0        0        0        0        0  \n",
       "2        0        0        0        0        0        0        0  \n",
       "3        0        0        0        0        0        0        0  \n",
       "4        0        0        0        0        0        0        0  \n",
       "\n",
       "[5 rows x 413 columns]"
      ]
     },
     "execution_count": 9,
     "metadata": {},
     "output_type": "execute_result"
    }
   ],
   "source": [
    "summary.head()"
   ]
  },
  {
   "cell_type": "code",
   "execution_count": 10,
   "metadata": {
    "collapsed": false
   },
   "outputs": [],
   "source": [
    "adults_crit = summary.TEAGE >= 18\n",
    "no_children_crit = summary.TRCHILDNUM == 0"
   ]
  },
  {
   "cell_type": "code",
   "execution_count": 11,
   "metadata": {
    "collapsed": false
   },
   "outputs": [
    {
     "name": "stdout",
     "output_type": "stream",
     "text": [
      "<class 'pandas.core.frame.DataFrame'>\n",
      "Int64Index: 10953 entries, 0 to 11384\n",
      "Columns: 413 entries, tucaseid to t500107\n",
      "dtypes: float64(1), int64(412)\n",
      "memory usage: 34.6 MB\n"
     ]
    }
   ],
   "source": [
    "adults = summary[adults_crit]\n",
    "adults.info()"
   ]
  },
  {
   "cell_type": "code",
   "execution_count": 12,
   "metadata": {
    "collapsed": false
   },
   "outputs": [
    {
     "name": "stdout",
     "output_type": "stream",
     "text": [
      "<class 'pandas.core.frame.DataFrame'>\n",
      "Int64Index: 6481 entries, 2 to 11381\n",
      "Columns: 413 entries, tucaseid to t500107\n",
      "dtypes: float64(1), int64(412)\n",
      "memory usage: 20.5 MB\n"
     ]
    }
   ],
   "source": [
    "people_with_no_children = summary[no_children_crit]\n",
    "people_with_no_children.info()"
   ]
  },
  {
   "cell_type": "code",
   "execution_count": 13,
   "metadata": {
    "collapsed": false
   },
   "outputs": [
    {
     "name": "stdout",
     "output_type": "stream",
     "text": [
      "<class 'pandas.core.frame.DataFrame'>\n",
      "Int64Index: 6481 entries, 2 to 11381\n",
      "Columns: 413 entries, tucaseid to t500107\n",
      "dtypes: float64(1), int64(412)\n",
      "memory usage: 20.5 MB\n"
     ]
    }
   ],
   "source": [
    "adults_with_no_children = summary[adults_crit & no_children_crit]\n",
    "adults_with_no_children.info()"
   ]
  },
  {
   "cell_type": "code",
   "execution_count": 14,
   "metadata": {
    "collapsed": false
   },
   "outputs": [
    {
     "data": {
      "text/html": [
       "<div style=\"max-height:1000px;max-width:1500px;overflow:auto;\">\n",
       "<table border=\"1\" class=\"dataframe\">\n",
       "  <thead>\n",
       "    <tr style=\"text-align: right;\">\n",
       "      <th></th>\n",
       "      <th>weight</th>\n",
       "      <th>minutes</th>\n",
       "    </tr>\n",
       "  </thead>\n",
       "  <tbody>\n",
       "    <tr>\n",
       "      <th>2</th>\n",
       "      <td>10377056.507734</td>\n",
       "      <td>60</td>\n",
       "    </tr>\n",
       "    <tr>\n",
       "      <th>3</th>\n",
       "      <td>7731257.992805</td>\n",
       "      <td>65</td>\n",
       "    </tr>\n",
       "    <tr>\n",
       "      <th>4</th>\n",
       "      <td>4725269.227067</td>\n",
       "      <td>90</td>\n",
       "    </tr>\n",
       "    <tr>\n",
       "      <th>5</th>\n",
       "      <td>2372791.046351</td>\n",
       "      <td>270</td>\n",
       "    </tr>\n",
       "    <tr>\n",
       "      <th>6</th>\n",
       "      <td>5671341.270490</td>\n",
       "      <td>244</td>\n",
       "    </tr>\n",
       "  </tbody>\n",
       "</table>\n",
       "</div>"
      ],
      "text/plain": [
       "            weight  minutes\n",
       "2  10377056.507734       60\n",
       "3   7731257.992805       65\n",
       "4   4725269.227067       90\n",
       "5   2372791.046351      270\n",
       "6   5671341.270490      244"
      ]
     },
     "execution_count": 14,
     "metadata": {},
     "output_type": "execute_result"
    }
   ],
   "source": [
    "data = adults_with_no_children[['TUFINLWGT', 't120303']]\n",
    "data = data.rename(columns={\"TUFINLWGT\": \"weight\", \"t120303\": \"minutes\"})\n",
    "data.head()"
   ]
  },
  {
   "cell_type": "code",
   "execution_count": 15,
   "metadata": {
    "collapsed": false
   },
   "outputs": [],
   "source": [
    "data['weighted_minutes'] = data.weight * data.minutes"
   ]
  },
  {
   "cell_type": "code",
   "execution_count": 16,
   "metadata": {
    "collapsed": false
   },
   "outputs": [
    {
     "data": {
      "text/html": [
       "<div style=\"max-height:1000px;max-width:1500px;overflow:auto;\">\n",
       "<table border=\"1\" class=\"dataframe\">\n",
       "  <thead>\n",
       "    <tr style=\"text-align: right;\">\n",
       "      <th></th>\n",
       "      <th>weight</th>\n",
       "      <th>minutes</th>\n",
       "      <th>weighted_minutes</th>\n",
       "    </tr>\n",
       "  </thead>\n",
       "  <tbody>\n",
       "    <tr>\n",
       "      <th>2</th>\n",
       "      <td>10377056.507734</td>\n",
       "      <td>60</td>\n",
       "      <td>6.226234e+08</td>\n",
       "    </tr>\n",
       "    <tr>\n",
       "      <th>3</th>\n",
       "      <td>7731257.992805</td>\n",
       "      <td>65</td>\n",
       "      <td>5.025318e+08</td>\n",
       "    </tr>\n",
       "    <tr>\n",
       "      <th>4</th>\n",
       "      <td>4725269.227067</td>\n",
       "      <td>90</td>\n",
       "      <td>4.252742e+08</td>\n",
       "    </tr>\n",
       "    <tr>\n",
       "      <th>5</th>\n",
       "      <td>2372791.046351</td>\n",
       "      <td>270</td>\n",
       "      <td>6.406536e+08</td>\n",
       "    </tr>\n",
       "    <tr>\n",
       "      <th>6</th>\n",
       "      <td>5671341.270490</td>\n",
       "      <td>244</td>\n",
       "      <td>1.383807e+09</td>\n",
       "    </tr>\n",
       "  </tbody>\n",
       "</table>\n",
       "</div>"
      ],
      "text/plain": [
       "            weight  minutes  weighted_minutes\n",
       "2  10377056.507734       60      6.226234e+08\n",
       "3   7731257.992805       65      5.025318e+08\n",
       "4   4725269.227067       90      4.252742e+08\n",
       "5   2372791.046351      270      6.406536e+08\n",
       "6   5671341.270490      244      1.383807e+09"
      ]
     },
     "execution_count": 16,
     "metadata": {},
     "output_type": "execute_result"
    }
   ],
   "source": [
    "data.head()"
   ]
  },
  {
   "cell_type": "code",
   "execution_count": 17,
   "metadata": {
    "collapsed": false
   },
   "outputs": [
    {
     "data": {
      "text/plain": [
       "211.67427866070051"
      ]
     },
     "execution_count": 17,
     "metadata": {},
     "output_type": "execute_result"
    }
   ],
   "source": [
    "# Minutes on average spent watching TV (unweighted) - DO NOT USE\n",
    "data.minutes.sum() / len(data)"
   ]
  },
  {
   "cell_type": "code",
   "execution_count": 18,
   "metadata": {
    "collapsed": false
   },
   "outputs": [
    {
     "data": {
      "text/plain": [
       "190.25402840855642"
      ]
     },
     "execution_count": 18,
     "metadata": {},
     "output_type": "execute_result"
    }
   ],
   "source": [
    "# Minutes on average spent watching TV (weighted)\n",
    "data.weighted_minutes.sum() / data.weight.sum()"
   ]
  },
  {
   "cell_type": "code",
   "execution_count": 19,
   "metadata": {
    "collapsed": false
   },
   "outputs": [],
   "source": [
    "def average_minutes(data, activity_code):\n",
    "    activity_col = \"t{}\".format(activity_code)\n",
    "    data = data[['TUFINLWGT', activity_col]]\n",
    "    data = data.rename(columns={\"TUFINLWGT\": \"weight\", activity_col: \"minutes\"})\n",
    "    data['weighted_minutes'] = data.weight * data.minutes\n",
    "    return data.weighted_minutes.sum() / data.weight.sum()"
   ]
  },
  {
   "cell_type": "code",
   "execution_count": 20,
   "metadata": {
    "collapsed": false
   },
   "outputs": [
    {
     "data": {
      "text/plain": [
       "8.7508537061809992"
      ]
     },
     "execution_count": 20,
     "metadata": {},
     "output_type": "execute_result"
    }
   ],
   "source": [
    "sleeping = average_minutes(adults_with_no_children, \"010101\")\n",
    "sleepless = average_minutes(adults_with_no_children, \"010102\")\n",
    "(sleeping + sleepless) / 60 # hours"
   ]
  },
  {
   "cell_type": "code",
   "execution_count": 21,
   "metadata": {
    "collapsed": false
   },
   "outputs": [],
   "source": [
    "def activity_columns(data, activity_code):\n",
    "    \"\"\"For the activity code given, return all columns that fall under that activity.\"\"\"\n",
    "    col_prefix = \"t{}\".format(activity_code)\n",
    "    return [column for column in data.columns if re.match(col_prefix, column)]"
   ]
  },
  {
   "cell_type": "code",
   "execution_count": 22,
   "metadata": {
    "collapsed": false
   },
   "outputs": [
    {
     "data": {
      "text/plain": [
       "['t010101', 't010102']"
      ]
     },
     "execution_count": 22,
     "metadata": {},
     "output_type": "execute_result"
    }
   ],
   "source": [
    "activity_columns(summary, \"0101\")"
   ]
  },
  {
   "cell_type": "code",
   "execution_count": 23,
   "metadata": {
    "collapsed": false
   },
   "outputs": [],
   "source": [
    "def average_minutes2(data, activity_code):\n",
    "    cols = activity_columns(data, activity_code)\n",
    "    activity_data = data[cols]\n",
    "    activity_sums = activity_data.sum(axis=1)\n",
    "    data = data[['TUFINLWGT']]\n",
    "    data['minutes'] = activity_sums\n",
    "    data = data.rename(columns={\"TUFINLWGT\": \"weight\"})\n",
    "    data['weighted_minutes'] = data.weight * data.minutes\n",
    "    return data.weighted_minutes.sum() / data.weight.sum()"
   ]
  },
  {
   "cell_type": "code",
   "execution_count": 24,
   "metadata": {
    "collapsed": false
   },
   "outputs": [
    {
     "name": "stderr",
     "output_type": "stream",
     "text": [
      "/Users/BekkBlando/asd/lib/python3.4/site-packages/IPython/kernel/__main__.py:6: SettingWithCopyWarning: \n",
      "A value is trying to be set on a copy of a slice from a DataFrame.\n",
      "Try using .loc[row_indexer,col_indexer] = value instead\n",
      "\n",
      "See the the caveats in the documentation: http://pandas.pydata.org/pandas-docs/stable/indexing.html#indexing-view-versus-copy\n"
     ]
    },
    {
     "data": {
      "text/plain": [
       "8.750853706181001"
      ]
     },
     "execution_count": 24,
     "metadata": {},
     "output_type": "execute_result"
    }
   ],
   "source": [
    "average_minutes2(adults_with_no_children, \"0101\") / 60"
   ]
  },
  {
   "cell_type": "code",
   "execution_count": 25,
   "metadata": {
    "collapsed": false
   },
   "outputs": [
    {
     "name": "stderr",
     "output_type": "stream",
     "text": [
      "/Users/BekkBlando/asd/lib/python3.4/site-packages/IPython/kernel/__main__.py:6: SettingWithCopyWarning: \n",
      "A value is trying to be set on a copy of a slice from a DataFrame.\n",
      "Try using .loc[row_indexer,col_indexer] = value instead\n",
      "\n",
      "See the the caveats in the documentation: http://pandas.pydata.org/pandas-docs/stable/indexing.html#indexing-view-versus-copy\n"
     ]
    },
    {
     "data": {
      "text/plain": [
       "9.5541911543273592"
      ]
     },
     "execution_count": 25,
     "metadata": {},
     "output_type": "execute_result"
    }
   ],
   "source": [
    "average_minutes2(adults_with_no_children, \"01\") / 60"
   ]
  },
  {
   "cell_type": "code",
   "execution_count": 26,
   "metadata": {
    "collapsed": false
   },
   "outputs": [
    {
     "name": "stdout",
     "output_type": "stream",
     "text": [
      "Help on method groupby in module pandas.core.generic:\n",
      "\n",
      "groupby(by=None, axis=0, level=None, as_index=True, sort=True, group_keys=True, squeeze=False) method of pandas.core.frame.DataFrame instance\n",
      "    Group series using mapper (dict or key function, apply given function\n",
      "    to group, return result as series) or by a series of columns\n",
      "    \n",
      "    Parameters\n",
      "    ----------\n",
      "    by : mapping function / list of functions, dict, Series, or tuple /\n",
      "        list of column names.\n",
      "        Called on each element of the object index to determine the groups.\n",
      "        If a dict or Series is passed, the Series or dict VALUES will be\n",
      "        used to determine the groups\n",
      "    axis : int, default 0\n",
      "    level : int, level name, or sequence of such, default None\n",
      "        If the axis is a MultiIndex (hierarchical), group by a particular\n",
      "        level or levels\n",
      "    as_index : boolean, default True\n",
      "        For aggregated output, return object with group labels as the\n",
      "        index. Only relevant for DataFrame input. as_index=False is\n",
      "        effectively \"SQL-style\" grouped output\n",
      "    sort : boolean, default True\n",
      "        Sort group keys. Get better performance by turning this off\n",
      "    group_keys : boolean, default True\n",
      "        When calling apply, add group keys to index to identify pieces\n",
      "    squeeze : boolean, default False\n",
      "        reduce the dimensionaility of the return type if possible,\n",
      "        otherwise return a consistent type\n",
      "    \n",
      "    Examples\n",
      "    --------\n",
      "    DataFrame results\n",
      "    \n",
      "    >>> data.groupby(func, axis=0).mean()\n",
      "    >>> data.groupby(['col1', 'col2'])['col3'].mean()\n",
      "    \n",
      "    DataFrame with hierarchical index\n",
      "    \n",
      "    >>> data.groupby(['col1', 'col2']).mean()\n",
      "    \n",
      "    Returns\n",
      "    -------\n",
      "    GroupBy object\n",
      "\n"
     ]
    }
   ],
   "source": [
    "# grouping\n",
    "help(adults_with_no_children.groupby)"
   ]
  },
  {
   "cell_type": "markdown",
   "metadata": {},
   "source": [
    "## Joining files"
   ]
  },
  {
   "cell_type": "code",
   "execution_count": 27,
   "metadata": {
    "collapsed": false
   },
   "outputs": [],
   "source": [
    "respondents = pd.read_csv(\"atusdata/atusresp_2013/atusresp_2013.dat\")\n",
    "activities = pd.read_csv(\"atusdata/atusact_2013/atusact_2013.dat\")"
   ]
  },
  {
   "cell_type": "code",
   "execution_count": 28,
   "metadata": {
    "collapsed": false
   },
   "outputs": [
    {
     "name": "stdout",
     "output_type": "stream",
     "text": [
      "<class 'pandas.core.frame.DataFrame'>\n",
      "Int64Index: 11385 entries, 0 to 11384\n",
      "Columns: 175 entries, TUCASEID to TXTONHH\n",
      "dtypes: float64(1), int64(172), object(2)\n",
      "memory usage: 15.3+ MB\n"
     ]
    }
   ],
   "source": [
    "respondents.info()"
   ]
  },
  {
   "cell_type": "code",
   "execution_count": 29,
   "metadata": {
    "collapsed": false
   },
   "outputs": [
    {
     "name": "stdout",
     "output_type": "stream",
     "text": [
      "<class 'pandas.core.frame.DataFrame'>\n",
      "Int64Index: 215576 entries, 0 to 215575\n",
      "Data columns (total 31 columns):\n",
      "TUCASEID        215576 non-null int64\n",
      "TUACTIVITY_N    215576 non-null int64\n",
      "TEWHERE         215576 non-null int64\n",
      "TRTCCTOT_LN     215576 non-null int64\n",
      "TRTCC_LN        215576 non-null int64\n",
      "TRTCOC_LN       215576 non-null int64\n",
      "TRTEC_LN        215576 non-null int64\n",
      "TRTHH_LN        215576 non-null int64\n",
      "TRTNOHH_LN      215576 non-null int64\n",
      "TRTOHH_LN       215576 non-null int64\n",
      "TRTONHH_LN      215576 non-null int64\n",
      "TRTO_LN         215576 non-null int64\n",
      "TRWBELIG        215576 non-null int64\n",
      "TUACTDUR        215576 non-null int64\n",
      "TUACTDUR24      215576 non-null int64\n",
      "TUCC5           215576 non-null int64\n",
      "TUCC5B          215576 non-null int64\n",
      "TUCC7           215576 non-null int64\n",
      "TUCC8           215576 non-null int64\n",
      "TUCUMDUR        215576 non-null int64\n",
      "TUCUMDUR24      215576 non-null int64\n",
      "TUDURSTOP       215576 non-null int64\n",
      "TUEC24          215576 non-null int64\n",
      "TUSTARTTIM      215576 non-null object\n",
      "TUSTOPTIME      215576 non-null object\n",
      "TUTIER1CODE     215576 non-null int64\n",
      "TUTIER2CODE     215576 non-null int64\n",
      "TUTIER3CODE     215576 non-null int64\n",
      "TRCODE          215576 non-null int64\n",
      "TRTIER2         215576 non-null int64\n",
      "TXWHERE         215576 non-null int64\n",
      "dtypes: int64(29), object(2)\n",
      "memory usage: 52.6+ MB\n"
     ]
    }
   ],
   "source": [
    "activities.info()"
   ]
  },
  {
   "cell_type": "code",
   "execution_count": 30,
   "metadata": {
    "collapsed": false
   },
   "outputs": [
    {
     "data": {
      "text/html": [
       "<div style=\"max-height:1000px;max-width:1500px;overflow:auto;\">\n",
       "<table border=\"1\" class=\"dataframe\">\n",
       "  <thead>\n",
       "    <tr style=\"text-align: right;\">\n",
       "      <th></th>\n",
       "      <th>TUCASEID</th>\n",
       "      <th>TULINENO</th>\n",
       "      <th>TUYEAR</th>\n",
       "      <th>TUMONTH</th>\n",
       "      <th>TEABSRSN</th>\n",
       "      <th>TEERN</th>\n",
       "      <th>TEERNH1O</th>\n",
       "      <th>TEERNH2</th>\n",
       "      <th>TEERNHRO</th>\n",
       "      <th>TEERNHRY</th>\n",
       "      <th>...</th>\n",
       "      <th>TXSPEMPNOT</th>\n",
       "      <th>TXSPUHRS</th>\n",
       "      <th>TXTCC</th>\n",
       "      <th>TXTCCTOT</th>\n",
       "      <th>TXTCOC</th>\n",
       "      <th>TXTHH</th>\n",
       "      <th>TXTNOHH</th>\n",
       "      <th>TXTO</th>\n",
       "      <th>TXTOHH</th>\n",
       "      <th>TXTONHH</th>\n",
       "    </tr>\n",
       "  </thead>\n",
       "  <tbody>\n",
       "    <tr>\n",
       "      <th>0</th>\n",
       "      <td>20130101130004</td>\n",
       "      <td>1</td>\n",
       "      <td>2013</td>\n",
       "      <td>1</td>\n",
       "      <td>-1</td>\n",
       "      <td>-1</td>\n",
       "      <td>-1</td>\n",
       "      <td>-1</td>\n",
       "      <td>-1</td>\n",
       "      <td>-1</td>\n",
       "      <td>...</td>\n",
       "      <td>-1</td>\n",
       "      <td>-1</td>\n",
       "      <td>0</td>\n",
       "      <td>0</td>\n",
       "      <td>0</td>\n",
       "      <td>0</td>\n",
       "      <td>0</td>\n",
       "      <td>-1</td>\n",
       "      <td>-1</td>\n",
       "      <td>-1</td>\n",
       "    </tr>\n",
       "    <tr>\n",
       "      <th>1</th>\n",
       "      <td>20130101130112</td>\n",
       "      <td>1</td>\n",
       "      <td>2013</td>\n",
       "      <td>1</td>\n",
       "      <td>-1</td>\n",
       "      <td>-1</td>\n",
       "      <td>-1</td>\n",
       "      <td>-1</td>\n",
       "      <td>-1</td>\n",
       "      <td>2</td>\n",
       "      <td>...</td>\n",
       "      <td>0</td>\n",
       "      <td>0</td>\n",
       "      <td>0</td>\n",
       "      <td>0</td>\n",
       "      <td>0</td>\n",
       "      <td>0</td>\n",
       "      <td>-1</td>\n",
       "      <td>0</td>\n",
       "      <td>0</td>\n",
       "      <td>-1</td>\n",
       "    </tr>\n",
       "    <tr>\n",
       "      <th>2</th>\n",
       "      <td>20130101130123</td>\n",
       "      <td>1</td>\n",
       "      <td>2013</td>\n",
       "      <td>1</td>\n",
       "      <td>-1</td>\n",
       "      <td>-1</td>\n",
       "      <td>-1</td>\n",
       "      <td>-1</td>\n",
       "      <td>-1</td>\n",
       "      <td>-1</td>\n",
       "      <td>...</td>\n",
       "      <td>0</td>\n",
       "      <td>0</td>\n",
       "      <td>-1</td>\n",
       "      <td>0</td>\n",
       "      <td>0</td>\n",
       "      <td>-1</td>\n",
       "      <td>-1</td>\n",
       "      <td>-1</td>\n",
       "      <td>-1</td>\n",
       "      <td>-1</td>\n",
       "    </tr>\n",
       "    <tr>\n",
       "      <th>3</th>\n",
       "      <td>20130101130611</td>\n",
       "      <td>1</td>\n",
       "      <td>2013</td>\n",
       "      <td>1</td>\n",
       "      <td>-1</td>\n",
       "      <td>-1</td>\n",
       "      <td>-1</td>\n",
       "      <td>-1</td>\n",
       "      <td>-1</td>\n",
       "      <td>2</td>\n",
       "      <td>...</td>\n",
       "      <td>-1</td>\n",
       "      <td>-1</td>\n",
       "      <td>-1</td>\n",
       "      <td>0</td>\n",
       "      <td>0</td>\n",
       "      <td>-1</td>\n",
       "      <td>-1</td>\n",
       "      <td>-1</td>\n",
       "      <td>-1</td>\n",
       "      <td>-1</td>\n",
       "    </tr>\n",
       "    <tr>\n",
       "      <th>4</th>\n",
       "      <td>20130101130616</td>\n",
       "      <td>1</td>\n",
       "      <td>2013</td>\n",
       "      <td>1</td>\n",
       "      <td>-1</td>\n",
       "      <td>-1</td>\n",
       "      <td>-1</td>\n",
       "      <td>-1</td>\n",
       "      <td>-1</td>\n",
       "      <td>2</td>\n",
       "      <td>...</td>\n",
       "      <td>-1</td>\n",
       "      <td>-1</td>\n",
       "      <td>-1</td>\n",
       "      <td>0</td>\n",
       "      <td>0</td>\n",
       "      <td>-1</td>\n",
       "      <td>-1</td>\n",
       "      <td>-1</td>\n",
       "      <td>-1</td>\n",
       "      <td>-1</td>\n",
       "    </tr>\n",
       "  </tbody>\n",
       "</table>\n",
       "<p>5 rows × 175 columns</p>\n",
       "</div>"
      ],
      "text/plain": [
       "         TUCASEID  TULINENO  TUYEAR  TUMONTH  TEABSRSN  TEERN  TEERNH1O  \\\n",
       "0  20130101130004         1    2013        1        -1     -1        -1   \n",
       "1  20130101130112         1    2013        1        -1     -1        -1   \n",
       "2  20130101130123         1    2013        1        -1     -1        -1   \n",
       "3  20130101130611         1    2013        1        -1     -1        -1   \n",
       "4  20130101130616         1    2013        1        -1     -1        -1   \n",
       "\n",
       "   TEERNH2  TEERNHRO  TEERNHRY   ...     TXSPEMPNOT  TXSPUHRS  TXTCC  \\\n",
       "0       -1        -1        -1   ...             -1        -1      0   \n",
       "1       -1        -1         2   ...              0         0      0   \n",
       "2       -1        -1        -1   ...              0         0     -1   \n",
       "3       -1        -1         2   ...             -1        -1     -1   \n",
       "4       -1        -1         2   ...             -1        -1     -1   \n",
       "\n",
       "   TXTCCTOT  TXTCOC  TXTHH  TXTNOHH  TXTO  TXTOHH  TXTONHH  \n",
       "0         0       0      0        0    -1      -1       -1  \n",
       "1         0       0      0       -1     0       0       -1  \n",
       "2         0       0     -1       -1    -1      -1       -1  \n",
       "3         0       0     -1       -1    -1      -1       -1  \n",
       "4         0       0     -1       -1    -1      -1       -1  \n",
       "\n",
       "[5 rows x 175 columns]"
      ]
     },
     "execution_count": 30,
     "metadata": {},
     "output_type": "execute_result"
    }
   ],
   "source": [
    "respondents.head()"
   ]
  },
  {
   "cell_type": "code",
   "execution_count": 31,
   "metadata": {
    "collapsed": false
   },
   "outputs": [
    {
     "data": {
      "text/html": [
       "<div style=\"max-height:1000px;max-width:1500px;overflow:auto;\">\n",
       "<table border=\"1\" class=\"dataframe\">\n",
       "  <thead>\n",
       "    <tr style=\"text-align: right;\">\n",
       "      <th></th>\n",
       "      <th>TUCASEID</th>\n",
       "      <th>TUACTIVITY_N</th>\n",
       "      <th>TEWHERE</th>\n",
       "      <th>TRTCCTOT_LN</th>\n",
       "      <th>TRTCC_LN</th>\n",
       "      <th>TRTCOC_LN</th>\n",
       "      <th>TRTEC_LN</th>\n",
       "      <th>TRTHH_LN</th>\n",
       "      <th>TRTNOHH_LN</th>\n",
       "      <th>TRTOHH_LN</th>\n",
       "      <th>...</th>\n",
       "      <th>TUDURSTOP</th>\n",
       "      <th>TUEC24</th>\n",
       "      <th>TUSTARTTIM</th>\n",
       "      <th>TUSTOPTIME</th>\n",
       "      <th>TUTIER1CODE</th>\n",
       "      <th>TUTIER2CODE</th>\n",
       "      <th>TUTIER3CODE</th>\n",
       "      <th>TRCODE</th>\n",
       "      <th>TRTIER2</th>\n",
       "      <th>TXWHERE</th>\n",
       "    </tr>\n",
       "  </thead>\n",
       "  <tbody>\n",
       "    <tr>\n",
       "      <th>0</th>\n",
       "      <td>20130101130004</td>\n",
       "      <td>1</td>\n",
       "      <td>-1</td>\n",
       "      <td>0</td>\n",
       "      <td>0</td>\n",
       "      <td>0</td>\n",
       "      <td>-1</td>\n",
       "      <td>0</td>\n",
       "      <td>0</td>\n",
       "      <td>-1</td>\n",
       "      <td>...</td>\n",
       "      <td>2</td>\n",
       "      <td>-1</td>\n",
       "      <td>04:00:00</td>\n",
       "      <td>12:00:00</td>\n",
       "      <td>1</td>\n",
       "      <td>1</td>\n",
       "      <td>1</td>\n",
       "      <td>10101</td>\n",
       "      <td>101</td>\n",
       "      <td>0</td>\n",
       "    </tr>\n",
       "    <tr>\n",
       "      <th>1</th>\n",
       "      <td>20130101130004</td>\n",
       "      <td>2</td>\n",
       "      <td>1</td>\n",
       "      <td>5</td>\n",
       "      <td>5</td>\n",
       "      <td>0</td>\n",
       "      <td>-1</td>\n",
       "      <td>5</td>\n",
       "      <td>5</td>\n",
       "      <td>-1</td>\n",
       "      <td>...</td>\n",
       "      <td>1</td>\n",
       "      <td>-1</td>\n",
       "      <td>12:00:00</td>\n",
       "      <td>12:05:00</td>\n",
       "      <td>11</td>\n",
       "      <td>1</td>\n",
       "      <td>1</td>\n",
       "      <td>110101</td>\n",
       "      <td>1101</td>\n",
       "      <td>0</td>\n",
       "    </tr>\n",
       "    <tr>\n",
       "      <th>2</th>\n",
       "      <td>20130101130004</td>\n",
       "      <td>3</td>\n",
       "      <td>1</td>\n",
       "      <td>120</td>\n",
       "      <td>120</td>\n",
       "      <td>0</td>\n",
       "      <td>-1</td>\n",
       "      <td>120</td>\n",
       "      <td>120</td>\n",
       "      <td>-1</td>\n",
       "      <td>...</td>\n",
       "      <td>1</td>\n",
       "      <td>-1</td>\n",
       "      <td>12:05:00</td>\n",
       "      <td>14:05:00</td>\n",
       "      <td>12</td>\n",
       "      <td>3</td>\n",
       "      <td>3</td>\n",
       "      <td>120303</td>\n",
       "      <td>1203</td>\n",
       "      <td>0</td>\n",
       "    </tr>\n",
       "    <tr>\n",
       "      <th>3</th>\n",
       "      <td>20130101130004</td>\n",
       "      <td>4</td>\n",
       "      <td>1</td>\n",
       "      <td>0</td>\n",
       "      <td>0</td>\n",
       "      <td>0</td>\n",
       "      <td>-1</td>\n",
       "      <td>0</td>\n",
       "      <td>0</td>\n",
       "      <td>-1</td>\n",
       "      <td>...</td>\n",
       "      <td>2</td>\n",
       "      <td>-1</td>\n",
       "      <td>14:05:00</td>\n",
       "      <td>19:00:00</td>\n",
       "      <td>6</td>\n",
       "      <td>3</td>\n",
       "      <td>1</td>\n",
       "      <td>60301</td>\n",
       "      <td>603</td>\n",
       "      <td>0</td>\n",
       "    </tr>\n",
       "    <tr>\n",
       "      <th>4</th>\n",
       "      <td>20130101130004</td>\n",
       "      <td>5</td>\n",
       "      <td>1</td>\n",
       "      <td>30</td>\n",
       "      <td>30</td>\n",
       "      <td>0</td>\n",
       "      <td>-1</td>\n",
       "      <td>30</td>\n",
       "      <td>30</td>\n",
       "      <td>-1</td>\n",
       "      <td>...</td>\n",
       "      <td>1</td>\n",
       "      <td>-1</td>\n",
       "      <td>19:00:00</td>\n",
       "      <td>19:30:00</td>\n",
       "      <td>11</td>\n",
       "      <td>1</td>\n",
       "      <td>1</td>\n",
       "      <td>110101</td>\n",
       "      <td>1101</td>\n",
       "      <td>0</td>\n",
       "    </tr>\n",
       "  </tbody>\n",
       "</table>\n",
       "<p>5 rows × 31 columns</p>\n",
       "</div>"
      ],
      "text/plain": [
       "         TUCASEID  TUACTIVITY_N  TEWHERE  TRTCCTOT_LN  TRTCC_LN  TRTCOC_LN  \\\n",
       "0  20130101130004             1       -1            0         0          0   \n",
       "1  20130101130004             2        1            5         5          0   \n",
       "2  20130101130004             3        1          120       120          0   \n",
       "3  20130101130004             4        1            0         0          0   \n",
       "4  20130101130004             5        1           30        30          0   \n",
       "\n",
       "   TRTEC_LN  TRTHH_LN  TRTNOHH_LN  TRTOHH_LN   ...     TUDURSTOP  TUEC24  \\\n",
       "0        -1         0           0         -1   ...             2      -1   \n",
       "1        -1         5           5         -1   ...             1      -1   \n",
       "2        -1       120         120         -1   ...             1      -1   \n",
       "3        -1         0           0         -1   ...             2      -1   \n",
       "4        -1        30          30         -1   ...             1      -1   \n",
       "\n",
       "   TUSTARTTIM  TUSTOPTIME  TUTIER1CODE  TUTIER2CODE  TUTIER3CODE  TRCODE  \\\n",
       "0    04:00:00    12:00:00            1            1            1   10101   \n",
       "1    12:00:00    12:05:00           11            1            1  110101   \n",
       "2    12:05:00    14:05:00           12            3            3  120303   \n",
       "3    14:05:00    19:00:00            6            3            1   60301   \n",
       "4    19:00:00    19:30:00           11            1            1  110101   \n",
       "\n",
       "   TRTIER2  TXWHERE  \n",
       "0      101        0  \n",
       "1     1101        0  \n",
       "2     1203        0  \n",
       "3      603        0  \n",
       "4     1101        0  \n",
       "\n",
       "[5 rows x 31 columns]"
      ]
     },
     "execution_count": 31,
     "metadata": {},
     "output_type": "execute_result"
    }
   ],
   "source": [
    "activities.head()"
   ]
  },
  {
   "cell_type": "code",
   "execution_count": 32,
   "metadata": {
    "collapsed": false
   },
   "outputs": [
    {
     "name": "stdout",
     "output_type": "stream",
     "text": [
      "<class 'pandas.core.frame.DataFrame'>\n",
      "Int64Index: 215576 entries, 0 to 215575\n",
      "Columns: 205 entries, TUCASEID to TXWHERE\n",
      "dtypes: float64(1), int64(200), object(4)\n",
      "memory usage: 338.8+ MB\n"
     ]
    }
   ],
   "source": [
    "merged = pd.merge(respondents, activities, left_on=\"TUCASEID\", right_on=\"TUCASEID\")\n",
    "merged.info()"
   ]
  },
  {
   "cell_type": "code",
   "execution_count": 33,
   "metadata": {
    "collapsed": false
   },
   "outputs": [
    {
     "data": {
      "text/html": [
       "<div style=\"max-height:1000px;max-width:1500px;overflow:auto;\">\n",
       "<table border=\"1\" class=\"dataframe\">\n",
       "  <thead>\n",
       "    <tr style=\"text-align: right;\">\n",
       "      <th></th>\n",
       "      <th>TUCASEID</th>\n",
       "      <th>TUACTIVITY_N</th>\n",
       "      <th>TXTCOC</th>\n",
       "    </tr>\n",
       "  </thead>\n",
       "  <tbody>\n",
       "    <tr>\n",
       "      <th>0</th>\n",
       "      <td>20130101130004</td>\n",
       "      <td>1</td>\n",
       "      <td>0</td>\n",
       "    </tr>\n",
       "    <tr>\n",
       "      <th>1</th>\n",
       "      <td>20130101130004</td>\n",
       "      <td>2</td>\n",
       "      <td>0</td>\n",
       "    </tr>\n",
       "    <tr>\n",
       "      <th>2</th>\n",
       "      <td>20130101130004</td>\n",
       "      <td>3</td>\n",
       "      <td>0</td>\n",
       "    </tr>\n",
       "    <tr>\n",
       "      <th>3</th>\n",
       "      <td>20130101130004</td>\n",
       "      <td>4</td>\n",
       "      <td>0</td>\n",
       "    </tr>\n",
       "    <tr>\n",
       "      <th>4</th>\n",
       "      <td>20130101130004</td>\n",
       "      <td>5</td>\n",
       "      <td>0</td>\n",
       "    </tr>\n",
       "  </tbody>\n",
       "</table>\n",
       "</div>"
      ],
      "text/plain": [
       "         TUCASEID  TUACTIVITY_N  TXTCOC\n",
       "0  20130101130004             1       0\n",
       "1  20130101130004             2       0\n",
       "2  20130101130004             3       0\n",
       "3  20130101130004             4       0\n",
       "4  20130101130004             5       0"
      ]
     },
     "execution_count": 33,
     "metadata": {},
     "output_type": "execute_result"
    }
   ],
   "source": [
    "merged[[\"TUCASEID\", \"TUACTIVITY_N\", \"TXTCOC\"]].head()"
   ]
  },
  {
   "cell_type": "code",
   "execution_count": 34,
   "metadata": {
    "collapsed": false
   },
   "outputs": [],
   "source": [
    "telfs = pd.Series({1: \"Employed - at work\",\n",
    "                   2: \"Employed - absent\",\n",
    "                   3: \"Unemployed - laid off\",\n",
    "                   4: \"Unemployed - looking\",\n",
    "                   5: \"Not in labor force\"})"
   ]
  },
  {
   "cell_type": "code",
   "execution_count": 35,
   "metadata": {
    "collapsed": false
   },
   "outputs": [
    {
     "data": {
      "text/plain": [
       "1       Employed - at work\n",
       "2        Employed - absent\n",
       "3    Unemployed - laid off\n",
       "4     Unemployed - looking\n",
       "5       Not in labor force\n",
       "dtype: object"
      ]
     },
     "execution_count": 35,
     "metadata": {},
     "output_type": "execute_result"
    }
   ],
   "source": [
    "telfs"
   ]
  },
  {
   "cell_type": "code",
   "execution_count": 36,
   "metadata": {
    "collapsed": false,
    "scrolled": true
   },
   "outputs": [
    {
     "data": {
      "text/plain": [
       "0          Not in labor force\n",
       "1          Employed - at work\n",
       "2        Unemployed - looking\n",
       "3          Employed - at work\n",
       "4          Employed - at work\n",
       "5          Not in labor force\n",
       "6          Not in labor force\n",
       "7          Employed - at work\n",
       "8          Employed - at work\n",
       "9          Employed - at work\n",
       "10         Employed - at work\n",
       "11         Employed - at work\n",
       "12         Employed - at work\n",
       "13         Employed - at work\n",
       "14         Not in labor force\n",
       "15         Not in labor force\n",
       "16         Employed - at work\n",
       "17          Employed - absent\n",
       "18         Employed - at work\n",
       "19       Unemployed - looking\n",
       "20       Unemployed - looking\n",
       "21         Employed - at work\n",
       "22         Employed - at work\n",
       "23         Not in labor force\n",
       "24         Employed - at work\n",
       "25         Employed - at work\n",
       "26         Not in labor force\n",
       "27         Not in labor force\n",
       "28       Unemployed - looking\n",
       "29         Employed - at work\n",
       "                 ...         \n",
       "11355       Employed - absent\n",
       "11356      Employed - at work\n",
       "11357      Not in labor force\n",
       "11358      Employed - at work\n",
       "11359      Employed - at work\n",
       "11360      Employed - at work\n",
       "11361      Employed - at work\n",
       "11362      Employed - at work\n",
       "11363      Not in labor force\n",
       "11364      Not in labor force\n",
       "11365      Employed - at work\n",
       "11366      Not in labor force\n",
       "11367      Employed - at work\n",
       "11368      Employed - at work\n",
       "11369      Not in labor force\n",
       "11370      Employed - at work\n",
       "11371      Employed - at work\n",
       "11372      Employed - at work\n",
       "11373      Not in labor force\n",
       "11374      Employed - at work\n",
       "11375      Employed - at work\n",
       "11376      Employed - at work\n",
       "11377      Employed - at work\n",
       "11378      Not in labor force\n",
       "11379      Employed - at work\n",
       "11380      Not in labor force\n",
       "11381      Employed - at work\n",
       "11382      Employed - at work\n",
       "11383      Employed - at work\n",
       "11384      Not in labor force\n",
       "Name: TELFS, dtype: object"
      ]
     },
     "execution_count": 36,
     "metadata": {},
     "output_type": "execute_result"
    }
   ],
   "source": [
    "summary.TELFS.map(telfs)"
   ]
  },
  {
   "cell_type": "code",
   "execution_count": 37,
   "metadata": {
    "collapsed": false
   },
   "outputs": [],
   "source": [
    "working = summary[[\"t120303\",\"t120308\",\"t120101\",\"t120301\"]]\n",
    "working.columns = [\"Watching_TV\", \"Computer For Leasure\", \"Social for Fun\", \"Relax and Think\"]"
   ]
  },
  {
   "cell_type": "code",
   "execution_count": 38,
   "metadata": {
    "collapsed": false
   },
   "outputs": [
    {
     "name": "stdout",
     "output_type": "stream",
     "text": [
      "{'Relax and Think': 17.827459228425081, 'Social For Fun': 39.000540094889423, 'Watching TV AVG': 165.97119226232343, 'Computer For Leasure': 12.540250054915514}\n"
     ]
    },
    {
     "data": {
      "text/plain": [
       "<matplotlib.axes._subplots.AxesSubplot at 0x110433240>"
      ]
     },
     "execution_count": 38,
     "metadata": {},
     "output_type": "execute_result"
    },
    {
     "data": {
      "image/png": "[encoded data removed]",
      "text/plain": [
       "<matplotlib.figure.Figure at 0x10c0de5c0>"
      ]
     },
     "metadata": {},
     "output_type": "display_data"
    },
    {
     "data": {
      "image/png": "[encoded data removed]",
      "text/plain": [
       "<matplotlib.figure.Figure at 0x110433a58>"
      ]
     },
     "metadata": {},
     "output_type": "display_data"
    }
   ],
   "source": [
    "working.plot()\n",
    "d = {\"Watching TV AVG\" :average_minutes(summary, '120303'), \"Computer For Leasure\" :average_minutes(summary, '120308'), \"Social For Fun\": average_minutes(summary, '120101'), \"Relax and Think\": average_minutes(summary, '120301')}\n",
    "print(d)\n",
    "avgfun = pd.DataFrame(d, range(1))\n",
    "avgfun.plot(kind=\"bar\")"
   ]
  },
  {
   "cell_type": "code",
   "execution_count": 39,
   "metadata": {
    "collapsed": false
   },
   "outputs": [
    {
     "name": "stdout",
     "output_type": "stream",
     "text": [
      "{'Relax and Think': 17.827459228425081, 'Computer For Leasure': 12.540250054915514, 'Social For Fun': 39.000540094889423, 'Watching TV AVG': 165.97119226232343, 'Video Games': 13.41856801229944}\n"
     ]
    },
    {
     "data": {
      "text/plain": [
       "<matplotlib.axes._subplots.AxesSubplot at 0x110522da0>"
      ]
     },
     "execution_count": 39,
     "metadata": {},
     "output_type": "execute_result"
    },
    {
     "data": {
      "image/png": "[encoded data removed]",
      "text/plain": [
       "<matplotlib.figure.Figure at 0x10c0de2b0>"
      ]
     },
     "metadata": {},
     "output_type": "display_data"
    }
   ],
   "source": [
    "d = {\"Watching TV AVG\" :average_minutes(summary, '120303'),\"Video Games\":average_minutes(summary, '120307'), \"Computer For Leasure\" :average_minutes(summary, '120308'), \"Social For Fun\": average_minutes(summary, '120101'), \"Relax and Think\": average_minutes(summary, '120301')}\n",
    "print(d)\n",
    "avgfun = pd.DataFrame(d, range(1))\n",
    "avgfun.plot(kind=\"bar\")"
   ]
  },
  {
   "cell_type": "code",
   "execution_count": 40,
   "metadata": {
    "collapsed": false,
    "scrolled": true
   },
   "outputs": [
    {
     "data": {
      "text/plain": [
       "<matplotlib.axes._subplots.AxesSubplot at 0x1103cfc50>"
      ]
     },
     "execution_count": 40,
     "metadata": {},
     "output_type": "execute_result"
    },
    {
     "data": {
      "image/png": "[encoded data removed]",
      "text/plain": [
       "<matplotlib.figure.Figure at 0x1103df2b0>"
      ]
     },
     "metadata": {},
     "output_type": "display_data"
    }
   ],
   "source": [
    "working\n",
    "def aboveaverage(tv):\n",
    "    if tv > 165.9:\n",
    "        return tv\n",
    "    else:\n",
    "        return None\n",
    "#aboveaveragetv = working['Watching_TV'].apply(aboveaverage)\n",
    "#print(aboveaveragetv.head())\n",
    "#working = pd.merge(working, aboveaveragetv.to_frame(), right_index=True, left_index=True)\n",
    "working = working.dropna()\n",
    "#print(working.head())\n",
    "#working = working[[\"Watching_TV_x\", \"Computer For Leasure\", \"Social for Fun\", \"Relax and Think\"]]\n",
    "d = {\"Watching TV AVG\" :average_minutes(summary, '120303'), \"Computer For Leasure\" :average_minutes(summary, '120308'), \"Social For Fun\": average_minutes(summary, '120101'), \"Relax and Think\": average_minutes(summary, '120301')}\n",
    "\n",
    "#print(d)\n",
    "avgfun = pd.DataFrame(d, range(1))\n",
    "avgfun.plot(kind=\"bar\", figsize=(7,7))\n"
   ]
  },
  {
   "cell_type": "code",
   "execution_count": 43,
   "metadata": {
    "collapsed": false,
    "scrolled": false
   },
   "outputs": [
    {
     "data": {
      "text/plain": [
       "array([<matplotlib.axes._subplots.AxesSubplot object at 0x110ff71d0>], dtype=object)"
      ]
     },
     "execution_count": 43,
     "metadata": {},
     "output_type": "execute_result"
    },
    {
     "data": {
      "image/png": "[encoded data removed]",
      "text/plain": [
       "<matplotlib.figure.Figure at 0x110ff7e80>"
      ]
     },
     "metadata": {},
     "output_type": "display_data"
    }
   ],
   "source": [
    "fun = summary[activity_columns(summary, '1203')]\n",
    "d = {\"Relax/Think\" :average_minutes(summary, '120301'), \"Tobacco_And_Drugs\" :average_minutes(summary, '120302'), \"TV/Movie(NoNR)\": average_minutes(summary, '120303'), \"TV/Movie(R)\": average_minutes(summary, '120304'), \"Listen_Radio\": average_minutes(summary, '120305'), \"Listen/PlayMusic\": average_minutes(summary, '120306'),\"Playing_Games\": average_minutes(summary, '120307'),\"Computer Leisure\": average_minutes(summary, '120308'),\"ArtsCrafts\": average_minutes(summary, '120309'),\"Collecting\": average_minutes(summary, '120310'),\"Other Hobbies\": average_minutes(summary, '120311'),\"Reading\": average_minutes(summary, '120312'),\"Writing\": average_minutes(summary, '120313'),\"Other\": average_minutes(summary, '120399')}\n",
    "fullfun = pd.DataFrame(d, range(1))\n",
    "#fullfun.plot(kind='pie', subplots=True, figsize=(90, 10))\n",
    "stackfull = fullfun.stack()\n",
    "stackfull.plot(\"pie\",  subplots=True, figsize=(10, 10), fontsize=.000000001, legend=True)"
   ]
  },
  {
   "cell_type": "code",
   "execution_count": 46,
   "metadata": {
    "collapsed": false,
    "scrolled": false
   },
   "outputs": [],
   "source": [
    "key = {\"tucaseid\": 'household', \"TUFINLWGT\": \"weight\", 'TRYHHCHILD': \"Age_of_youngest_child\", \"TEAGE\": \"Age\",\n",
    "\"TESEX\": \"Gender\",\"PEEDUCA\": \"Notsure\", \"TELFS\": \"labor_force_status\", \"TEMJOT\": \"last_7_Days__more_then_one_job\",\n",
    "\"TRDPFTPT\": \"full time or part time\", \"TESCHENR\": \"student_status\", \"TESCHLVL\": \"allocation_flag\", \"TRSPPRES\": \"spouse_parter_in_house\",\n",
    "\"TESPEMPNOT\":\"employment_status_of_SO\", \"TRERNWA\": \"weekly_earning_main_job\", \"TRCHILDNUM\": \"num_house_child\", \"TRSPFTPT\": \"full/part_employ_SO\",\n",
    "\"TEHRUSLT\": \"total_hours_worked_per_week\", \"TUDIARYDAY\":\"day_of_interview\", \"TRHOLIDAY\": \"flag_if_interviewday_was_holiday\",\n",
    "\"TRTEC\": \"totaltimespent_providing_eldercare\", \"TRTHH\": \"totaltimespend_childcare\", 't010101': 'sleeping', 't010102': 'sleeplessness', 't010201': 'washing,dressingandgroomingoneself', 't010299': \n",
    "'GroomingNEC' , 't010301' : 'Health-relatedselfcare', 't010399': \"selfcareNEC\", 't010401':'Personal/Private_activities', 't020101':'InteriorCleaning', 't020102':'Laundry', 't020103':'Sewing,repairing&maintaintextiles', 't020104':'Storing/interioritems,food', 't020199':'housework', 't020201':'food/drinkprep', 't020202':'foodpresentation', 't020203':'kitchen/foodcleanup', 't020299':'food/drinkprep/present/clean', 't020301':'interiorarrange,decorate,repair', 't020302':'building/repair,furniture', \n",
    "'t020303':'healing/cooking', 't020399':'interiormaintenance,repairdecorate', 't020401':'exteriorcleaning', 't020402':'exteriorrepair,improve,decorate', 't020499':'exteriormaintenance,repair,decorateNEC', 't020501':\n",
    "'lawn,garden,houseplantcare', 't020502':'ponds,pools,hottubs', 't020599':'lawn/garden', 't020601':'animals/pets', 't020602':'walking/exercising/playingwithanimals', 't020699':'pet/animalcareNEC', 't020701':\n",
    "'vehiclerepair(byself)', 't020799':'vehiclesNEC', 't020801':'appliance,tool,toysetup,repair(byself)', 't020899':'appliances/toolsNEC', 't020901':'financialmanagement', 't020902':'household/personalorganize/planning', 't020903':'HH/personalmail/messages', 't020904':'hh/personal/email/messages', 't020905':'homesecurity', 't020999':'household,managementNEC', 't029999':'householdactivities', 't030101':'physicalcare,forhhchildren', 't030102':'reading_to_hh_children', 't030103':'playing_with_hh_children_not_sports', 't030104':'arts/crafts_children', 't030105':'playing_sports_hh_children', 't030106':'talking/listening_hh_children', 't030108':'organization/planning_for_hh_children', 't030109':'watching_hh_children', 't030110':'attending_hh_child_event', 't030111':'waiting_for/with_hh_children', 't030112':'pickingup/droppingoff_hh_children',\n",
    "'t030199':'caring/helping_hh_children', 't030201':'homework_hhchildren', 't030202':'meeting_school_conferences', 't030203':'homeschool_hh_children', 't030299':'activities,relatedto_hh_education', 't030301':\n",
    "'providing_medical_care_to_hh_child', 't030302':'obtaining_medical_care_hh_child', 't030303':'waiting_associated_hh_child_health', 't030399':'activities_related_childhealthNEC', 't030401':'physical_care_hh_adults', 't030402':'looking_after_hh_adult', 't030403':'medical_care_hh_adult', 't030404':'obtaining_medical_car_hh_adult', 't030405':'waiting_associated_caring_hh_adult', 't030499':'caring_hh_adults', 't030501':'helping_hh_adults', 't030502':'organization/planning_hh_adults', 't030503':'picking_up/dropping_off_hh_adult', 't030504':'waiting_associated_helping_hh_adults', 't030599':'helping_household_adultsNEC', 't039999':'caring_helping_hh_membersNEC', 't040101':'physical_car_nonhh_children', 't040102':'reading_to/with_nonhh_children', 't040103':'playing_nonhh_children_notsport', 't040104':'arts/crafts_nonhh_children', 't040105':'playing_sports_nonhh_children', 't040106':'talking/listening_nonhh_children', 't040108':'organization_planning_nonhh_children', 't040109': 'looking_after_nonhh_children', 't040110':'attending_nonhh_children_event', 't040111':'waiting_for/with_nonhh_children', 't040112':'dropping_off/picking_up_nonhh_childrenNEC', 't040199':'caring_helping_nonhh_childrenNEC',\n",
    "'t040201':'homework_nonhh_children', 't040299':'activities_related_nonhh_educNEC', 't040301':'providing_medical_car_nonhh_children', 't040302':'obtaining_medicalcare_nonhh_children', 't040401':'physical_car_nonhh_adults', 't040402':'looking_after_nonhh_adult(primary activity)', 't040403':'providing_medical_car_to_nonhh_adult', 't040404':'obtaining_medical_car_services_nonhh_adult', 't040405':'waiting_associated_with_caring_nonhhadults', 't040499':'caring_for_nonhh_adultsNEC', 't040501':'housework,cooking_shopping,assistance_nonhh_adults', 't040502':'house_lawn_repair_assistance_nonhh_adults', 't040503':'animal/pet_care_assist_nonhh_adults',\n",
    "'t040504':'vehicle_appliance_maintenance/repair_assistance_nonhh_adults', 't040505':'financial_manage_assist_nonhh_adults', 't040506':'household_manage_paperwork_assistance_nonhh_adults', 't040507':'picking_up/dropping_off_nonhh_adult', 't040508':'associated_helping_nonhh_adults', 't040599':'nonhh_adultsNEC', 't050101':'work,mainjob', 't050102':'work,otherjob', 't050103':'security_procedures_related_work', 't050104':'waiting_associated_working', 't050199':'workingNEC', 't050201':'socializing,relaxing,leisure_part_of_job', 't050202':'eating/drinking_part_job', 't050205':'waiting_associated_with_work-related_activities', 't050301':'income-generating_hobbies/crafts/food', 't050302':'income-generating_performances', 't050303':'income-generating_rental_property_activities', 't050304':'income-generating_rental_property_activities', 't050305':'waiting_associated_other_income_generating_activities', 't050399':'other_income_generatingNEC', 't050401':'job_search_activites', 't050403':'job_interviewing', 't050404':'associated_job_search_interview', 't059999':'work/work-related_activitiesNEC', 't060101':'taking_class_dagree,certification,licensure', 't060102':'taking_class_personal_interest',\n",
    "'t060103':'waiting_associated_taking_classes', 't060199':'taking_classNEC', 't060201':\"extracurricular_club_activities\", 't060202':'extracurricular_music/performance_activities', 't060299':'education-related_extracurricular_actNEC', 't060301':'research/homework_class_degree,cert,licensure', 't060302':'research/homework_class_pers.interest', 't060303':'associated_research/homework', 't060399':'research/homeworkNEC', 't060401':'admin_activities_class_dagree/cert/licensure', 't060402':'admin_act_class_personal_interst', 't060403':'associated_w/admin.activites(education)', 't060499':'admin_educationNEC', 't069999':'educationNEC', 't070101':'grecery_shopping', 't070102':'purchasing_gas', 't070103':'purchasing_food', 't070104':'shopping,except_food/gas', 't070105':'associated_with_shopping',\n",
    "'t070201':'comparison_shopping', 't080101':'paid_childcare_services', 't080201':'banking', 't080202':'using_financial_services', 't080203':'waiting_associated_with/banking/financial_services', 't080301':'legal_services', 't080401':'health_car_services_outside_home', 't080402':'in-home_health_care_services', 't080403':'waiting_associated_medical_services', 't080499':'medical_services', 't080501':'personal_care_services', 't080502':'waiting_associated_w/personal_care_services',\n",
    "'t080601':'act_purchasing/selling_real_estate', 't080602':'waiting_associated_w/purchasing/selling_real_estate', 't080701':'veterinary_services', 't080702':'waiting_associated_vetinary_services', 't089999':'professional_personal_services', 't090101':'interior_cleaning_services', 't090103':'clothing_repair_cleaning_services', 't090199':'using_household_services', 't090201':'home_maint/repair/decor/construction', 't090202':'waiting_associated_w/home/repair/decor/constr', 't090301':'pet_services', 't090302':'associated_pet_services', 't090399':'using_pet_servicesNEC', 't090401':'lawn_garden_services',\n",
    "'t090499':'lawn_garden_servicesNEC', 't090501':'vehicle_maint_repair_services', 't090502':'waiting_associated_vehicle_main_repair', 't090599':'using_vehiclemaint/repair_svcs,NEC', 't099999':'household_servicesNEC', 't100101':'police_fire_services', 't100102':'social_services', 't100103':'obtaining_licenses/paying_fines_fees_taxes', 't100199':'using_government_servicesNEC', 't100201':'civic_obligations/participation', 't100304':'waiting_associated_using_government_services', 't100499':'security_procedures_rel_govt_svcs/civic_obligations', 't109999':'government_servicesNEC', 't110101':'eating/drinking', 't110201':'waiting_associated_w/eating_drinking', 't120101':'socializing_communicating', 't120201':'attending/hosting_parties/receptions/ceremonies', 't120202':'attending_meeting_personal_interst(not_volunteering)', 't120299':'attending/hosting_social_eventsNEC', \n",
    "'t120301':'relaxing,thinking', 't120302':'tobacco/drug_use', 't120303':'TV/movies(nonR)', 't120304':'TV(R)', 't120305':'listen_to_radio', 't120306':'listen_to/playing_music', 't120307':'playing_games', 't120308':'computer_use_leisure', 't120309':'arts/crafts_as_hobby', 't120310':'collecting_hobby', 't120311':'hobbies,except_arts/crafts_collecting', 't120312':'reading_personal_interest', 't120313':'writing_personal_interest', 't120399':'relaxing/leisureNEC',\n",
    "'t120401':'attending_performing_arts', 't120402':'attending_museums', 't120403':'attending_movies/film', 't120404':'attending_gambling_establishments', 't120499':'arts_entertainmentNEC', 't120501':'waiting_assoc.w/socializing_communicating', 't120502':'waiting_assoc.w/attending/hosting_social_events', 't120503':'waiting_assoc.w/_relaxing/leisure', 't120504':'waiting_assoc./w_arts/entertainment', 't120599':'waiting_assoc./w_socializingNEC', 't129999':'socializing/relaxing/leisureNEC', \n",
    "'t130101':'doing_aerobics', 't130102':'playing_baseball', 't130103':'playing_basketball', 't130104':'biking', 't130105':'playing_billiards', 't130106':'boating', 't130107':'bowling', 't130108':'climbing,spelunking,caving', 't130109':'dancing', 't130110':'participating_equestrian_sports', 't130112':'fishing', 't130113':'playing_football', 't130114':'golfing', 't130115':'doing_gymnastics', 't130116':'hiking', 't130117':'playing_hockey', 't130118':'hunting', 't130119':'participating_martial_arts', 't130120':'playing_racquet_sports', 't130122':\"rollerblading\", 't130123':'playing_rugby', 't130124':'running', 't130125':'skiing,ice_skating,snowboarding', 't130126':'playing_soccer', 't130127':'softball', 't130128':'using_cardiovascular_equipment', 't130129':'vehicle_touring/racing', 't130130':'playing_vollyball', 't130131':'walking', 't130132':'participating_water_sports', 't130133':'weightlifting/strength_training', 't130134':'working_out,unspecified', 't130135':'wrestling', 't130136':'doing_yoga', 't130199':'playing_sportsNEC', 't130202':'watching_baseball', \n",
    "'t130203':'watching_basketball', 't130205':'watching_biliards', 't130206':'watching_boating', 't130207':'watching_bowling', 't130210':'watching_equestrian_sports', 't130213':'watching_football', 't130215':'watching_gymnastics', 't130216':'watching_hockey', 't130218':'watching_racquet_sports', 't130219':'watching_rodeo_competitions', 't130220':'watching_rollerblading', 't130221':'watching_rugby', 't130222':'watching_running', 't130223':'watching_skiing,ice_skating,snowboarding', 't130224':'watching_soccer', 't130225':'watching_softball', 't130226':'watching_vehicle_touring/racing', 't130227':'watching_volleyball', 't130229':'watching_water_sports', 't130232':'watching_wrestling', 't130299':'attending_sporting_eventNEC', 't130301':'waiting_related_playing_sports_exercising', 't130302':'waiting_related_attending_sporting_events', 't139999':'sports,exercise,recrationNEC', 't140101':'attending_religous_services', 't140102':'participation_religous_practices', \n",
    "\n",
    "       't140103':'waiting_associated.w/religious&spiritual_activities', 't140105':'religious_education_act', 't149999':'religous_spirtual_actNEC',\n",
    "       't150101':'computer_use', 't150102':'organizing/preparing', 't150103':'reading', 't150104':'telephone_calls(except_hotline_counseling)', 't150105':'writing', \n",
    "       't150106':'fundraising', 't150199':'administrative&support_activeNEC', 't150201':'food_prep,presentation,clean-up', 't150202':'collecting&delivering_clothing&other_goods', 't150203':'providing_car', 't150204':'teaching,leading,counseling,mentoring', 't150299':'social_service&care_activitiesNEC', 't150301':'building_houses,wildlifesites&other_structures', 't150302':'indoor&outdoor_maintenance,repair&clean-up', 't150399':'indoor&outdoor_maintenance,building&clean-up_activities', 't150401':'performing', 't150402':'serving_volunteering_events&cultural_activities', 't150499':'participating_performance&cultural_activitiesNEC',\n",
    "\n",
    "       't150501':'attending_meetings,conferences,training', 't150599':'attending_meetings,conferences&trainingNEC', 't150601':'public_heatlh_activities', 't150602':'public_safety_activities', 't150699':'public_health_safety_activitiesNEC', 't150701':'waiting_associated_volunteer_activities', 't150801':'security_procedures_related_volunteer_act', 't159999':'volunteer_activitiesNEC', 't160101':'telephone_calls_to/from_family_members', 't160102':'telephone_calls_to/from_friends/neighbors/acquaintances', 't160103':'telephone_calls_to/from_education,services,providers', 't160104':'telephone_calls_to/from_salespeople', 't160105':'telephone_calls_to/from_professional/personal_care_svcs_providers', 't160106':'telephone_calls_to/from_household_services_providers', 't160107':'telephone_calls_to/from_paid_child/adult_car_providers', 't160108':'telephone_calls_to/from_government_officials'\n",
    ",'t160199':\"telephone_callsNEC\", 't160201':'waiting_associated_with_telephone_calls', \n",
    "       't169999':'telephone_callsNEC', 't180101':'travel_related_personal_car', 't180199':'travel_related_personal_carNEC', 't180201':'travel_related_housework', 't180202':'travel_related_food/drink_prep/clean-up/presentation', 't180203':'travel_related_interior_maintenance/repair&decoration', 't180204':'travel_related_exterior_maintenance/repair/decoration', 't180205':'travel_related_lawn/garden/houseplantcare',\n",
    "    't180206':'travel_related_careAnimals/pets', 't180207':'travel_related_vehiclecare/maintenance(by_self)', 't180208':'travel_related_appliance/tool/toysetup/repair/maintance/(by_self)', 't180209':'travel_related_household_management', 't180299':'travel_related_to_household_act', 't180301':'travel_related_caring_helping_hhchildren', 't180302':'travel_related_hhchildrens_education', 't180303':'travel_related_hhchildrens_health', 't180304':'travel_related_caring_hhadults', 't180305':'travel_related_helping_hhadults', 't180401':'travel_related_caring/helping_nonhh_children', 't180402':'travel_related_nonhh_childrens_education', 't180403':'travel_related_nonhh_childrens_health', 't180404':'travel_related_caring_nonhh_adults', 't180405':'travel_related_helping_nonhh_adults', 't180501':'travel_related_working', 't180502':'travel_related_work-related_activities', 't180503':'travel_related_income-generating_activities', 't180504':'travel_related_job-search&interviewing', 't180599':'travel_related_workNEC', 't180601':'travel_related_taking_class', 't180602':'travel_related_extracurricular_activites(sports)', 't180603':'travel_related_research/homework', 't180604':'travel_related_registration/administrative_activities', 't180699':'travel_related_educationNEC', 't180701':'travel_related_grocery-shopping', 't180702':'travel_related_purchasing-gas',\n",
    "'t180703':'travel_related_purchasing-food', 't180704':'travel_related_shopping/exgroceries/food/gas', 't180799':'travel_related_consumer-purchasesNEC', 't180801':'travel_related_childcare_services', 't180802':'travel_related_financial_services/banking', 't180803':'travel_related_legal_services', 't180804':'travel_related_medical_services', 't180805':'travel_related_personal_care_services', 't180806':'travel_related_real_estateservices', 't180807':'travel_related_veterinary_services', 't180899':'travel_rel_using_prof.&personal_car_servicesNEC', 't180901':'travel_related_household_services', 't180902':'travel_related_home./repair/decor/construction', 't180903':'travel_related_pet_services(not_vet)', 't180904':'travel_related_lawn/garden-services', 't180905':'travel_related_vehicle/maintenance&repair-services', 't180999':'travel_related_household_servicesNEC', 't181001':'travel_related_government-services', 't181002':'travel_related_civic-oligations&participation', 't181099':'travel_rel.govtsvcs&civicobligationsNEC', 't181101':'travel_related_eating/drinking', 't181201':'travel_related_socializing/communicating', 't181202':'travel_related_hosting_socialevents', 't181203':'travel_related_relaxing/leisure', 't181204':'travel_related_arts/entertainment', 't181205':'travel_entertainment', 't181299':'travel_rel.socializing/relaxing&leisureNEC', 't181301':'travel_related_participating_sports/exercise/recreation', 't181302':'travel_related_attending_sporting/recration_events', 't181401':'travel_related_religious', 't181499':'travel_rel.religousNEC', 't181501':'travel_related_volunteering', 't181599':'travel_related_volunteer_activitiesNEC', 't181601':'travel_related_phone_calls', 't181801':'security_procedures_related_traveling', 't189999':'travelingNEC', 't500101':'insufficient_detail', 't500103':'missing_travel_or_destination', 't500105':'respondent_refused_provide_information', 't500106':'Gap/cant_remember', 't500107':'unable_to_code_activity_1st_tier' }\n",
    ".rename(index=None, columns=key, **kwargs)\n"
   ]
  },
  {
   "cell_type": "code",
   "execution_count": 47,
   "metadata": {
    "collapsed": false
   },
   "outputs": [],
   "source": [
    "def average_minutes(data, activity_name):\n",
    "    #print(data)\n",
    "    activity_col = activity_name\n",
    "    data = data[[\"weight\", activity_col]]\n",
    "    print(data)\n",
    "    data = data.rename(columns={activity_col: \"minutes\"})\n",
    "    data['weighted_minutes'] = data.weight * data.minutes\n",
    "    return data.weighted_minutes.sum() / data.weight.sum()\n",
    "\n",
    "def get_input(dataset):\n",
    "    done = False\n",
    "    avg = input(\"want the average? y/n\")\n",
    "    clean = input(\"Want your data cleaned?  We drop zeros and nan. y/n\")\n",
    "    columns=[]\n",
    "    if avg == \"y\":\n",
    "        print(\"Automatically including weight and household because you want the average\")\n",
    "        columns.append('weight')\n",
    "    for item in dataset.columns.tolist():\n",
    "        print(item)\n",
    "    while done == False:\n",
    "        print(\"Enter you column as appears above, type DONE when done, or CLEAR if you messup\")\n",
    "        column = input(\"What columns do you want?\")\n",
    "        if column=='DONE':\n",
    "            done=True\n",
    "            break\n",
    "        if column=='CLEAR':\n",
    "            columns=[]\n",
    "        columns.append(column)\n",
    "        print(columns)\n",
    "    return(avg,clean,columns)\n",
    "\n",
    "def querys(datawork, query):\n",
    "    return datawork[query]\n",
    "\n",
    "def datasets(dataset, query=None):\n",
    "    avg,clean,columns = get_input(dataset)\n",
    "    # print(avg,clean,columns)\n",
    "    data = dataset[columns]\n",
    "    if query is not None:\n",
    "        data = querys(data, query)\n",
    "    data.describe()\n",
    "    if avg == 'y':\n",
    "        newdataframe = {}\n",
    "        for item in data.columns.tolist():\n",
    "            if item == \"weight\":\n",
    "                pass\n",
    "            else:\n",
    "                # print(data.columns.tolist())\n",
    "                newdataframe[item] = [average_minutes(data, item)]\n",
    "        data = pd.DataFrame.from_dict(newdataframe, orient='columns', dtype=None)\n",
    "    if clean == 'y':\n",
    "        for item in data.columns.tolist():\n",
    "            if item == \"weight\":\n",
    "                pass\n",
    "            else:\n",
    "                data = data[data[item] > 0]\n",
    "                print(data)\n",
    "        return data\n",
    "    return data"
   ]
  },
  {
   "cell_type": "code",
   "execution_count": 48,
   "metadata": {
    "collapsed": false
   },
   "outputs": [
    {
     "ename": "NameError",
     "evalue": "name 'test' is not defined",
     "output_type": "error",
     "traceback": [
      "\u001b[0;31m---------------------------------------------------------------------------\u001b[0m",
      "\u001b[0;31mNameError\u001b[0m                                 Traceback (most recent call last)",
      "\u001b[0;32m<ipython-input-48-fec0ebc3157f>\u001b[0m in \u001b[0;36m<module>\u001b[0;34m()\u001b[0m\n\u001b[0;32m----> 1\u001b[0;31m \u001b[0maverage_minutes\u001b[0m\u001b[0;34m(\u001b[0m\u001b[0mtest\u001b[0m\u001b[0;34m,\u001b[0m \u001b[0;34m'Age'\u001b[0m\u001b[0;34m)\u001b[0m\u001b[0;34m\u001b[0m\u001b[0m\n\u001b[0m",
      "\u001b[0;31mNameError\u001b[0m: name 'test' is not defined"
     ]
    }
   ],
   "source": [
    "average_minutes(test, 'Age')"
   ]
  },
  {
   "cell_type": "code",
   "execution_count": 3,
   "metadata": {
    "collapsed": false,
    "scrolled": false
   },
   "outputs": [
    {
     "ename": "NameError",
     "evalue": "name 'test' is not defined",
     "output_type": "error",
     "traceback": [
      "\u001b[0;31m---------------------------------------------------------------------------\u001b[0m",
      "\u001b[0;31mNameError\u001b[0m                                 Traceback (most recent call last)",
      "\u001b[0;32m<ipython-input-3-0a5cbf7d778e>\u001b[0m in \u001b[0;36m<module>\u001b[0;34m()\u001b[0m\n\u001b[0;32m----> 1\u001b[0;31m \u001b[0magequery\u001b[0m \u001b[0;34m=\u001b[0m \u001b[0mtest\u001b[0m\u001b[0;34m.\u001b[0m\u001b[0mAge\u001b[0m \u001b[0;34m<\u001b[0m \u001b[0;36m18\u001b[0m\u001b[0;34m\u001b[0m\u001b[0m\n\u001b[0m\u001b[1;32m      2\u001b[0m \u001b[0mnewdataiset\u001b[0m \u001b[0;34m=\u001b[0m \u001b[0mdatasets\u001b[0m\u001b[0;34m(\u001b[0m\u001b[0mtest\u001b[0m\u001b[0;34m)\u001b[0m\u001b[0;34m\u001b[0m\u001b[0m\n",
      "\u001b[0;31mNameError\u001b[0m: name 'test' is not defined"
     ]
    }
   ],
   "source": [
    "agequery = test.Age < 18\n",
    "newdataiset = datasets(test)\n"
   ]
  },
  {
   "cell_type": "code",
   "execution_count": 134,
   "metadata": {
    "collapsed": false
   },
   "outputs": [
    {
     "data": {
      "text/html": [
       "<div>\n",
       "<table border=\"1\" class=\"dataframe\">\n",
       "  <thead>\n",
       "    <tr style=\"text-align: right;\">\n",
       "      <th></th>\n",
       "      <th>reading</th>\n",
       "      <th>writing</th>\n",
       "    </tr>\n",
       "  </thead>\n",
       "  <tbody>\n",
       "    <tr>\n",
       "      <th>0</th>\n",
       "      <td>0.056513</td>\n",
       "      <td>0.037453</td>\n",
       "    </tr>\n",
       "  </tbody>\n",
       "</table>\n",
       "</div>"
      ],
      "text/plain": [
       "    reading   writing\n",
       "0  0.056513  0.037453"
      ]
     },
     "execution_count": 134,
     "metadata": {},
     "output_type": "execute_result"
    }
   ],
   "source": [
    "newdataiset#.stack().plot(\"pie\",  subplots=True, figsize=(10, 10), legend=True, fontsize=10)\n"
   ]
  },
  {
   "cell_type": "code",
   "execution_count": null,
   "metadata": {
    "collapsed": true
   },
   "outputs": [],
   "source": []
  },
  {
   "cell_type": "code",
   "execution_count": null,
   "metadata": {
    "collapsed": true
   },
   "outputs": [],
   "source": []
  }
 ],
 "metadata": {
  "kernelspec": {
   "display_name": "Python 3",
   "language": "python",
   "name": "python3"
  },
  "language_info": {
   "codemirror_mode": {
    "name": "ipython",
    "version": 3
   },
   "file_extension": ".py",
   "mimetype": "text/x-python",
   "name": "python",
   "nbconvert_exporter": "python",
   "pygments_lexer": "ipython3",
   "version": "3.4.3"
  }
 },
 "nbformat": 4,
 "nbformat_minor": 0
}
