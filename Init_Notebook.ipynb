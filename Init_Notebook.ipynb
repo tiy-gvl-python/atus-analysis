{
 "cells": [
  {
   "cell_type": "code",
   "execution_count": 3,
   "metadata": {
    "collapsed": false
   },
   "outputs": [],
   "source": [
    "import re\n",
    "import math\n",
    "import pandas as pd"
   ]
  },
  {
   "cell_type": "code",
   "execution_count": 4,
   "metadata": {
    "collapsed": false
   },
   "outputs": [],
   "source": [
    "import matplotlib.pyplot as plt"
   ]
  },
  {
   "cell_type": "code",
   "execution_count": 5,
   "metadata": {
    "collapsed": false
   },
   "outputs": [],
   "source": [
    "%matplotlib inline"
   ]
  },
  {
   "cell_type": "code",
   "execution_count": 6,
   "metadata": {
    "collapsed": false
   },
   "outputs": [],
   "source": [
    "summary = pd.read_csv(\"atusdata/atussum_2013.dat\")\n",
    "# = pd.read_csv(\"atusdata/atusact_2013.dat\")\n",
    "# = pd.read_csv(\"atusdata/atuscps_2013.dat\")\n",
    "#respondant = pd.read_csv(\"atusdata/atusresp_2013.dat\")\n",
    "# = pd.read_csv(\"atusdata/atusrost_2013.dat\")\n",
    "# = pd.read_csv(\"atusdata/atusrostec_2013.dat\")\n",
    "# = pd.read_csv(\"atusdata/atussum_2013.dat\")\n",
    "# = pd.read_csv(\"atusdata/atuswho_2013.dat\")"
   ]
  },
  {
   "cell_type": "code",
   "execution_count": 7,
   "metadata": {
    "collapsed": false
   },
   "outputs": [],
   "source": [
    "basic_selection = [\"tucaseid\", \"TUFINLWGT\", \"TRCHILDNUM\", \"TEAGE\", \"TESEX\"]"
   ]
  },
  {
   "cell_type": "code",
   "execution_count": 8,
   "metadata": {
    "collapsed": false
   },
   "outputs": [],
   "source": [
    "def average_minutes(data, activity_code):\n",
    "    activity_col = \"t{}\".format(activity_code)\n",
    "    data = data.rename(columns={\"TUFINLWGT\": \"weight\", activity_col: \"minutes\"})\n",
    "    data = data[['weight', \"minutes\"]]\n",
    "    data['weighted_minutes'] = data.weight * data.minutes\n",
    "    return data.weighted_minutes.sum() / data.weight.sum()"
   ]
  },
  {
   "cell_type": "code",
   "execution_count": 9,
   "metadata": {
    "collapsed": false
   },
   "outputs": [],
   "source": [
    "def stdev_minutes(data, activity_code):\n",
    "    data_mean = average_minutes(data, activity_code)\n",
    "    num_non0_obs = summary[summary.TUFINLWGT != 0].TUFINLWGT.count()\n",
    "    activity_col = \"t{}\".format(activity_code)\n",
    "    data = data.rename(columns={\"TUFINLWGT\": \"weight\", activity_col: \"minutes\"})\n",
    "    data = data[[\"weight\", \"minutes\"]]\n",
    "    data['weighted_ss'] = data.weight * (data.minutes - data_mean)**2\n",
    "    return math.sqrt(data.weighted_ss.sum()/(((num_non0_obs-1)/num_non0_obs)*data.weight.sum()))"
   ]
  },
  {
   "cell_type": "code",
   "execution_count": 10,
   "metadata": {
    "collapsed": false
   },
   "outputs": [],
   "source": [
    "def activity_columns(data, activity_code):\n",
    "    \"\"\"For the activity code given, return all columns that fall under that activity.\"\"\"\n",
    "    col_prefix = \"t{}\".format(activity_code)\n",
    "    return [column for column in data.columns if re.match(col_prefix, column)]"
   ]
  },
  {
   "cell_type": "code",
   "execution_count": 11,
   "metadata": {
    "collapsed": true
   },
   "outputs": [],
   "source": [
    "def hypothesis_test_plot(data, group_var, test_var):\n",
    "    data = data[[group_var, test_var, \"TUFINLWGT\"]]\n",
    "    data_grouped = data.groupby(group_var)\n",
    "    frame = pd.DataFrame()\n",
    "    for group in data_grouped:\n",
    "        count = group[1].TUFINLWGT.count()\n",
    "        mean = average_minutes(group[1], test_var[1:])\n",
    "        stdev = stdev_minutes(group[1], test_var[1:])\n",
    "        frame = frame.append({group_var: group[0], \"mean\": mean, \"error\": (stdev*1.96/math.sqrt(count))}, ignore_index=True)\n",
    "    frame.index = frame.pop(group_var)\n",
    "    plot = frame.plot(kind=\"bar\", yerr=\"error\", figsize=(12, 8))\n",
    "    return (frame, plot)\n",
    "    "
   ]
  },
  {
   "cell_type": "markdown",
   "metadata": {
    "collapsed": true
   },
   "source": [
    "###Household & personal organization and planning (020302) vs Television and movies (not religious) (120303)"
   ]
  },
  {
   "cell_type": "code",
   "execution_count": 12,
   "metadata": {
    "collapsed": false
   },
   "outputs": [],
   "source": [
    "current = summary[basic_selection + [\"t020302\", \"t120303\"]]"
   ]
  },
  {
   "cell_type": "code",
   "execution_count": 13,
   "metadata": {
    "collapsed": false
   },
   "outputs": [
    {
     "data": {
      "text/plain": [
       "pandas.core.groupby.DataFrameGroupBy"
      ]
     },
     "execution_count": 13,
     "metadata": {},
     "output_type": "execute_result"
    }
   ],
   "source": [
    "current_grouped = current.groupby(\"TESEX\")\n",
    "type(current_grouped)"
   ]
  },
  {
   "cell_type": "code",
   "execution_count": 14,
   "metadata": {
    "collapsed": false
   },
   "outputs": [
    {
     "data": {
      "text/html": [
       "<div>\n",
       "<table border=\"1\" class=\"dataframe\">\n",
       "  <thead>\n",
       "    <tr style=\"text-align: right;\">\n",
       "      <th></th>\n",
       "      <th>mean</th>\n",
       "      <th>stdev</th>\n",
       "    </tr>\n",
       "    <tr>\n",
       "      <th>TESEX</th>\n",
       "      <th></th>\n",
       "      <th></th>\n",
       "    </tr>\n",
       "  </thead>\n",
       "  <tbody>\n",
       "    <tr>\n",
       "      <th>1</th>\n",
       "      <td>178.932708</td>\n",
       "      <td>5.079676</td>\n",
       "    </tr>\n",
       "    <tr>\n",
       "      <th>2</th>\n",
       "      <td>153.844224</td>\n",
       "      <td>3.905072</td>\n",
       "    </tr>\n",
       "  </tbody>\n",
       "</table>\n",
       "</div>"
      ],
      "text/plain": [
       "             mean     stdev\n",
       "TESEX                      \n",
       "1      178.932708  5.079676\n",
       "2      153.844224  3.905072"
      ]
     },
     "execution_count": 14,
     "metadata": {},
     "output_type": "execute_result"
    }
   ],
   "source": [
    "newframe = pd.DataFrame()\n",
    "\n",
    "for group in current_grouped:\n",
    "    count = group[1].TUFINLWGT.count()\n",
    "    mean = average_minutes(group[1], \"120303\")\n",
    "    stdev = stdev_minutes(group[1], \"120303\")\n",
    "    newframe = newframe.append({\"TESEX\": group[0], \"mean\": mean, \"stdev\": (stdev*1.96/math.sqrt(count))}, ignore_index=True)\n",
    "newframe.index = newframe.pop(\"TESEX\")\n",
    "newframe"
   ]
  },
  {
   "cell_type": "code",
   "execution_count": 15,
   "metadata": {
    "collapsed": false
   },
   "outputs": [
    {
     "data": {
      "text/plain": [
       "<matplotlib.axes._subplots.AxesSubplot at 0x105661c50>"
      ]
     },
     "execution_count": 15,
     "metadata": {},
     "output_type": "execute_result"
    },
    {
     "data": {
      "image/png": "[encoded data removed]",
      "text/plain": [
       "<matplotlib.figure.Figure at 0x106413710>"
      ]
     },
     "metadata": {},
     "output_type": "display_data"
    }
   ],
   "source": [
    "newframe.plot(kind=\"bar\", yerr=\"stdev\", figsize=(12, 8))"
   ]
  },
  {
   "cell_type": "code",
   "execution_count": 16,
   "metadata": {
    "collapsed": false
   },
   "outputs": [
    {
     "data": {
      "text/plain": [
       "<matplotlib.axes._subplots.AxesSubplot at 0x106696550>"
      ]
     },
     "execution_count": 16,
     "metadata": {},
     "output_type": "execute_result"
    },
    {
     "data": {
      "image/png": "[encoded data removed]",
      "text/plain": [
       "<matplotlib.figure.Figure at 0x1064c2198>"
      ]
     },
     "metadata": {},
     "output_type": "display_data"
    }
   ],
   "source": [
    "hypothesis_test_plot(summary, \"TESEX\", \"t120303\")[1]"
   ]
  },
  {
   "cell_type": "code",
   "execution_count": 20,
   "metadata": {
    "collapsed": false
   },
   "outputs": [
    {
     "data": {
      "text/plain": [
       "<matplotlib.axes._subplots.AxesSubplot at 0x1067f90f0>"
      ]
     },
     "execution_count": 20,
     "metadata": {},
     "output_type": "execute_result"
    },
    {
     "data": {
      "image/png": "[encoded data removed]",
      "text/plain": [
       "<matplotlib.figure.Figure at 0x1064c2da0>"
      ]
     },
     "metadata": {},
     "output_type": "display_data"
    }
   ],
   "source": [
    "temp_data = summary\n",
    "temp_data[\"Decade_Age\"] = temp_data.TEAGE //10 * 10\n",
    "hypothesis_test_plot(summary, \"Decade_Age\", \"t120302\")[1]"
   ]
  },
  {
   "cell_type": "code",
   "execution_count": null,
   "metadata": {
    "collapsed": false
   },
   "outputs": [],
   "source": []
  }
 ],
 "metadata": {
  "kernelspec": {
   "display_name": "Python 3",
   "language": "python",
   "name": "python3"
  },
  "language_info": {
   "codemirror_mode": {
    "name": "ipython",
    "version": 3
   },
   "file_extension": ".py",
   "mimetype": "text/x-python",
   "name": "python",
   "nbconvert_exporter": "python",
   "pygments_lexer": "ipython3",
   "version": "3.4.3"
  }
 },
 "nbformat": 4,
 "nbformat_minor": 0
}
