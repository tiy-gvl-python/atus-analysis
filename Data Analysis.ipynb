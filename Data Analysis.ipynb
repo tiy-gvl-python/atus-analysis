{
 "cells": [
  {
   "cell_type": "code",
   "execution_count": 409,
   "metadata": {
    "collapsed": true
   },
   "outputs": [],
   "source": [
    "import numpy as np\n",
    "import pandas as pd\n",
    "import matplotlib.pyplot as plt\n",
    "import re"
   ]
  },
  {
   "cell_type": "code",
   "execution_count": 410,
   "metadata": {
    "collapsed": true
   },
   "outputs": [],
   "source": [
    "% matplotlib inline"
   ]
  },
  {
   "cell_type": "code",
   "execution_count": 4,
   "metadata": {
    "collapsed": false
   },
   "outputs": [],
   "source": [
    "datum = pd.read_csv('atusdata/atussum_2013.dat')"
   ]
  },
  {
   "cell_type": "code",
   "execution_count": 5,
   "metadata": {
    "collapsed": false
   },
   "outputs": [
    {
     "data": {
      "text/html": [
       "<div>\n",
       "<table border=\"1\" class=\"dataframe\">\n",
       "  <thead>\n",
       "    <tr style=\"text-align: right;\">\n",
       "      <th></th>\n",
       "      <th>tucaseid</th>\n",
       "      <th>TUFINLWGT</th>\n",
       "      <th>TRYHHCHILD</th>\n",
       "      <th>TEAGE</th>\n",
       "      <th>TESEX</th>\n",
       "      <th>PEEDUCA</th>\n",
       "      <th>PTDTRACE</th>\n",
       "      <th>PEHSPNON</th>\n",
       "      <th>GTMETSTA</th>\n",
       "      <th>TELFS</th>\n",
       "      <th>...</th>\n",
       "      <th>t181501</th>\n",
       "      <th>t181599</th>\n",
       "      <th>t181601</th>\n",
       "      <th>t181801</th>\n",
       "      <th>t189999</th>\n",
       "      <th>t500101</th>\n",
       "      <th>t500103</th>\n",
       "      <th>t500105</th>\n",
       "      <th>t500106</th>\n",
       "      <th>t500107</th>\n",
       "    </tr>\n",
       "  </thead>\n",
       "  <tbody>\n",
       "    <tr>\n",
       "      <th>0</th>\n",
       "      <td>20130101130004</td>\n",
       "      <td>11899905.662034</td>\n",
       "      <td>12</td>\n",
       "      <td>22</td>\n",
       "      <td>2</td>\n",
       "      <td>40</td>\n",
       "      <td>8</td>\n",
       "      <td>2</td>\n",
       "      <td>1</td>\n",
       "      <td>5</td>\n",
       "      <td>...</td>\n",
       "      <td>0</td>\n",
       "      <td>0</td>\n",
       "      <td>0</td>\n",
       "      <td>0</td>\n",
       "      <td>0</td>\n",
       "      <td>0</td>\n",
       "      <td>0</td>\n",
       "      <td>0</td>\n",
       "      <td>0</td>\n",
       "      <td>0</td>\n",
       "    </tr>\n",
       "    <tr>\n",
       "      <th>1</th>\n",
       "      <td>20130101130112</td>\n",
       "      <td>4447638.009513</td>\n",
       "      <td>1</td>\n",
       "      <td>39</td>\n",
       "      <td>1</td>\n",
       "      <td>43</td>\n",
       "      <td>1</td>\n",
       "      <td>2</td>\n",
       "      <td>1</td>\n",
       "      <td>1</td>\n",
       "      <td>...</td>\n",
       "      <td>0</td>\n",
       "      <td>0</td>\n",
       "      <td>0</td>\n",
       "      <td>0</td>\n",
       "      <td>0</td>\n",
       "      <td>0</td>\n",
       "      <td>0</td>\n",
       "      <td>0</td>\n",
       "      <td>0</td>\n",
       "      <td>0</td>\n",
       "    </tr>\n",
       "    <tr>\n",
       "      <th>2</th>\n",
       "      <td>20130101130123</td>\n",
       "      <td>10377056.507734</td>\n",
       "      <td>-1</td>\n",
       "      <td>47</td>\n",
       "      <td>2</td>\n",
       "      <td>40</td>\n",
       "      <td>1</td>\n",
       "      <td>2</td>\n",
       "      <td>1</td>\n",
       "      <td>4</td>\n",
       "      <td>...</td>\n",
       "      <td>25</td>\n",
       "      <td>0</td>\n",
       "      <td>0</td>\n",
       "      <td>0</td>\n",
       "      <td>0</td>\n",
       "      <td>0</td>\n",
       "      <td>0</td>\n",
       "      <td>0</td>\n",
       "      <td>0</td>\n",
       "      <td>0</td>\n",
       "    </tr>\n",
       "    <tr>\n",
       "      <th>3</th>\n",
       "      <td>20130101130611</td>\n",
       "      <td>7731257.992805</td>\n",
       "      <td>-1</td>\n",
       "      <td>50</td>\n",
       "      <td>2</td>\n",
       "      <td>40</td>\n",
       "      <td>1</td>\n",
       "      <td>1</td>\n",
       "      <td>1</td>\n",
       "      <td>1</td>\n",
       "      <td>...</td>\n",
       "      <td>0</td>\n",
       "      <td>0</td>\n",
       "      <td>0</td>\n",
       "      <td>0</td>\n",
       "      <td>0</td>\n",
       "      <td>0</td>\n",
       "      <td>0</td>\n",
       "      <td>0</td>\n",
       "      <td>0</td>\n",
       "      <td>0</td>\n",
       "    </tr>\n",
       "    <tr>\n",
       "      <th>4</th>\n",
       "      <td>20130101130616</td>\n",
       "      <td>4725269.227067</td>\n",
       "      <td>-1</td>\n",
       "      <td>45</td>\n",
       "      <td>2</td>\n",
       "      <td>40</td>\n",
       "      <td>2</td>\n",
       "      <td>2</td>\n",
       "      <td>1</td>\n",
       "      <td>1</td>\n",
       "      <td>...</td>\n",
       "      <td>0</td>\n",
       "      <td>0</td>\n",
       "      <td>0</td>\n",
       "      <td>0</td>\n",
       "      <td>0</td>\n",
       "      <td>0</td>\n",
       "      <td>0</td>\n",
       "      <td>0</td>\n",
       "      <td>0</td>\n",
       "      <td>0</td>\n",
       "    </tr>\n",
       "  </tbody>\n",
       "</table>\n",
       "<p>5 rows × 413 columns</p>\n",
       "</div>"
      ],
      "text/plain": [
       "         tucaseid        TUFINLWGT  TRYHHCHILD  TEAGE  TESEX  PEEDUCA  \\\n",
       "0  20130101130004  11899905.662034          12     22      2       40   \n",
       "1  20130101130112   4447638.009513           1     39      1       43   \n",
       "2  20130101130123  10377056.507734          -1     47      2       40   \n",
       "3  20130101130611   7731257.992805          -1     50      2       40   \n",
       "4  20130101130616   4725269.227067          -1     45      2       40   \n",
       "\n",
       "   PTDTRACE  PEHSPNON  GTMETSTA  TELFS   ...     t181501  t181599  t181601  \\\n",
       "0         8         2         1      5   ...           0        0        0   \n",
       "1         1         2         1      1   ...           0        0        0   \n",
       "2         1         2         1      4   ...          25        0        0   \n",
       "3         1         1         1      1   ...           0        0        0   \n",
       "4         2         2         1      1   ...           0        0        0   \n",
       "\n",
       "   t181801  t189999  t500101  t500103  t500105  t500106  t500107  \n",
       "0        0        0        0        0        0        0        0  \n",
       "1        0        0        0        0        0        0        0  \n",
       "2        0        0        0        0        0        0        0  \n",
       "3        0        0        0        0        0        0        0  \n",
       "4        0        0        0        0        0        0        0  \n",
       "\n",
       "[5 rows x 413 columns]"
      ]
     },
     "execution_count": 5,
     "metadata": {},
     "output_type": "execute_result"
    }
   ],
   "source": [
    "datum.head()"
   ]
  },
  {
   "cell_type": "markdown",
   "metadata": {},
   "source": [
    "##Pertinent columns:\n",
    "###TUFINLWGT - statistical weight of respondent\n",
    "###TRYHHCHILD - age of youngest child in household\n",
    "###TEAGE - age of respondent\n",
    "###TESEX - sex of respondent\n",
    "###TELFS - working status of respondent\n",
    "###TRCHILDNUM - number of children in household"
   ]
  },
  {
   "cell_type": "code",
   "execution_count": 490,
   "metadata": {
    "collapsed": false
   },
   "outputs": [
    {
     "name": "stderr",
     "output_type": "stream",
     "text": [
      "/Users/sorenolegnowicz/cs/python/projects/atus-analysis/.direnv/python-3.4.3/lib/python3.4/site-packages/IPython/core/interactiveshell.py:3035: SettingWithCopyWarning: \n",
      "A value is trying to be set on a copy of a slice from a DataFrame\n",
      "\n",
      "See the the caveats in the documentation: http://pandas.pydata.org/pandas-docs/stable/indexing.html#indexing-view-versus-copy\n",
      "  exec(code_obj, self.user_global_ns, self.user_ns)\n"
     ]
    }
   ],
   "source": [
    "age = datum['TEAGE'].to_frame()\n",
    "sexy_age = datum[['TEAGE', 'TESEX', 'tucaseid']]\n",
    "master = datum[['TEAGE', 't010101', 'TESEX', 'TUFINLWGT','t050101', 't120303']]\n",
    "master.TEAGE.update((master.TEAGE // 10) * 10)"
   ]
  },
  {
   "cell_type": "code",
   "execution_count": 88,
   "metadata": {
    "collapsed": false,
    "scrolled": true
   },
   "outputs": [
    {
     "name": "stdout",
     "output_type": "stream",
     "text": [
      "Help on method plot_frame in module pandas.tools.plotting:\n",
      "\n",
      "plot_frame(x=None, y=None, kind='line', ax=None, subplots=False, sharex=None, sharey=False, layout=None, figsize=None, use_index=True, title=None, grid=None, legend=True, style=None, logx=False, logy=False, loglog=False, xticks=None, yticks=None, xlim=None, ylim=None, rot=None, fontsize=None, colormap=None, table=False, yerr=None, xerr=None, secondary_y=False, sort_columns=False, **kwds) method of pandas.core.frame.DataFrame instance\n",
      "    Make plots of DataFrame using matplotlib / pylab.\n",
      "    \n",
      "    Parameters\n",
      "    ----------\n",
      "    data : DataFrame\n",
      "    x : label or position, default None\n",
      "    y : label or position, default None\n",
      "        Allows plotting of one column versus another\n",
      "    kind : str\n",
      "        - 'line' : line plot (default)\n",
      "        - 'bar' : vertical bar plot\n",
      "        - 'barh' : horizontal bar plot\n",
      "        - 'hist' : histogram\n",
      "        - 'box' : boxplot\n",
      "        - 'kde' : Kernel Density Estimation plot\n",
      "        - 'density' : same as 'kde'\n",
      "        - 'area' : area plot\n",
      "        - 'pie' : pie plot\n",
      "        - 'scatter' : scatter plot\n",
      "        - 'hexbin' : hexbin plot\n",
      "    ax : matplotlib axes object, default None\n",
      "    subplots : boolean, default False\n",
      "        Make separate subplots for each column\n",
      "    sharex : boolean, default True if ax is None else False\n",
      "        In case subplots=True, share x axis and set some x axis labels to\n",
      "        invisible; defaults to True if ax is None otherwise False if an ax\n",
      "        is passed in; Be aware, that passing in both an ax and sharex=True\n",
      "        will alter all x axis labels for all axis in a figure!\n",
      "    sharey : boolean, default False\n",
      "        In case subplots=True, share y axis and set some y axis labels to\n",
      "        invisible\n",
      "    layout : tuple (optional)\n",
      "        (rows, columns) for the layout of subplots\n",
      "    figsize : a tuple (width, height) in inches\n",
      "    use_index : boolean, default True\n",
      "        Use index as ticks for x axis\n",
      "    title : string\n",
      "        Title to use for the plot\n",
      "    grid : boolean, default None (matlab style default)\n",
      "        Axis grid lines\n",
      "    legend : False/True/'reverse'\n",
      "        Place legend on axis subplots\n",
      "    style : list or dict\n",
      "        matplotlib line style per column\n",
      "    logx : boolean, default False\n",
      "        Use log scaling on x axis\n",
      "    logy : boolean, default False\n",
      "        Use log scaling on y axis\n",
      "    loglog : boolean, default False\n",
      "        Use log scaling on both x and y axes\n",
      "    xticks : sequence\n",
      "        Values to use for the xticks\n",
      "    yticks : sequence\n",
      "        Values to use for the yticks\n",
      "    xlim : 2-tuple/list\n",
      "    ylim : 2-tuple/list\n",
      "    rot : int, default None\n",
      "        Rotation for ticks (xticks for vertical, yticks for horizontal plots)\n",
      "    fontsize : int, default None\n",
      "        Font size for xticks and yticks\n",
      "    colormap : str or matplotlib colormap object, default None\n",
      "        Colormap to select colors from. If string, load colormap with that name\n",
      "        from matplotlib.\n",
      "    colorbar : boolean, optional\n",
      "        If True, plot colorbar (only relevant for 'scatter' and 'hexbin' plots)\n",
      "    position : float\n",
      "        Specify relative alignments for bar plot layout.\n",
      "        From 0 (left/bottom-end) to 1 (right/top-end). Default is 0.5 (center)\n",
      "    layout : tuple (optional)\n",
      "        (rows, columns) for the layout of the plot\n",
      "    table : boolean, Series or DataFrame, default False\n",
      "        If True, draw a table using the data in the DataFrame and the data will\n",
      "        be transposed to meet matplotlib's default layout.\n",
      "        If a Series or DataFrame is passed, use passed data to draw a table.\n",
      "    yerr : DataFrame, Series, array-like, dict and str\n",
      "        See :ref:`Plotting with Error Bars <visualization.errorbars>` for detail.\n",
      "    xerr : same types as yerr.\n",
      "    stacked : boolean, default False in line and\n",
      "        bar plots, and True in area plot. If True, create stacked plot.\n",
      "    sort_columns : boolean, default False\n",
      "        Sort column names to determine plot ordering\n",
      "    secondary_y : boolean or sequence, default False\n",
      "        Whether to plot on the secondary y-axis\n",
      "        If a list/tuple, which columns to plot on secondary y-axis\n",
      "    mark_right : boolean, default True\n",
      "        When using a secondary_y axis, automatically mark the column\n",
      "        labels with \"(right)\" in the legend\n",
      "    kwds : keywords\n",
      "        Options to pass to matplotlib plotting method\n",
      "    \n",
      "    Returns\n",
      "    -------\n",
      "    axes : matplotlib.AxesSubplot or np.array of them\n",
      "    \n",
      "    Notes\n",
      "    -----\n",
      "    \n",
      "    - See matplotlib documentation online for more on this subject\n",
      "    - If `kind` = 'bar' or 'barh', you can specify relative alignments\n",
      "      for bar plot layout by `position` keyword.\n",
      "      From 0 (left/bottom-end) to 1 (right/top-end). Default is 0.5 (center)\n",
      "    - If `kind` = 'scatter' and the argument `c` is the name of a dataframe\n",
      "      column, the values of that column are used to color each point.\n",
      "    - If `kind` = 'hexbin', you can control the size of the bins with the\n",
      "      `gridsize` argument. By default, a histogram of the counts around each\n",
      "      `(x, y)` point is computed. You can specify alternative aggregations\n",
      "      by passing values to the `C` and `reduce_C_function` arguments.\n",
      "      `C` specifies the value at each `(x, y)` point and `reduce_C_function`\n",
      "      is a function of one argument that reduces all the values in a bin to\n",
      "      a single number (e.g. `mean`, `max`, `sum`, `std`).\n",
      "\n"
     ]
    }
   ],
   "source": [
    "help(age.plot)"
   ]
  },
  {
   "cell_type": "code",
   "execution_count": 243,
   "metadata": {
    "collapsed": false
   },
   "outputs": [
    {
     "name": "stdout",
     "output_type": "stream",
     "text": [
      "520.779678623\n"
     ]
    }
   ],
   "source": [
    "print(average_minutes(agesleep, '010101'))"
   ]
  },
  {
   "cell_type": "code",
   "execution_count": 49,
   "metadata": {
    "collapsed": false
   },
   "outputs": [
    {
     "data": {
      "text/plain": [
       "<matplotlib.text.Text at 0x1232233c8>"
      ]
     },
     "execution_count": 49,
     "metadata": {},
     "output_type": "execute_result"
    },
    {
     "data": {
      "image/png": "[encoded data removed]",
      "text/plain": [
       "<matplotlib.figure.Figure at 0x1231f8470>"
      ]
     },
     "metadata": {},
     "output_type": "display_data"
    }
   ],
   "source": [
    "age_plot = age['TEAGE'].plot(kind='hist', bins=70, figsize=(10,8), \n",
    "                             title='Ages of Respondents', fontsize=16, color='k')\n",
    "age_plot.set_xlabel(\"AGE\")\n",
    "age_plot.set_ylabel(\"Number of Respondents\")"
   ]
  },
  {
   "cell_type": "code",
   "execution_count": 57,
   "metadata": {
    "collapsed": false
   },
   "outputs": [],
   "source": [
    "female_age = sexy_age[sexy_age.TESEX == 2]\n",
    "male_age = sexy_age[sexy_age.TESEX == 1]\n"
   ]
  },
  {
   "cell_type": "code",
   "execution_count": 356,
   "metadata": {
    "collapsed": false
   },
   "outputs": [
    {
     "name": "stdout",
     "output_type": "stream",
     "text": [
      "Total number of males: 5082\n"
     ]
    },
    {
     "data": {
      "image/png": "[encoded data removed]",
      "text/plain": [
       "<matplotlib.figure.Figure at 0x11ee41d68>"
      ]
     },
     "metadata": {},
     "output_type": "display_data"
    }
   ],
   "source": [
    "print(\"Total number of males: {}\".format(male_age.shape[0]))\n",
    "male_plot = male_age['TEAGE'].plot(kind='hist', ylim=(0,250), bins=70, figsize=(10,8), \n",
    "                                   title='Ages of Respondents', fontsize=16, color='b')\n",
    "male_plot.set_xlabel(\"AGE\")\n",
    "male_plot.set_ylabel(\"Number of Respondents\")\n",
    "plt.show()"
   ]
  },
  {
   "cell_type": "code",
   "execution_count": 497,
   "metadata": {
    "collapsed": false
   },
   "outputs": [
    {
     "data": {
      "text/plain": [
       "<matplotlib.axes._subplots.AxesSubplot at 0x1307f0400>"
      ]
     },
     "execution_count": 497,
     "metadata": {},
     "output_type": "execute_result"
    },
    {
     "data": {
      "image/png": "[encoded data removed]",
      "text/plain": [
       "<matplotlib.figure.Figure at 0x1307ab860>"
      ]
     },
     "metadata": {},
     "output_type": "display_data"
    }
   ],
   "source": [
    "\n",
    "#sexy_age\n",
    "sexy_age.pivot_table(index=[\"TEAGE\"], columns=[\"TESEX\"], values=[\"tucaseid\"], aggfunc=lambda x: len(x.unique())).plot(kind=\"bar\", figsize=(20, 20), stacked=True)"
   ]
  },
  {
   "cell_type": "code",
   "execution_count": 75,
   "metadata": {
    "collapsed": false
   },
   "outputs": [],
   "source": []
  },
  {
   "cell_type": "code",
   "execution_count": 355,
   "metadata": {
    "collapsed": false,
    "scrolled": false
   },
   "outputs": [
    {
     "name": "stdout",
     "output_type": "stream",
     "text": [
      "Total number of Females: 6303\n"
     ]
    },
    {
     "data": {
      "image/png": "[encoded data removed]",
      "text/plain": [
       "<matplotlib.figure.Figure at 0x12a561080>"
      ]
     },
     "metadata": {},
     "output_type": "display_data"
    }
   ],
   "source": [
    "print(\"Total number of Females: {}\".format(female_age.shape[0]))\n",
    "female_plot = female_age['TEAGE'].plot(kind='hist', bins=70, figsize=(10,8), \n",
    "                                       title='Ages of Respondents', fontsize=16, color='m')\n",
    "female_plot.set_xlabel(\"AGE\")\n",
    "female_plot.set_ylabel(\"Number of Respondents\")\n",
    "plt.show()"
   ]
  },
  {
   "cell_type": "code",
   "execution_count": 237,
   "metadata": {
    "collapsed": true
   },
   "outputs": [],
   "source": [
    "def average_minutes(data, activity_code):\n",
    "    activity_col = \"t{}\".format(activity_code)\n",
    "    data = data[['TUFINLWGT', activity_col]]\n",
    "    data = data.rename(columns={\"TUFINLWGT\": \"weight\", activity_col: \"minutes\"})\n",
    "    data['weighted_minutes'] = data.weight * data.minutes\n",
    "    return data.weighted_minutes.sum() / data.weight.sum()"
   ]
  },
  {
   "cell_type": "markdown",
   "metadata": {},
   "source": [
    "The above function returns the weighted average."
   ]
  },
  {
   "cell_type": "code",
   "execution_count": 469,
   "metadata": {
    "collapsed": true
   },
   "outputs": [],
   "source": [
    "def all_time(data, desire_name, desire_code, duty):\n",
    "    data_group = data.groupby(duty)\n",
    "    data_time = {i: average_minutes(k, desire_code) for i, k in data_group}\n",
    "    data_df = pd.DataFrame(data_time, index=[desire_name])\n",
    "    data_df = data_df.T\n",
    "    return data_df"
   ]
  },
  {
   "cell_type": "markdown",
   "metadata": {},
   "source": [
    "The above function will return the averages of the given parts of a dataframe using '.groupby'"
   ]
  },
  {
   "cell_type": "code",
   "execution_count": 329,
   "metadata": {
    "collapsed": true
   },
   "outputs": [],
   "source": [
    "master_group = master.groupby('TEAGE')\n"
   ]
  },
  {
   "cell_type": "code",
   "execution_count": 382,
   "metadata": {
    "collapsed": false
   },
   "outputs": [
    {
     "data": {
      "text/html": [
       "<div>\n",
       "<table border=\"1\" class=\"dataframe\">\n",
       "  <thead>\n",
       "    <tr style=\"text-align: right;\">\n",
       "      <th></th>\n",
       "      <th>Sleep</th>\n",
       "      <th>Work</th>\n",
       "    </tr>\n",
       "  </thead>\n",
       "  <tbody>\n",
       "    <tr>\n",
       "      <th>10</th>\n",
       "      <td>572.874959</td>\n",
       "      <td>51.847874</td>\n",
       "    </tr>\n",
       "    <tr>\n",
       "      <th>20</th>\n",
       "      <td>532.986603</td>\n",
       "      <td>218.561638</td>\n",
       "    </tr>\n",
       "    <tr>\n",
       "      <th>30</th>\n",
       "      <td>510.443990</td>\n",
       "      <td>251.044129</td>\n",
       "    </tr>\n",
       "    <tr>\n",
       "      <th>40</th>\n",
       "      <td>512.147604</td>\n",
       "      <td>247.786269</td>\n",
       "    </tr>\n",
       "    <tr>\n",
       "      <th>50</th>\n",
       "      <td>501.802848</td>\n",
       "      <td>233.328555</td>\n",
       "    </tr>\n",
       "    <tr>\n",
       "      <th>60</th>\n",
       "      <td>507.882861</td>\n",
       "      <td>128.834603</td>\n",
       "    </tr>\n",
       "    <tr>\n",
       "      <th>70</th>\n",
       "      <td>520.346491</td>\n",
       "      <td>37.429498</td>\n",
       "    </tr>\n",
       "    <tr>\n",
       "      <th>80</th>\n",
       "      <td>558.167498</td>\n",
       "      <td>16.443226</td>\n",
       "    </tr>\n",
       "  </tbody>\n",
       "</table>\n",
       "</div>"
      ],
      "text/plain": [
       "         Sleep        Work\n",
       "10  572.874959   51.847874\n",
       "20  532.986603  218.561638\n",
       "30  510.443990  251.044129\n",
       "40  512.147604  247.786269\n",
       "50  501.802848  233.328555\n",
       "60  507.882861  128.834603\n",
       "70  520.346491   37.429498\n",
       "80  558.167498   16.443226"
      ]
     },
     "execution_count": 382,
     "metadata": {},
     "output_type": "execute_result"
    }
   ],
   "source": [
    "sleep_time = {i: average_minutes(k, '010101') for i, k in master_group}\n",
    "work_time = {i: average_minutes(k, '050101') for i, k in master_group}\n",
    "    \n",
    "sleeper = all_time(master, 'Sleep', '010101', 'TEAGE')\n",
    "worker = all_time(master, 'Work','050101', 'TEAGE')\n",
    "sleep_work = sleeper.join(worker)\n"
   ]
  },
  {
   "cell_type": "code",
   "execution_count": 375,
   "metadata": {
    "collapsed": false
   },
   "outputs": [
    {
     "data": {
      "text/html": [
       "<div>\n",
       "<table border=\"1\" class=\"dataframe\">\n",
       "  <thead>\n",
       "    <tr style=\"text-align: right;\">\n",
       "      <th></th>\n",
       "      <th>10</th>\n",
       "      <th>20</th>\n",
       "      <th>30</th>\n",
       "      <th>40</th>\n",
       "      <th>50</th>\n",
       "      <th>60</th>\n",
       "      <th>70</th>\n",
       "      <th>80</th>\n",
       "    </tr>\n",
       "  </thead>\n",
       "  <tbody>\n",
       "    <tr>\n",
       "      <th>hello</th>\n",
       "      <td>572.874959</td>\n",
       "      <td>532.986603</td>\n",
       "      <td>510.44399</td>\n",
       "      <td>512.147604</td>\n",
       "      <td>501.802848</td>\n",
       "      <td>507.882861</td>\n",
       "      <td>520.346491</td>\n",
       "      <td>558.167498</td>\n",
       "    </tr>\n",
       "  </tbody>\n",
       "</table>\n",
       "</div>"
      ],
      "text/plain": [
       "               10          20         30          40          50          60  \\\n",
       "hello  572.874959  532.986603  510.44399  512.147604  501.802848  507.882861   \n",
       "\n",
       "               70          80  \n",
       "hello  520.346491  558.167498  "
      ]
     },
     "execution_count": 375,
     "metadata": {},
     "output_type": "execute_result"
    }
   ],
   "source": [
    "sleep_df = pd.DataFrame(sleep_time, index=['sleep'])\n",
    "work_df = pd.DataFrame(work_time, index=['work'])\n"
   ]
  },
  {
   "cell_type": "code",
   "execution_count": 332,
   "metadata": {
    "collapsed": false
   },
   "outputs": [],
   "source": [
    "sleep_df = sleep_df.T\n",
    "work_df = work_df.T"
   ]
  },
  {
   "cell_type": "markdown",
   "metadata": {},
   "source": [
    "'sleep_df' is now equivalent to 'all_time(master, '010101', 'TEAGE')'"
   ]
  },
  {
   "cell_type": "code",
   "execution_count": 387,
   "metadata": {
    "collapsed": false,
    "scrolled": false
   },
   "outputs": [
    {
     "data": {
      "image/png": "[encoded data removed]",
      "text/plain": [
       "<matplotlib.figure.Figure at 0x12cb52a20>"
      ]
     },
     "metadata": {},
     "output_type": "display_data"
    }
   ],
   "source": [
    "\n",
    "sleep_plot = sleeper.plot(figsize=(10,6), color='c', title=\"Time slept per Age\",\n",
    "                               marker='o', markerfacecolor='b', markersize=3,\n",
    "                               fontsize=16)\n",
    "sleep_plot.set_xlabel(\"Age Group\")\n",
    "sleep_plot.set_ylabel(\"Average Time Slept\")\n",
    "sleep_plot.legend(['1 Year'])\n",
    "sleep_plot.grid(axis='x',color='r')\n",
    "#decades = [\"{}'s\".format(i) for i in range(10,81,10)]\n",
    "#sleep_plot.set_xticks(range(10,81,10), decades)\n"
   ]
  },
  {
   "cell_type": "code",
   "execution_count": 391,
   "metadata": {
    "collapsed": false,
    "scrolled": false
   },
   "outputs": [
    {
     "data": {
      "image/png": "[encoded data removed]",
      "text/plain": [
       "<matplotlib.figure.Figure at 0x12be50e80>"
      ]
     },
     "metadata": {},
     "output_type": "display_data"
    }
   ],
   "source": [
    "work_plot = worker.plot(figsize=(10,6), color='m', title=\"Time Worked per Age\",\n",
    "                               marker='o', markerfacecolor='k', markersize=3,\n",
    "                               fontsize=16)\n",
    "work_plot.set_xlabel(\"Age Group\")\n",
    "work_plot.set_ylabel(\"Average Time Worked\")\n",
    "work_plot.legend(['1 Year'])\n",
    "work_plot.grid(axis='x',color='r')"
   ]
  },
  {
   "cell_type": "markdown",
   "metadata": {},
   "source": [
    "##^The above two plots suggest that Time worked is inversely proportional to Time slept."
   ]
  },
  {
   "cell_type": "code",
   "execution_count": 499,
   "metadata": {
    "collapsed": false,
    "scrolled": false
   },
   "outputs": [
    {
     "data": {
      "image/png": "[encoded data removed]",
      "text/plain": [
       "<matplotlib.figure.Figure at 0x131037048>"
      ]
     },
     "metadata": {},
     "output_type": "display_data"
    }
   ],
   "source": [
    "watcher = all_time(master, 'Televisioning', '120303', 'TEAGE')\n",
    "watched = watcher.plot(figsize=(10,6), title='Minutes per day spent watching Television', \n",
    "                       linewidth=1, marker = '*')\n",
    "watched.set_xlabel('AGE')\n",
    "watched.set_ylabel('Hours watching')\n",
    "watched.grid()"
   ]
  },
  {
   "cell_type": "markdown",
   "metadata": {},
   "source": [
    "Televsion usage increases with age. Why?"
   ]
  },
  {
   "cell_type": "code",
   "execution_count": 403,
   "metadata": {
    "collapsed": true
   },
   "outputs": [],
   "source": [
    "def activity_columns(data, activity_code):\n",
    "    col_prefix = \"t{}\".format(activity_code)\n",
    "    return [column for column in data.columns if re.match(col_prefix, column)]"
   ]
  },
  {
   "cell_type": "code",
   "execution_count": 471,
   "metadata": {
    "collapsed": true
   },
   "outputs": [],
   "source": [
    "def average_minutes_2(data, activity_code):\n",
    "    data = data[['TUFINLWGT', activity_code]]\n",
    "    data = data.rename(columns={\"TUFINLWGT\": \"weight\", activity_code: \"minutes\"})\n",
    "    data['weighted_minutes'] = data.weight * data.minutes\n",
    "    return data.weighted_minutes.sum() / data.weight.sum()"
   ]
  },
  {
   "cell_type": "code",
   "execution_count": 472,
   "metadata": {
    "collapsed": true
   },
   "outputs": [],
   "source": [
    "def all_time_2(data, desire_name, desire_code, duty):\n",
    "    data_group = data.groupby(duty)\n",
    "    data_time = {i: average_minutes_2(k, desire_code) for i, k in data_group}\n",
    "    data_df = pd.DataFrame(data_time, index=[desire_name])\n",
    "    data_df = data_df.T\n",
    "    return data_df"
   ]
  },
  {
   "cell_type": "code",
   "execution_count": 449,
   "metadata": {
    "collapsed": false
   },
   "outputs": [
    {
     "data": {
      "text/html": [
       "<div>\n",
       "<table border=\"1\" class=\"dataframe\">\n",
       "  <thead>\n",
       "    <tr style=\"text-align: right;\">\n",
       "      <th></th>\n",
       "      <th>TEAGE</th>\n",
       "      <th>t130101</th>\n",
       "      <th>t130102</th>\n",
       "      <th>t130103</th>\n",
       "      <th>t130104</th>\n",
       "      <th>t130105</th>\n",
       "      <th>t130106</th>\n",
       "      <th>t130107</th>\n",
       "      <th>t130108</th>\n",
       "      <th>t130109</th>\n",
       "      <th>...</th>\n",
       "      <th>t130128</th>\n",
       "      <th>t130129</th>\n",
       "      <th>t130130</th>\n",
       "      <th>t130131</th>\n",
       "      <th>t130132</th>\n",
       "      <th>t130133</th>\n",
       "      <th>t130134</th>\n",
       "      <th>t130135</th>\n",
       "      <th>t130136</th>\n",
       "      <th>t130199</th>\n",
       "    </tr>\n",
       "    <tr>\n",
       "      <th>TUFINLWGT</th>\n",
       "      <th></th>\n",
       "      <th></th>\n",
       "      <th></th>\n",
       "      <th></th>\n",
       "      <th></th>\n",
       "      <th></th>\n",
       "      <th></th>\n",
       "      <th></th>\n",
       "      <th></th>\n",
       "      <th></th>\n",
       "      <th></th>\n",
       "      <th></th>\n",
       "      <th></th>\n",
       "      <th></th>\n",
       "      <th></th>\n",
       "      <th></th>\n",
       "      <th></th>\n",
       "      <th></th>\n",
       "      <th></th>\n",
       "      <th></th>\n",
       "      <th></th>\n",
       "    </tr>\n",
       "  </thead>\n",
       "  <tbody>\n",
       "    <tr>\n",
       "      <th>11899905.662034</th>\n",
       "      <td>22</td>\n",
       "      <td>0</td>\n",
       "      <td>0</td>\n",
       "      <td>0</td>\n",
       "      <td>0</td>\n",
       "      <td>0</td>\n",
       "      <td>0</td>\n",
       "      <td>0</td>\n",
       "      <td>0</td>\n",
       "      <td>0</td>\n",
       "      <td>...</td>\n",
       "      <td>0</td>\n",
       "      <td>0</td>\n",
       "      <td>0</td>\n",
       "      <td>0</td>\n",
       "      <td>0</td>\n",
       "      <td>0</td>\n",
       "      <td>0</td>\n",
       "      <td>0</td>\n",
       "      <td>0</td>\n",
       "      <td>0</td>\n",
       "    </tr>\n",
       "    <tr>\n",
       "      <th>4447638.009513</th>\n",
       "      <td>39</td>\n",
       "      <td>0</td>\n",
       "      <td>0</td>\n",
       "      <td>0</td>\n",
       "      <td>0</td>\n",
       "      <td>0</td>\n",
       "      <td>0</td>\n",
       "      <td>0</td>\n",
       "      <td>0</td>\n",
       "      <td>0</td>\n",
       "      <td>...</td>\n",
       "      <td>0</td>\n",
       "      <td>0</td>\n",
       "      <td>0</td>\n",
       "      <td>0</td>\n",
       "      <td>0</td>\n",
       "      <td>0</td>\n",
       "      <td>0</td>\n",
       "      <td>0</td>\n",
       "      <td>0</td>\n",
       "      <td>0</td>\n",
       "    </tr>\n",
       "    <tr>\n",
       "      <th>10377056.507734</th>\n",
       "      <td>47</td>\n",
       "      <td>0</td>\n",
       "      <td>0</td>\n",
       "      <td>0</td>\n",
       "      <td>0</td>\n",
       "      <td>0</td>\n",
       "      <td>0</td>\n",
       "      <td>0</td>\n",
       "      <td>0</td>\n",
       "      <td>0</td>\n",
       "      <td>...</td>\n",
       "      <td>0</td>\n",
       "      <td>0</td>\n",
       "      <td>0</td>\n",
       "      <td>0</td>\n",
       "      <td>0</td>\n",
       "      <td>0</td>\n",
       "      <td>0</td>\n",
       "      <td>0</td>\n",
       "      <td>0</td>\n",
       "      <td>0</td>\n",
       "    </tr>\n",
       "    <tr>\n",
       "      <th>7731257.992805</th>\n",
       "      <td>50</td>\n",
       "      <td>0</td>\n",
       "      <td>0</td>\n",
       "      <td>0</td>\n",
       "      <td>0</td>\n",
       "      <td>0</td>\n",
       "      <td>0</td>\n",
       "      <td>0</td>\n",
       "      <td>0</td>\n",
       "      <td>0</td>\n",
       "      <td>...</td>\n",
       "      <td>0</td>\n",
       "      <td>0</td>\n",
       "      <td>0</td>\n",
       "      <td>0</td>\n",
       "      <td>0</td>\n",
       "      <td>0</td>\n",
       "      <td>0</td>\n",
       "      <td>0</td>\n",
       "      <td>0</td>\n",
       "      <td>0</td>\n",
       "    </tr>\n",
       "    <tr>\n",
       "      <th>4725269.227067</th>\n",
       "      <td>45</td>\n",
       "      <td>0</td>\n",
       "      <td>0</td>\n",
       "      <td>0</td>\n",
       "      <td>0</td>\n",
       "      <td>0</td>\n",
       "      <td>0</td>\n",
       "      <td>0</td>\n",
       "      <td>0</td>\n",
       "      <td>0</td>\n",
       "      <td>...</td>\n",
       "      <td>0</td>\n",
       "      <td>0</td>\n",
       "      <td>0</td>\n",
       "      <td>0</td>\n",
       "      <td>0</td>\n",
       "      <td>0</td>\n",
       "      <td>0</td>\n",
       "      <td>0</td>\n",
       "      <td>60</td>\n",
       "      <td>0</td>\n",
       "    </tr>\n",
       "  </tbody>\n",
       "</table>\n",
       "<p>5 rows × 36 columns</p>\n",
       "</div>"
      ],
      "text/plain": [
       "                 TEAGE  t130101  t130102  t130103  t130104  t130105  t130106  \\\n",
       "TUFINLWGT                                                                      \n",
       "11899905.662034     22        0        0        0        0        0        0   \n",
       "4447638.009513      39        0        0        0        0        0        0   \n",
       "10377056.507734     47        0        0        0        0        0        0   \n",
       "7731257.992805      50        0        0        0        0        0        0   \n",
       "4725269.227067      45        0        0        0        0        0        0   \n",
       "\n",
       "                 t130107  t130108  t130109   ...     t130128  t130129  \\\n",
       "TUFINLWGT                                    ...                        \n",
       "11899905.662034        0        0        0   ...           0        0   \n",
       "4447638.009513         0        0        0   ...           0        0   \n",
       "10377056.507734        0        0        0   ...           0        0   \n",
       "7731257.992805         0        0        0   ...           0        0   \n",
       "4725269.227067         0        0        0   ...           0        0   \n",
       "\n",
       "                 t130130  t130131  t130132  t130133  t130134  t130135  \\\n",
       "TUFINLWGT                                                               \n",
       "11899905.662034        0        0        0        0        0        0   \n",
       "4447638.009513         0        0        0        0        0        0   \n",
       "10377056.507734        0        0        0        0        0        0   \n",
       "7731257.992805         0        0        0        0        0        0   \n",
       "4725269.227067         0        0        0        0        0        0   \n",
       "\n",
       "                 t130136  t130199  \n",
       "TUFINLWGT                          \n",
       "11899905.662034        0        0  \n",
       "4447638.009513         0        0  \n",
       "10377056.507734        0        0  \n",
       "7731257.992805         0        0  \n",
       "4725269.227067        60        0  \n",
       "\n",
       "[5 rows x 36 columns]"
      ]
     },
     "execution_count": 449,
     "metadata": {},
     "output_type": "execute_result"
    }
   ],
   "source": [
    "exercise_list = datum[['TUFINLWGT', 'TEAGE'] + activity_columns(datum, '1301')]\n",
    "exercise_list.index = exercise_list.pop('TUFINLWGT')\n",
    "exercise_list.head()"
   ]
  },
  {
   "cell_type": "code",
   "execution_count": 447,
   "metadata": {
    "collapsed": true
   },
   "outputs": [],
   "source": [
    "e_df = exercise_list.sum(axis=1).to_frame(name='exercise')"
   ]
  },
  {
   "cell_type": "code",
   "execution_count": 463,
   "metadata": {
    "collapsed": false
   },
   "outputs": [],
   "source": [
    "o_df = e_df.reset_index()"
   ]
  },
  {
   "cell_type": "code",
   "execution_count": 464,
   "metadata": {
    "collapsed": false
   },
   "outputs": [
    {
     "data": {
      "text/html": [
       "<div>\n",
       "<table border=\"1\" class=\"dataframe\">\n",
       "  <thead>\n",
       "    <tr style=\"text-align: right;\">\n",
       "      <th></th>\n",
       "      <th>TUFINLWGT</th>\n",
       "      <th>exercise</th>\n",
       "    </tr>\n",
       "  </thead>\n",
       "  <tbody>\n",
       "    <tr>\n",
       "      <th>0</th>\n",
       "      <td>11899905.662034</td>\n",
       "      <td>0</td>\n",
       "    </tr>\n",
       "    <tr>\n",
       "      <th>1</th>\n",
       "      <td>4447638.009513</td>\n",
       "      <td>0</td>\n",
       "    </tr>\n",
       "    <tr>\n",
       "      <th>2</th>\n",
       "      <td>10377056.507734</td>\n",
       "      <td>260</td>\n",
       "    </tr>\n",
       "    <tr>\n",
       "      <th>3</th>\n",
       "      <td>7731257.992805</td>\n",
       "      <td>0</td>\n",
       "    </tr>\n",
       "    <tr>\n",
       "      <th>4</th>\n",
       "      <td>4725269.227067</td>\n",
       "      <td>60</td>\n",
       "    </tr>\n",
       "  </tbody>\n",
       "</table>\n",
       "</div>"
      ],
      "text/plain": [
       "         TUFINLWGT  exercise\n",
       "0  11899905.662034         0\n",
       "1   4447638.009513         0\n",
       "2  10377056.507734       260\n",
       "3   7731257.992805         0\n",
       "4   4725269.227067        60"
      ]
     },
     "execution_count": 464,
     "metadata": {},
     "output_type": "execute_result"
    }
   ],
   "source": [
    "o_df.head()"
   ]
  },
  {
   "cell_type": "code",
   "execution_count": 467,
   "metadata": {
    "collapsed": false
   },
   "outputs": [],
   "source": [
    "meester = pd.merge(master, o_df, on='TUFINLWGT')"
   ]
  },
  {
   "cell_type": "code",
   "execution_count": 473,
   "metadata": {
    "collapsed": false,
    "scrolled": true
   },
   "outputs": [],
   "source": [
    "exer = all_time_2(meester, 'exerts', 'exercise', 'TEAGE')"
   ]
  },
  {
   "cell_type": "code",
   "execution_count": 474,
   "metadata": {
    "collapsed": false
   },
   "outputs": [
    {
     "data": {
      "text/html": [
       "<div>\n",
       "<table border=\"1\" class=\"dataframe\">\n",
       "  <thead>\n",
       "    <tr style=\"text-align: right;\">\n",
       "      <th></th>\n",
       "      <th>exerts</th>\n",
       "    </tr>\n",
       "  </thead>\n",
       "  <tbody>\n",
       "    <tr>\n",
       "      <th>10</th>\n",
       "      <td>40.938099</td>\n",
       "    </tr>\n",
       "    <tr>\n",
       "      <th>20</th>\n",
       "      <td>22.628489</td>\n",
       "    </tr>\n",
       "    <tr>\n",
       "      <th>30</th>\n",
       "      <td>14.647323</td>\n",
       "    </tr>\n",
       "    <tr>\n",
       "      <th>40</th>\n",
       "      <td>13.711169</td>\n",
       "    </tr>\n",
       "    <tr>\n",
       "      <th>50</th>\n",
       "      <td>13.576900</td>\n",
       "    </tr>\n",
       "  </tbody>\n",
       "</table>\n",
       "</div>"
      ],
      "text/plain": [
       "       exerts\n",
       "10  40.938099\n",
       "20  22.628489\n",
       "30  14.647323\n",
       "40  13.711169\n",
       "50  13.576900"
      ]
     },
     "execution_count": 474,
     "metadata": {},
     "output_type": "execute_result"
    }
   ],
   "source": [
    "exer.head()"
   ]
  },
  {
   "cell_type": "code",
   "execution_count": 476,
   "metadata": {
    "collapsed": false
   },
   "outputs": [
    {
     "data": {
      "image/png": "[encoded data removed]",
      "text/plain": [
       "<matplotlib.figure.Figure at 0x12bf3e5c0>"
      ]
     },
     "metadata": {},
     "output_type": "display_data"
    }
   ],
   "source": [
    "watcher = all_time(master, 'Televisioning', '120303', 'TEAGE')\n",
    "watched = watcher.plot(figsize=(10,6), title='Minutes per day spent watching Television', \n",
    "                       linewidth=5)\n",
    "watched.set_xlabel('AGE')\n",
    "watched.set_ylabel('Hours watching')\n",
    "watched.grid()"
   ]
  },
  {
   "cell_type": "code",
   "execution_count": 479,
   "metadata": {
    "collapsed": false,
    "scrolled": true
   },
   "outputs": [
    {
     "data": {
      "image/png": "[encoded data removed]",
      "text/plain": [
       "<matplotlib.figure.Figure at 0x12c9b1a20>"
      ]
     },
     "metadata": {},
     "output_type": "display_data"
    }
   ],
   "source": [
    "exertion = exer.plot(figsize=(10,6), linewidth=5, color = 'r', \n",
    "                     title='Average Total Physical Activity')\n",
    "exertion.set_xlabel('Age')\n",
    "exertion.set_ylabel('Minutes of activity per Day')\n",
    "exertion.grid()"
   ]
  },
  {
   "cell_type": "markdown",
   "metadata": {},
   "source": [
    "The above two plots suggest that the youth might not be so inclined to watch Television as much as the elderly because they spend more time engaging in physical activity"
   ]
  },
  {
   "cell_type": "markdown",
   "metadata": {},
   "source": [
    "Note: The averages are so low in this graph because I included all of the Zero Values."
   ]
  },
  {
   "cell_type": "code",
   "execution_count": null,
   "metadata": {
    "collapsed": true
   },
   "outputs": [],
   "source": []
  }
 ],
 "metadata": {
  "kernelspec": {
   "display_name": "Python 3",
   "language": "python",
   "name": "python3"
  },
  "language_info": {
   "codemirror_mode": {
    "name": "ipython",
    "version": 3
   },
   "file_extension": ".py",
   "mimetype": "text/x-python",
   "name": "python",
   "nbconvert_exporter": "python",
   "pygments_lexer": "ipython3",
   "version": "3.4.3"
  }
 },
 "nbformat": 4,
 "nbformat_minor": 0
}
