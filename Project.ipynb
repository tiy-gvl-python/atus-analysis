{
 "cells": [
  {
   "cell_type": "code",
   "execution_count": 2,
   "metadata": {
    "collapsed": false
   },
   "outputs": [],
   "source": [
    "import matplotlib.pyplot as plt\n",
    "import pandas as pd\n",
    "import numpy as np\n",
    "import re\n",
    "import math\n"
   ]
  },
  {
   "cell_type": "code",
   "execution_count": 3,
   "metadata": {
    "collapsed": true
   },
   "outputs": [],
   "source": [
    "%matplotlib inline"
   ]
  },
  {
   "cell_type": "code",
   "execution_count": 4,
   "metadata": {
    "collapsed": false
   },
   "outputs": [
    {
     "name": "stdout",
     "output_type": "stream",
     "text": [
      "<class 'pandas.core.frame.DataFrame'>\n",
      "Int64Index: 11385 entries, 0 to 11384\n",
      "Columns: 413 entries, tucaseid to t500107\n",
      "dtypes: float64(1), int64(412)\n",
      "memory usage: 36.0 MB\n"
     ]
    },
    {
     "data": {
      "text/html": [
       "<div>\n",
       "<table border=\"1\" class=\"dataframe\">\n",
       "  <thead>\n",
       "    <tr style=\"text-align: right;\">\n",
       "      <th></th>\n",
       "      <th>tucaseid</th>\n",
       "      <th>TUFINLWGT</th>\n",
       "      <th>TRYHHCHILD</th>\n",
       "      <th>TEAGE</th>\n",
       "      <th>TESEX</th>\n",
       "      <th>PEEDUCA</th>\n",
       "      <th>PTDTRACE</th>\n",
       "      <th>PEHSPNON</th>\n",
       "      <th>GTMETSTA</th>\n",
       "      <th>TELFS</th>\n",
       "      <th>...</th>\n",
       "      <th>t181501</th>\n",
       "      <th>t181599</th>\n",
       "      <th>t181601</th>\n",
       "      <th>t181801</th>\n",
       "      <th>t189999</th>\n",
       "      <th>t500101</th>\n",
       "      <th>t500103</th>\n",
       "      <th>t500105</th>\n",
       "      <th>t500106</th>\n",
       "      <th>t500107</th>\n",
       "    </tr>\n",
       "  </thead>\n",
       "  <tbody>\n",
       "    <tr>\n",
       "      <th>0</th>\n",
       "      <td>20130101130004</td>\n",
       "      <td>11899905.662034</td>\n",
       "      <td>12</td>\n",
       "      <td>22</td>\n",
       "      <td>2</td>\n",
       "      <td>40</td>\n",
       "      <td>8</td>\n",
       "      <td>2</td>\n",
       "      <td>1</td>\n",
       "      <td>5</td>\n",
       "      <td>...</td>\n",
       "      <td>0</td>\n",
       "      <td>0</td>\n",
       "      <td>0</td>\n",
       "      <td>0</td>\n",
       "      <td>0</td>\n",
       "      <td>0</td>\n",
       "      <td>0</td>\n",
       "      <td>0</td>\n",
       "      <td>0</td>\n",
       "      <td>0</td>\n",
       "    </tr>\n",
       "    <tr>\n",
       "      <th>1</th>\n",
       "      <td>20130101130112</td>\n",
       "      <td>4447638.009513</td>\n",
       "      <td>1</td>\n",
       "      <td>39</td>\n",
       "      <td>1</td>\n",
       "      <td>43</td>\n",
       "      <td>1</td>\n",
       "      <td>2</td>\n",
       "      <td>1</td>\n",
       "      <td>1</td>\n",
       "      <td>...</td>\n",
       "      <td>0</td>\n",
       "      <td>0</td>\n",
       "      <td>0</td>\n",
       "      <td>0</td>\n",
       "      <td>0</td>\n",
       "      <td>0</td>\n",
       "      <td>0</td>\n",
       "      <td>0</td>\n",
       "      <td>0</td>\n",
       "      <td>0</td>\n",
       "    </tr>\n",
       "    <tr>\n",
       "      <th>2</th>\n",
       "      <td>20130101130123</td>\n",
       "      <td>10377056.507734</td>\n",
       "      <td>-1</td>\n",
       "      <td>47</td>\n",
       "      <td>2</td>\n",
       "      <td>40</td>\n",
       "      <td>1</td>\n",
       "      <td>2</td>\n",
       "      <td>1</td>\n",
       "      <td>4</td>\n",
       "      <td>...</td>\n",
       "      <td>25</td>\n",
       "      <td>0</td>\n",
       "      <td>0</td>\n",
       "      <td>0</td>\n",
       "      <td>0</td>\n",
       "      <td>0</td>\n",
       "      <td>0</td>\n",
       "      <td>0</td>\n",
       "      <td>0</td>\n",
       "      <td>0</td>\n",
       "    </tr>\n",
       "    <tr>\n",
       "      <th>3</th>\n",
       "      <td>20130101130611</td>\n",
       "      <td>7731257.992805</td>\n",
       "      <td>-1</td>\n",
       "      <td>50</td>\n",
       "      <td>2</td>\n",
       "      <td>40</td>\n",
       "      <td>1</td>\n",
       "      <td>1</td>\n",
       "      <td>1</td>\n",
       "      <td>1</td>\n",
       "      <td>...</td>\n",
       "      <td>0</td>\n",
       "      <td>0</td>\n",
       "      <td>0</td>\n",
       "      <td>0</td>\n",
       "      <td>0</td>\n",
       "      <td>0</td>\n",
       "      <td>0</td>\n",
       "      <td>0</td>\n",
       "      <td>0</td>\n",
       "      <td>0</td>\n",
       "    </tr>\n",
       "    <tr>\n",
       "      <th>4</th>\n",
       "      <td>20130101130616</td>\n",
       "      <td>4725269.227067</td>\n",
       "      <td>-1</td>\n",
       "      <td>45</td>\n",
       "      <td>2</td>\n",
       "      <td>40</td>\n",
       "      <td>2</td>\n",
       "      <td>2</td>\n",
       "      <td>1</td>\n",
       "      <td>1</td>\n",
       "      <td>...</td>\n",
       "      <td>0</td>\n",
       "      <td>0</td>\n",
       "      <td>0</td>\n",
       "      <td>0</td>\n",
       "      <td>0</td>\n",
       "      <td>0</td>\n",
       "      <td>0</td>\n",
       "      <td>0</td>\n",
       "      <td>0</td>\n",
       "      <td>0</td>\n",
       "    </tr>\n",
       "  </tbody>\n",
       "</table>\n",
       "<p>5 rows × 413 columns</p>\n",
       "</div>"
      ],
      "text/plain": [
       "         tucaseid        TUFINLWGT  TRYHHCHILD  TEAGE  TESEX  PEEDUCA  \\\n",
       "0  20130101130004  11899905.662034          12     22      2       40   \n",
       "1  20130101130112   4447638.009513           1     39      1       43   \n",
       "2  20130101130123  10377056.507734          -1     47      2       40   \n",
       "3  20130101130611   7731257.992805          -1     50      2       40   \n",
       "4  20130101130616   4725269.227067          -1     45      2       40   \n",
       "\n",
       "   PTDTRACE  PEHSPNON  GTMETSTA  TELFS   ...     t181501  t181599  t181601  \\\n",
       "0         8         2         1      5   ...           0        0        0   \n",
       "1         1         2         1      1   ...           0        0        0   \n",
       "2         1         2         1      4   ...          25        0        0   \n",
       "3         1         1         1      1   ...           0        0        0   \n",
       "4         2         2         1      1   ...           0        0        0   \n",
       "\n",
       "   t181801  t189999  t500101  t500103  t500105  t500106  t500107  \n",
       "0        0        0        0        0        0        0        0  \n",
       "1        0        0        0        0        0        0        0  \n",
       "2        0        0        0        0        0        0        0  \n",
       "3        0        0        0        0        0        0        0  \n",
       "4        0        0        0        0        0        0        0  \n",
       "\n",
       "[5 rows x 413 columns]"
      ]
     },
     "execution_count": 4,
     "metadata": {},
     "output_type": "execute_result"
    }
   ],
   "source": [
    "summary = pd.read_csv(\"atusdata/atussum_2013.dat\")\n",
    "summary.info()\n",
    "\n",
    "summary.head()"
   ]
  },
  {
   "cell_type": "code",
   "execution_count": 5,
   "metadata": {
    "collapsed": false
   },
   "outputs": [
    {
     "data": {
      "text/html": [
       "<div>\n",
       "<table border=\"1\" class=\"dataframe\">\n",
       "  <thead>\n",
       "    <tr style=\"text-align: right;\">\n",
       "      <th></th>\n",
       "      <th>TUCASEID</th>\n",
       "      <th>TULINENO</th>\n",
       "      <th>TUYEAR</th>\n",
       "      <th>TUMONTH</th>\n",
       "      <th>TEABSRSN</th>\n",
       "      <th>TEERN</th>\n",
       "      <th>TEERNH1O</th>\n",
       "      <th>TEERNH2</th>\n",
       "      <th>TEERNHRO</th>\n",
       "      <th>TEERNHRY</th>\n",
       "      <th>...</th>\n",
       "      <th>TXSPEMPNOT</th>\n",
       "      <th>TXSPUHRS</th>\n",
       "      <th>TXTCC</th>\n",
       "      <th>TXTCCTOT</th>\n",
       "      <th>TXTCOC</th>\n",
       "      <th>TXTHH</th>\n",
       "      <th>TXTNOHH</th>\n",
       "      <th>TXTO</th>\n",
       "      <th>TXTOHH</th>\n",
       "      <th>TXTONHH</th>\n",
       "    </tr>\n",
       "  </thead>\n",
       "  <tbody>\n",
       "    <tr>\n",
       "      <th>0</th>\n",
       "      <td>20130101130004</td>\n",
       "      <td>1</td>\n",
       "      <td>2013</td>\n",
       "      <td>1</td>\n",
       "      <td>-1</td>\n",
       "      <td>-1</td>\n",
       "      <td>-1</td>\n",
       "      <td>-1</td>\n",
       "      <td>-1</td>\n",
       "      <td>-1</td>\n",
       "      <td>...</td>\n",
       "      <td>-1</td>\n",
       "      <td>-1</td>\n",
       "      <td>0</td>\n",
       "      <td>0</td>\n",
       "      <td>0</td>\n",
       "      <td>0</td>\n",
       "      <td>0</td>\n",
       "      <td>-1</td>\n",
       "      <td>-1</td>\n",
       "      <td>-1</td>\n",
       "    </tr>\n",
       "    <tr>\n",
       "      <th>1</th>\n",
       "      <td>20130101130112</td>\n",
       "      <td>1</td>\n",
       "      <td>2013</td>\n",
       "      <td>1</td>\n",
       "      <td>-1</td>\n",
       "      <td>-1</td>\n",
       "      <td>-1</td>\n",
       "      <td>-1</td>\n",
       "      <td>-1</td>\n",
       "      <td>2</td>\n",
       "      <td>...</td>\n",
       "      <td>0</td>\n",
       "      <td>0</td>\n",
       "      <td>0</td>\n",
       "      <td>0</td>\n",
       "      <td>0</td>\n",
       "      <td>0</td>\n",
       "      <td>-1</td>\n",
       "      <td>0</td>\n",
       "      <td>0</td>\n",
       "      <td>-1</td>\n",
       "    </tr>\n",
       "    <tr>\n",
       "      <th>2</th>\n",
       "      <td>20130101130123</td>\n",
       "      <td>1</td>\n",
       "      <td>2013</td>\n",
       "      <td>1</td>\n",
       "      <td>-1</td>\n",
       "      <td>-1</td>\n",
       "      <td>-1</td>\n",
       "      <td>-1</td>\n",
       "      <td>-1</td>\n",
       "      <td>-1</td>\n",
       "      <td>...</td>\n",
       "      <td>0</td>\n",
       "      <td>0</td>\n",
       "      <td>-1</td>\n",
       "      <td>0</td>\n",
       "      <td>0</td>\n",
       "      <td>-1</td>\n",
       "      <td>-1</td>\n",
       "      <td>-1</td>\n",
       "      <td>-1</td>\n",
       "      <td>-1</td>\n",
       "    </tr>\n",
       "    <tr>\n",
       "      <th>3</th>\n",
       "      <td>20130101130611</td>\n",
       "      <td>1</td>\n",
       "      <td>2013</td>\n",
       "      <td>1</td>\n",
       "      <td>-1</td>\n",
       "      <td>-1</td>\n",
       "      <td>-1</td>\n",
       "      <td>-1</td>\n",
       "      <td>-1</td>\n",
       "      <td>2</td>\n",
       "      <td>...</td>\n",
       "      <td>-1</td>\n",
       "      <td>-1</td>\n",
       "      <td>-1</td>\n",
       "      <td>0</td>\n",
       "      <td>0</td>\n",
       "      <td>-1</td>\n",
       "      <td>-1</td>\n",
       "      <td>-1</td>\n",
       "      <td>-1</td>\n",
       "      <td>-1</td>\n",
       "    </tr>\n",
       "    <tr>\n",
       "      <th>4</th>\n",
       "      <td>20130101130616</td>\n",
       "      <td>1</td>\n",
       "      <td>2013</td>\n",
       "      <td>1</td>\n",
       "      <td>-1</td>\n",
       "      <td>-1</td>\n",
       "      <td>-1</td>\n",
       "      <td>-1</td>\n",
       "      <td>-1</td>\n",
       "      <td>2</td>\n",
       "      <td>...</td>\n",
       "      <td>-1</td>\n",
       "      <td>-1</td>\n",
       "      <td>-1</td>\n",
       "      <td>0</td>\n",
       "      <td>0</td>\n",
       "      <td>-1</td>\n",
       "      <td>-1</td>\n",
       "      <td>-1</td>\n",
       "      <td>-1</td>\n",
       "      <td>-1</td>\n",
       "    </tr>\n",
       "  </tbody>\n",
       "</table>\n",
       "<p>5 rows × 175 columns</p>\n",
       "</div>"
      ],
      "text/plain": [
       "         TUCASEID  TULINENO  TUYEAR  TUMONTH  TEABSRSN  TEERN  TEERNH1O  \\\n",
       "0  20130101130004         1    2013        1        -1     -1        -1   \n",
       "1  20130101130112         1    2013        1        -1     -1        -1   \n",
       "2  20130101130123         1    2013        1        -1     -1        -1   \n",
       "3  20130101130611         1    2013        1        -1     -1        -1   \n",
       "4  20130101130616         1    2013        1        -1     -1        -1   \n",
       "\n",
       "   TEERNH2  TEERNHRO  TEERNHRY   ...     TXSPEMPNOT  TXSPUHRS  TXTCC  \\\n",
       "0       -1        -1        -1   ...             -1        -1      0   \n",
       "1       -1        -1         2   ...              0         0      0   \n",
       "2       -1        -1        -1   ...              0         0     -1   \n",
       "3       -1        -1         2   ...             -1        -1     -1   \n",
       "4       -1        -1         2   ...             -1        -1     -1   \n",
       "\n",
       "   TXTCCTOT  TXTCOC  TXTHH  TXTNOHH  TXTO  TXTOHH  TXTONHH  \n",
       "0         0       0      0        0    -1      -1       -1  \n",
       "1         0       0      0       -1     0       0       -1  \n",
       "2         0       0     -1       -1    -1      -1       -1  \n",
       "3         0       0     -1       -1    -1      -1       -1  \n",
       "4         0       0     -1       -1    -1      -1       -1  \n",
       "\n",
       "[5 rows x 175 columns]"
      ]
     },
     "execution_count": 5,
     "metadata": {},
     "output_type": "execute_result"
    }
   ],
   "source": [
    "resp = pd.read_csv(\"atusdata/atusresp_2013.dat\")\n",
    "resp.head()"
   ]
  },
  {
   "cell_type": "code",
   "execution_count": 6,
   "metadata": {
    "collapsed": true
   },
   "outputs": [],
   "source": [
    "resp = resp.rename(columns={\n",
    "        'TUCASEID': 'ID',\n",
    "        'TUYEAR': 'YEAR',\n",
    "        'TUMONTH': 'MONTH'\n",
    "    })"
   ]
  },
  {
   "cell_type": "code",
   "execution_count": 7,
   "metadata": {
    "collapsed": false
   },
   "outputs": [],
   "source": [
    "summary = summary.rename(columns={\"t010101\": \"SLEEPING\", 'tucaseid': 'ID', \n",
    "                                  'TEAGE': 'AGE', 't080601': 'BUYING_REALESTATE',\n",
    "                                 \"t110101\": \"EATING_DRINKING\", 't130116': 'HIKING',\n",
    "                                'TESEX': \"GENDER\", 't120307': 'Playing_Games',\n",
    "                                'TUFINLWGT': 'WEIGHT', 't120303': 'MINUTES'\n",
    "                                 })\n",
    "summary['Weighted_Minutes'] = summary.WEIGHT * summary.MINUTES\n",
    "\n",
    "summary =  summary.rename(columns={'t120301': 'THINKING', 't120302': 'TOBBACO_OR_DRUGS'})\n",
    "summary = summary.replace({'GENDER': {1: 'Male', 2: 'Female'}})\n"
   ]
  },
  {
   "cell_type": "code",
   "execution_count": 41,
   "metadata": {
    "collapsed": false
   },
   "outputs": [],
   "source": [
    "df = summary\n",
    "df = df[df.AGE >=18]\n",
    "df = df[df.MINUTES > 0]\n",
    "df = df[df.EATING_DRINKING > 0]\n",
    "df = df[['ID', 'THINKING', 'EATING_DRINKING', 'SLEEPING', 'Weighted_Minutes', 'WEIGHT']]\n",
    "df.index = df.ID\n"
   ]
  },
  {
   "cell_type": "code",
   "execution_count": 42,
   "metadata": {
    "collapsed": false
   },
   "outputs": [
    {
     "data": {
      "text/html": [
       "<div>\n",
       "<table border=\"1\" class=\"dataframe\">\n",
       "  <thead>\n",
       "    <tr style=\"text-align: right;\">\n",
       "      <th></th>\n",
       "      <th>THINKING</th>\n",
       "      <th>EATING_DRINKING</th>\n",
       "      <th>SLEEPING</th>\n",
       "      <th>Weighted_Minutes</th>\n",
       "      <th>WEIGHT</th>\n",
       "    </tr>\n",
       "    <tr>\n",
       "      <th>ID</th>\n",
       "      <th></th>\n",
       "      <th></th>\n",
       "      <th></th>\n",
       "      <th></th>\n",
       "      <th></th>\n",
       "    </tr>\n",
       "  </thead>\n",
       "  <tbody>\n",
       "    <tr>\n",
       "      <th>20130101130658</th>\n",
       "      <td>163</td>\n",
       "      <td>35</td>\n",
       "      <td>290</td>\n",
       "      <td>1.383807e+09</td>\n",
       "      <td>5671341.270490</td>\n",
       "    </tr>\n",
       "    <tr>\n",
       "      <th>20130101130740</th>\n",
       "      <td>30</td>\n",
       "      <td>30</td>\n",
       "      <td>210</td>\n",
       "      <td>1.284359e+09</td>\n",
       "      <td>4538371.462244</td>\n",
       "    </tr>\n",
       "    <tr>\n",
       "      <th>20130101130871</th>\n",
       "      <td>30</td>\n",
       "      <td>30</td>\n",
       "      <td>450</td>\n",
       "      <td>4.818951e+08</td>\n",
       "      <td>6884215.057542</td>\n",
       "    </tr>\n",
       "    <tr>\n",
       "      <th>20130101131096</th>\n",
       "      <td>190</td>\n",
       "      <td>50</td>\n",
       "      <td>720</td>\n",
       "      <td>1.209388e+09</td>\n",
       "      <td>3359410.785590</td>\n",
       "    </tr>\n",
       "    <tr>\n",
       "      <th>20130101131112</th>\n",
       "      <td>235</td>\n",
       "      <td>30</td>\n",
       "      <td>150</td>\n",
       "      <td>1.877658e+09</td>\n",
       "      <td>7823574.493908</td>\n",
       "    </tr>\n",
       "  </tbody>\n",
       "</table>\n",
       "</div>"
      ],
      "text/plain": [
       "                THINKING  EATING_DRINKING  SLEEPING  Weighted_Minutes  \\\n",
       "ID                                                                      \n",
       "20130101130658       163               35       290      1.383807e+09   \n",
       "20130101130740        30               30       210      1.284359e+09   \n",
       "20130101130871        30               30       450      4.818951e+08   \n",
       "20130101131096       190               50       720      1.209388e+09   \n",
       "20130101131112       235               30       150      1.877658e+09   \n",
       "\n",
       "                        WEIGHT  \n",
       "ID                              \n",
       "20130101130658  5671341.270490  \n",
       "20130101130740  4538371.462244  \n",
       "20130101130871  6884215.057542  \n",
       "20130101131096  3359410.785590  \n",
       "20130101131112  7823574.493908  "
      ]
     },
     "execution_count": 42,
     "metadata": {},
     "output_type": "execute_result"
    }
   ],
   "source": [
    "nf = df[['THINKING', 'EATING_DRINKING', 'SLEEPING', 'Weighted_Minutes', 'WEIGHT']]\n",
    "nf = nf.sort_index()\n",
    "nf = nf[nf.EATING_DRINKING > 0]\n",
    "nf = nf[nf.THINKING > 0]\n",
    "nf = nf[nf.SLEEPING > 0]\n",
    "\n",
    "\n",
    "nf.head()"
   ]
  },
  {
   "cell_type": "code",
   "execution_count": 43,
   "metadata": {
    "collapsed": false
   },
   "outputs": [],
   "source": [
    "frame_one = nf\n",
    "frame_two = resp"
   ]
  },
  {
   "cell_type": "code",
   "execution_count": 44,
   "metadata": {
    "collapsed": false
   },
   "outputs": [
    {
     "data": {
      "text/html": [
       "<div>\n",
       "<table border=\"1\" class=\"dataframe\">\n",
       "  <thead>\n",
       "    <tr style=\"text-align: right;\">\n",
       "      <th></th>\n",
       "      <th>THINKING</th>\n",
       "      <th>EATING_DRINKING</th>\n",
       "      <th>SLEEPING</th>\n",
       "      <th>Weighted_Minutes</th>\n",
       "      <th>WEIGHT</th>\n",
       "      <th>YEAR</th>\n",
       "      <th>MONTH</th>\n",
       "    </tr>\n",
       "    <tr>\n",
       "      <th>ID</th>\n",
       "      <th></th>\n",
       "      <th></th>\n",
       "      <th></th>\n",
       "      <th></th>\n",
       "      <th></th>\n",
       "      <th></th>\n",
       "      <th></th>\n",
       "    </tr>\n",
       "  </thead>\n",
       "  <tbody>\n",
       "    <tr>\n",
       "      <th>20130101130658</th>\n",
       "      <td>163</td>\n",
       "      <td>35</td>\n",
       "      <td>290</td>\n",
       "      <td>1.383807e+09</td>\n",
       "      <td>5671341.270490</td>\n",
       "      <td>2013</td>\n",
       "      <td>1</td>\n",
       "    </tr>\n",
       "    <tr>\n",
       "      <th>20130101130740</th>\n",
       "      <td>30</td>\n",
       "      <td>30</td>\n",
       "      <td>210</td>\n",
       "      <td>1.284359e+09</td>\n",
       "      <td>4538371.462244</td>\n",
       "      <td>2013</td>\n",
       "      <td>1</td>\n",
       "    </tr>\n",
       "    <tr>\n",
       "      <th>20130101130871</th>\n",
       "      <td>30</td>\n",
       "      <td>30</td>\n",
       "      <td>450</td>\n",
       "      <td>4.818951e+08</td>\n",
       "      <td>6884215.057542</td>\n",
       "      <td>2013</td>\n",
       "      <td>1</td>\n",
       "    </tr>\n",
       "    <tr>\n",
       "      <th>20130101131096</th>\n",
       "      <td>190</td>\n",
       "      <td>50</td>\n",
       "      <td>720</td>\n",
       "      <td>1.209388e+09</td>\n",
       "      <td>3359410.785590</td>\n",
       "      <td>2013</td>\n",
       "      <td>1</td>\n",
       "    </tr>\n",
       "    <tr>\n",
       "      <th>20130101131112</th>\n",
       "      <td>235</td>\n",
       "      <td>30</td>\n",
       "      <td>150</td>\n",
       "      <td>1.877658e+09</td>\n",
       "      <td>7823574.493908</td>\n",
       "      <td>2013</td>\n",
       "      <td>1</td>\n",
       "    </tr>\n",
       "  </tbody>\n",
       "</table>\n",
       "</div>"
      ],
      "text/plain": [
       "                THINKING  EATING_DRINKING  SLEEPING  Weighted_Minutes  \\\n",
       "ID                                                                      \n",
       "20130101130658       163               35       290      1.383807e+09   \n",
       "20130101130740        30               30       210      1.284359e+09   \n",
       "20130101130871        30               30       450      4.818951e+08   \n",
       "20130101131096       190               50       720      1.209388e+09   \n",
       "20130101131112       235               30       150      1.877658e+09   \n",
       "\n",
       "                        WEIGHT  YEAR  MONTH  \n",
       "ID                                           \n",
       "20130101130658  5671341.270490  2013      1  \n",
       "20130101130740  4538371.462244  2013      1  \n",
       "20130101130871  6884215.057542  2013      1  \n",
       "20130101131096  3359410.785590  2013      1  \n",
       "20130101131112  7823574.493908  2013      1  "
      ]
     },
     "execution_count": 44,
     "metadata": {},
     "output_type": "execute_result"
    }
   ],
   "source": [
    "\n",
    "frame_two = frame_two[['ID', 'YEAR', 'MONTH']]\n",
    "\n",
    "frame_two.index = frame_two.ID\n",
    "date_frame = frame_two[['YEAR', 'MONTH']]\n",
    "mer = pd.merge(nf, date_frame, left_index=True, right_index=True)\n",
    "mer.head()"
   ]
  },
  {
   "cell_type": "code",
   "execution_count": null,
   "metadata": {
    "collapsed": false
   },
   "outputs": [],
   "source": []
  },
  {
   "cell_type": "code",
   "execution_count": null,
   "metadata": {
    "collapsed": true
   },
   "outputs": [],
   "source": []
  },
  {
   "cell_type": "code",
   "execution_count": 48,
   "metadata": {
    "collapsed": false
   },
   "outputs": [],
   "source": [
    "kf = summary\n",
    "kf = kf[kf.AGE < 18]\n",
    "kf = kf[kf.MINUTES > 0]\n",
    "kf = kf[kf.EATING_DRINKING > 0]\n",
    "kf = kf[['ID', 'THINKING', 'EATING_DRINKING', 'SLEEPING', 'Weighted_Minutes', 'WEIGHT']]\n",
    "kf.index = kf.ID\n"
   ]
  },
  {
   "cell_type": "code",
   "execution_count": 49,
   "metadata": {
    "collapsed": false
   },
   "outputs": [],
   "source": [
    "nkf = kf[['THINKING', 'EATING_DRINKING', 'SLEEPING', 'Weighted_Minutes', 'WEIGHT']]\n",
    "nkf = nkf.sort_index()\n",
    "nkf = nkf[nkf.EATING_DRINKING > 0]\n",
    "nkf = nkf[nkf.THINKING > 0]\n",
    "nkf = nkf[nkf.SLEEPING > 0]\n",
    "\n",
    "\n"
   ]
  },
  {
   "cell_type": "code",
   "execution_count": 50,
   "metadata": {
    "collapsed": false
   },
   "outputs": [
    {
     "data": {
      "text/html": [
       "<div>\n",
       "<table border=\"1\" class=\"dataframe\">\n",
       "  <thead>\n",
       "    <tr style=\"text-align: right;\">\n",
       "      <th></th>\n",
       "      <th>THINKING</th>\n",
       "      <th>EATING_DRINKING</th>\n",
       "      <th>SLEEPING</th>\n",
       "      <th>Weighted_Minutes</th>\n",
       "      <th>WEIGHT</th>\n",
       "      <th>YEAR</th>\n",
       "      <th>MONTH</th>\n",
       "    </tr>\n",
       "    <tr>\n",
       "      <th>ID</th>\n",
       "      <th></th>\n",
       "      <th></th>\n",
       "      <th></th>\n",
       "      <th></th>\n",
       "      <th></th>\n",
       "      <th></th>\n",
       "      <th></th>\n",
       "    </tr>\n",
       "  </thead>\n",
       "  <tbody>\n",
       "    <tr>\n",
       "      <th>20130101131579</th>\n",
       "      <td>165</td>\n",
       "      <td>45</td>\n",
       "      <td>450</td>\n",
       "      <td>2.902550e+09</td>\n",
       "      <td>23220400.569550</td>\n",
       "      <td>2013</td>\n",
       "      <td>1</td>\n",
       "    </tr>\n",
       "    <tr>\n",
       "      <th>20130112122463</th>\n",
       "      <td>60</td>\n",
       "      <td>70</td>\n",
       "      <td>483</td>\n",
       "      <td>4.050303e+08</td>\n",
       "      <td>13501009.381268</td>\n",
       "      <td>2013</td>\n",
       "      <td>1</td>\n",
       "    </tr>\n",
       "    <tr>\n",
       "      <th>20130201130903</th>\n",
       "      <td>198</td>\n",
       "      <td>20</td>\n",
       "      <td>360</td>\n",
       "      <td>5.743618e+09</td>\n",
       "      <td>25527192.574877</td>\n",
       "      <td>2013</td>\n",
       "      <td>2</td>\n",
       "    </tr>\n",
       "    <tr>\n",
       "      <th>20130201131012</th>\n",
       "      <td>112</td>\n",
       "      <td>45</td>\n",
       "      <td>600</td>\n",
       "      <td>2.930741e+09</td>\n",
       "      <td>6994607.640106</td>\n",
       "      <td>2013</td>\n",
       "      <td>2</td>\n",
       "    </tr>\n",
       "    <tr>\n",
       "      <th>20130201131263</th>\n",
       "      <td>20</td>\n",
       "      <td>45</td>\n",
       "      <td>457</td>\n",
       "      <td>5.420518e+08</td>\n",
       "      <td>7227357.087550</td>\n",
       "      <td>2013</td>\n",
       "      <td>2</td>\n",
       "    </tr>\n",
       "  </tbody>\n",
       "</table>\n",
       "</div>"
      ],
      "text/plain": [
       "                THINKING  EATING_DRINKING  SLEEPING  Weighted_Minutes  \\\n",
       "ID                                                                      \n",
       "20130101131579       165               45       450      2.902550e+09   \n",
       "20130112122463        60               70       483      4.050303e+08   \n",
       "20130201130903       198               20       360      5.743618e+09   \n",
       "20130201131012       112               45       600      2.930741e+09   \n",
       "20130201131263        20               45       457      5.420518e+08   \n",
       "\n",
       "                         WEIGHT  YEAR  MONTH  \n",
       "ID                                            \n",
       "20130101131579  23220400.569550  2013      1  \n",
       "20130112122463  13501009.381268  2013      1  \n",
       "20130201130903  25527192.574877  2013      2  \n",
       "20130201131012   6994607.640106  2013      2  \n",
       "20130201131263   7227357.087550  2013      2  "
      ]
     },
     "execution_count": 50,
     "metadata": {},
     "output_type": "execute_result"
    }
   ],
   "source": [
    "frame_uno = nkf\n",
    "frame_do = resp\n",
    "frame_do = frame_do[['ID', 'YEAR', 'MONTH']]\n",
    "\n",
    "frame_do.index = frame_do.ID\n",
    "dat_frame = frame_do[['YEAR', 'MONTH']]\n",
    "mer_two = pd.merge(nkf, dat_frame, left_index=True, right_index=True)\n",
    "mer_two.head()"
   ]
  },
  {
   "cell_type": "code",
   "execution_count": 58,
   "metadata": {
    "collapsed": false
   },
   "outputs": [
    {
     "data": {
      "text/plain": [
       "<matplotlib.axes._subplots.AxesSubplot at 0x109054160>"
      ]
     },
     "execution_count": 58,
     "metadata": {},
     "output_type": "execute_result"
    },
    {
     "data": {
      "image/png": "[encoded data removed]",
      "text/plain": [
       "<matplotlib.figure.Figure at 0x1090668d0>"
      ]
     },
     "metadata": {},
     "output_type": "display_data"
    }
   ],
   "source": [
    "sleep = mer_two[['SLEEPING', 'MONTH']]\n",
    "sleep.groupby(['MONTH']).mean().plot(kind='bar', figsize=(8,5), title='Time Spent Sleeping AGE < 18')\n"
   ]
  },
  {
   "cell_type": "code",
   "execution_count": 63,
   "metadata": {
    "collapsed": false
   },
   "outputs": [
    {
     "data": {
      "text/plain": [
       "<matplotlib.axes._subplots.AxesSubplot at 0x10fad56d8>"
      ]
     },
     "execution_count": 63,
     "metadata": {},
     "output_type": "execute_result"
    },
    {
     "data": {
      "image/png": "[encoded data removed]",
      "text/plain": [
       "<matplotlib.figure.Figure at 0x10fd14438>"
      ]
     },
     "metadata": {},
     "output_type": "display_data"
    }
   ],
   "source": [
    "sleep = mer[['SLEEPING', 'MONTH']]\n",
    "sleep.groupby(['MONTH']).mean().plot(kind='bar', figsize=(8,5), title='Time Spent Sleeping AGE > 18')\n"
   ]
  },
  {
   "cell_type": "markdown",
   "metadata": {},
   "source": [
    "##The time spent sleeping graphs show that persons older than 18 report a normalized sleep pattern throughout the year, and persons under 18 seem to report different amounts of sleep every month."
   ]
  },
  {
   "cell_type": "code",
   "execution_count": null,
   "metadata": {
    "collapsed": true
   },
   "outputs": [],
   "source": []
  },
  {
   "cell_type": "code",
   "execution_count": 65,
   "metadata": {
    "collapsed": false
   },
   "outputs": [
    {
     "data": {
      "text/plain": [
       "<matplotlib.axes._subplots.AxesSubplot at 0x10ff7f400>"
      ]
     },
     "execution_count": 65,
     "metadata": {},
     "output_type": "execute_result"
    },
    {
     "data": {
      "image/png": "[encoded data removed]",
      "text/plain": [
       "<matplotlib.figure.Figure at 0x10fe11c88>"
      ]
     },
     "metadata": {},
     "output_type": "display_data"
    }
   ],
   "source": [
    "eat = mer_two[['EATING_DRINKING', 'MONTH']]\n",
    "eat.groupby(['MONTH']).mean().plot(kind='bar', figsize=(8,5), title='Time Reported Eating or Drinking AGE < 18')\n"
   ]
  },
  {
   "cell_type": "code",
   "execution_count": 64,
   "metadata": {
    "collapsed": false
   },
   "outputs": [
    {
     "data": {
      "text/plain": [
       "<matplotlib.axes._subplots.AxesSubplot at 0x10fe35588>"
      ]
     },
     "execution_count": 64,
     "metadata": {},
     "output_type": "execute_result"
    },
    {
     "data": {
      "image/png": "[encoded data removed]",
      "text/plain": [
       "<matplotlib.figure.Figure at 0x10fbc1d68>"
      ]
     },
     "metadata": {},
     "output_type": "display_data"
    }
   ],
   "source": [
    "eat = mer[['EATING_DRINKING', 'MONTH']]\n",
    "eat.groupby(['MONTH']).mean().plot(kind='bar', figsize=(8,5), title='Time Spent Eating or Drinking > 18')\n"
   ]
  },
  {
   "cell_type": "markdown",
   "metadata": {},
   "source": [
    "##Reported time spent eating and drinking is more normalized for persons over 18 than persons under 18."
   ]
  },
  {
   "cell_type": "code",
   "execution_count": 61,
   "metadata": {
    "collapsed": false
   },
   "outputs": [
    {
     "data": {
      "text/plain": [
       "<matplotlib.axes._subplots.AxesSubplot at 0x109627160>"
      ]
     },
     "execution_count": 61,
     "metadata": {},
     "output_type": "execute_result"
    },
    {
     "data": {
      "image/png": "[encoded data removed]",
      "text/plain": [
       "<matplotlib.figure.Figure at 0x1095f27b8>"
      ]
     },
     "metadata": {},
     "output_type": "display_data"
    }
   ],
   "source": [
    "thinking = mer_two[['THINKING', 'MONTH']]\n",
    "thinking.groupby(['MONTH']).mean().plot(kind='bar', figsize=(8,5), title='Time Reported Thinking AGE < 18')\n"
   ]
  },
  {
   "cell_type": "code",
   "execution_count": 62,
   "metadata": {
    "collapsed": false
   },
   "outputs": [
    {
     "data": {
      "text/plain": [
       "<matplotlib.axes._subplots.AxesSubplot at 0x109755630>"
      ]
     },
     "execution_count": 62,
     "metadata": {},
     "output_type": "execute_result"
    },
    {
     "data": {
      "image/png": "[encoded data removed]",
      "text/plain": [
       "<matplotlib.figure.Figure at 0x10fac9048>"
      ]
     },
     "metadata": {},
     "output_type": "display_data"
    }
   ],
   "source": [
    "thinking = mer[['THINKING', 'MONTH']]\n",
    "thinking.groupby(['MONTH']).mean().plot(kind='bar', figsize=(8,5), title='Time Spent Thinking AGE > 18')\n"
   ]
  },
  {
   "cell_type": "markdown",
   "metadata": {
    "collapsed": true
   },
   "source": [
    "##By looking at the time spent thinking graphs you can see that people over 18 reported spending a lot more time thinking than people under 18"
   ]
  },
  {
   "cell_type": "code",
   "execution_count": null,
   "metadata": {
    "collapsed": true
   },
   "outputs": [],
   "source": []
  },
  {
   "cell_type": "code",
   "execution_count": null,
   "metadata": {
    "collapsed": true
   },
   "outputs": [],
   "source": []
  },
  {
   "cell_type": "code",
   "execution_count": null,
   "metadata": {
    "collapsed": true
   },
   "outputs": [],
   "source": []
  },
  {
   "cell_type": "code",
   "execution_count": null,
   "metadata": {
    "collapsed": true
   },
   "outputs": [],
   "source": []
  },
  {
   "cell_type": "code",
   "execution_count": 94,
   "metadata": {
    "collapsed": false
   },
   "outputs": [
    {
     "data": {
      "text/html": [
       "<div>\n",
       "<table border=\"1\" class=\"dataframe\">\n",
       "  <thead>\n",
       "    <tr style=\"text-align: right;\">\n",
       "      <th></th>\n",
       "      <th>GENDER</th>\n",
       "      <th>Playing_Games</th>\n",
       "      <th>AGE</th>\n",
       "    </tr>\n",
       "    <tr>\n",
       "      <th>ID</th>\n",
       "      <th></th>\n",
       "      <th></th>\n",
       "      <th></th>\n",
       "    </tr>\n",
       "  </thead>\n",
       "  <tbody>\n",
       "    <tr>\n",
       "      <th>20130101130970</th>\n",
       "      <td>Female</td>\n",
       "      <td>120</td>\n",
       "      <td>43</td>\n",
       "    </tr>\n",
       "    <tr>\n",
       "      <th>20130101131143</th>\n",
       "      <td>Female</td>\n",
       "      <td>433</td>\n",
       "      <td>67</td>\n",
       "    </tr>\n",
       "    <tr>\n",
       "      <th>20130101131179</th>\n",
       "      <td>Female</td>\n",
       "      <td>150</td>\n",
       "      <td>61</td>\n",
       "    </tr>\n",
       "    <tr>\n",
       "      <th>20130101131356</th>\n",
       "      <td>Male</td>\n",
       "      <td>345</td>\n",
       "      <td>23</td>\n",
       "    </tr>\n",
       "    <tr>\n",
       "      <th>20130101131541</th>\n",
       "      <td>Male</td>\n",
       "      <td>300</td>\n",
       "      <td>57</td>\n",
       "    </tr>\n",
       "  </tbody>\n",
       "</table>\n",
       "</div>"
      ],
      "text/plain": [
       "                GENDER  Playing_Games  AGE\n",
       "ID                                        \n",
       "20130101130970  Female            120   43\n",
       "20130101131143  Female            433   67\n",
       "20130101131179  Female            150   61\n",
       "20130101131356    Male            345   23\n",
       "20130101131541    Male            300   57"
      ]
     },
     "execution_count": 94,
     "metadata": {},
     "output_type": "execute_result"
    }
   ],
   "source": [
    "gen_f = summary[['ID', 'GENDER', 'Playing_Games', 'AGE']]\n",
    "gen_f = gen_f[gen_f.Playing_Games > 0]\n",
    "gen_f.index = gen_f.ID\n",
    "gen_f = gen_f[['GENDER', 'Playing_Games', 'AGE']]\n",
    "gen_f.head()"
   ]
  },
  {
   "cell_type": "code",
   "execution_count": 108,
   "metadata": {
    "collapsed": false
   },
   "outputs": [
    {
     "data": {
      "text/plain": [
       "<matplotlib.axes._subplots.AxesSubplot at 0x11a82da90>"
      ]
     },
     "execution_count": 108,
     "metadata": {},
     "output_type": "execute_result"
    },
    {
     "data": {
      "image/png": "[encoded data removed]",
      "text/plain": [
       "<matplotlib.figure.Figure at 0x11a93e048>"
      ]
     },
     "metadata": {},
     "output_type": "display_data"
    }
   ],
   "source": [
    "gen_old = gen_f[gen_f.AGE >= 18]\n",
    "\n",
    "gen_old = gen_old[['GENDER', 'Playing_Games']]\n",
    "gen_old.groupby('GENDER').mean().plot(kind='bar', title='Adults Whom Play Games', figsize=(10,5))"
   ]
  },
  {
   "cell_type": "code",
   "execution_count": 101,
   "metadata": {
    "collapsed": false
   },
   "outputs": [
    {
     "data": {
      "text/plain": [
       "<matplotlib.axes._subplots.AxesSubplot at 0x119d97518>"
      ]
     },
     "execution_count": 101,
     "metadata": {},
     "output_type": "execute_result"
    },
    {
     "data": {
      "image/png": "[encoded data removed]",
      "text/plain": [
       "<matplotlib.figure.Figure at 0x119e71940>"
      ]
     },
     "metadata": {},
     "output_type": "display_data"
    }
   ],
   "source": [
    "gen_y = gen_f[gen_f.AGE < 18]\n",
    "gen_y = gen_y[['GENDER', 'Playing_Games']]\n",
    "gen_y.groupby('GENDER').mean().plot(kind='bar', title='Kids Whom Play Games', figsize=(10,5))"
   ]
  },
  {
   "cell_type": "markdown",
   "metadata": {},
   "source": [
    "##Males seem to report playing more games than females regardless of age"
   ]
  },
  {
   "cell_type": "code",
   "execution_count": 118,
   "metadata": {
    "collapsed": false
   },
   "outputs": [],
   "source": [
    "gen_smo = summary[['ID', 'GENDER', 'TOBBACO_OR_DRUGS', 'AGE', 'Playing_Games']]\n",
    "gen_smo = gen_smo[gen_smo.TOBBACO_OR_DRUGS > 0]\n",
    "gen_smo = gen_smo[gen_smo.Playing_Games > 0]\n",
    "gen_smo.index = gen_smo.ID"
   ]
  },
  {
   "cell_type": "code",
   "execution_count": 134,
   "metadata": {
    "collapsed": false
   },
   "outputs": [
    {
     "data": {
      "text/plain": [
       "<matplotlib.axes._subplots.AxesSubplot at 0x11ad58e80>"
      ]
     },
     "execution_count": 134,
     "metadata": {},
     "output_type": "execute_result"
    },
    {
     "data": {
      "image/png": "[encoded data removed]",
      "text/plain": [
       "<matplotlib.figure.Figure at 0x11adfed30>"
      ]
     },
     "metadata": {},
     "output_type": "display_data"
    }
   ],
   "source": [
    "gen_smo_a = gen_smo[['GENDER', 'TOBBACO_OR_DRUGS', 'AGE', 'Playing_Games']]\n",
    "gen_smo_a = gen_smo_a[gen_smo_a.AGE > 18]\n",
    "gen_smo_a = gen_smo_a[['GENDER', 'Playing_Games']]\n",
    "gen_smo_a.groupby('GENDER').mean().plot(kind='bar', title='Time Spent Playing Games by Adult Tobbaco or Drug Users', figsize=(10,5))"
   ]
  },
  {
   "cell_type": "code",
   "execution_count": 131,
   "metadata": {
    "collapsed": false
   },
   "outputs": [],
   "source": [
    "non_smo = summary[['ID', 'GENDER', 'TOBBACO_OR_DRUGS', 'AGE', 'Playing_Games']]\n",
    "non_smo = non_smo[non_smo.Playing_Games > 0]\n",
    "non_smo.index = non_smo.ID"
   ]
  },
  {
   "cell_type": "code",
   "execution_count": 133,
   "metadata": {
    "collapsed": false
   },
   "outputs": [
    {
     "data": {
      "text/plain": [
       "<matplotlib.axes._subplots.AxesSubplot at 0x11ab8b828>"
      ]
     },
     "execution_count": 133,
     "metadata": {},
     "output_type": "execute_result"
    },
    {
     "data": {
      "image/png": "[encoded data removed]",
      "text/plain": [
       "<matplotlib.figure.Figure at 0x11ab94a58>"
      ]
     },
     "metadata": {},
     "output_type": "display_data"
    }
   ],
   "source": [
    "non_smo_a = non_smo[['GENDER', 'TOBBACO_OR_DRUGS', 'AGE', 'Playing_Games']]\n",
    "non_smo_a = non_smo_a[non_smo_a.AGE > 18]\n",
    "non_smo_a = non_smo_a[['GENDER', 'Playing_Games']]\n",
    "non_smo_a.groupby('GENDER').mean().plot(kind='bar', title='Time Spent Playing Games by Adults Whom Do Not Report Using Tobbaco or Drugs', figsize=(10,5))"
   ]
  },
  {
   "cell_type": "markdown",
   "metadata": {},
   "source": [
    "##The graphs show that woman that do not use tobbaco or drugs report playing more games than woman that do smoke, but men report the same ammount of time playing games regardless of tobbaco or drug use."
   ]
  },
  {
   "cell_type": "code",
   "execution_count": 146,
   "metadata": {
    "collapsed": false
   },
   "outputs": [
    {
     "data": {
      "text/plain": [
       "<matplotlib.axes._subplots.AxesSubplot at 0x11b7030f0>"
      ]
     },
     "execution_count": 146,
     "metadata": {},
     "output_type": "execute_result"
    },
    {
     "data": {
      "image/png": "[encoded data removed]",
      "text/plain": [
       "<matplotlib.figure.Figure at 0x11b707978>"
      ]
     },
     "metadata": {},
     "output_type": "display_data"
    }
   ],
   "source": [
    "smo_m_w = summary[['ID', 'GENDER', 'TOBBACO_OR_DRUGS', 'AGE', 'Playing_Games']]\n",
    "smo_m_w.index = smo_m_w.ID\n",
    "smo_m_w = smo_m_w[smo_m_w.TOBBACO_OR_DRUGS > 0]\n",
    "smo_m_wa = smo_m_w[smo_m_w.AGE >= 18]\n",
    "smo_m_wa = smo_m_wa[['GENDER', 'TOBBACO_OR_DRUGS']]\n",
    "smo_m_wa.groupby('GENDER').mean().plot(kind='bar', figsize=(10,5), title='Adults Tobbaco or Drug Use by Gender')"
   ]
  },
  {
   "cell_type": "code",
   "execution_count": 152,
   "metadata": {
    "collapsed": false
   },
   "outputs": [
    {
     "data": {
      "text/html": [
       "<div>\n",
       "<table border=\"1\" class=\"dataframe\">\n",
       "  <thead>\n",
       "    <tr style=\"text-align: right;\">\n",
       "      <th></th>\n",
       "      <th>GENDER</th>\n",
       "      <th>TOBBACO_OR_DRUGS</th>\n",
       "      <th>AGE</th>\n",
       "    </tr>\n",
       "    <tr>\n",
       "      <th>ID</th>\n",
       "      <th></th>\n",
       "      <th></th>\n",
       "      <th></th>\n",
       "    </tr>\n",
       "  </thead>\n",
       "  <tbody>\n",
       "    <tr>\n",
       "      <th>20130706132269</th>\n",
       "      <td>Female</td>\n",
       "      <td>5</td>\n",
       "      <td>16</td>\n",
       "    </tr>\n",
       "  </tbody>\n",
       "</table>\n",
       "</div>"
      ],
      "text/plain": [
       "                GENDER  TOBBACO_OR_DRUGS  AGE\n",
       "ID                                           \n",
       "20130706132269  Female                 5   16"
      ]
     },
     "execution_count": 152,
     "metadata": {},
     "output_type": "execute_result"
    }
   ],
   "source": [
    "smo_m_wk = smo_m_w[smo_m_w.AGE < 18]\n",
    "smo_m_wk = smo_m_wk[['GENDER', 'TOBBACO_OR_DRUGS', 'AGE']]\n",
    "smo_m_wk#.groupby('GENDER').mean().plot(kind='bar', figsize=(10,5), title='Kids Tobbaco or Drug Use by Gender')"
   ]
  },
  {
   "cell_type": "markdown",
   "metadata": {
    "collapsed": true
   },
   "source": [
    "##Only one person under 18 reported using tobbaco or drugs"
   ]
  },
  {
   "cell_type": "code",
   "execution_count": 239,
   "metadata": {
    "collapsed": false
   },
   "outputs": [
    {
     "data": {
      "text/plain": [
       "<matplotlib.axes._subplots.AxesSubplot at 0x116f554e0>"
      ]
     },
     "execution_count": 239,
     "metadata": {},
     "output_type": "execute_result"
    },
    {
     "data": {
      "image/png": "[encoded data removed]",
      "text/plain": [
       "<matplotlib.figure.Figure at 0x117007780>"
      ]
     },
     "metadata": {},
     "output_type": "display_data"
    }
   ],
   "source": [
    "age_smo = summary[['ID', 'AGE', 'TOBBACO_OR_DRUGS']]\n",
    "age_smo.index = age_smo.ID\n",
    "\n",
    "age_smo = age_smo[['AGE', 'TOBBACO_OR_DRUGS']]\n",
    "age_smo.sort_index()\n",
    "age_smo.TOBBACO_OR_DRUGS = age_smo.TOBBACO_OR_DRUGS > 0\n",
    "\n",
    "age_smo.groupby('AGE').size().plot(kind='area', title='Time Spent Using Tobacco or Drugs by Users')"
   ]
  },
  {
   "cell_type": "code",
   "execution_count": 238,
   "metadata": {
    "collapsed": false
   },
   "outputs": [
    {
     "data": {
      "text/plain": [
       "<matplotlib.axes._subplots.AxesSubplot at 0x116b76390>"
      ]
     },
     "execution_count": 238,
     "metadata": {},
     "output_type": "execute_result"
    },
    {
     "data": {
      "image/png": "[encoded data removed]",
      "text/plain": [
       "<matplotlib.figure.Figure at 0x116c3f208>"
      ]
     },
     "metadata": {},
     "output_type": "display_data"
    }
   ],
   "source": [
    "age_smo = summary[['ID', 'AGE', 'TOBBACO_OR_DRUGS']]\n",
    "age_smo.index = age_smo.ID\n",
    "age_smo = age_smo[(age_smo.AGE < 75) & (age_smo.AGE >= 18)]\n",
    "age_smo = age_smo[['AGE', 'TOBBACO_OR_DRUGS']]\n",
    "age_smo.sort_index()\n",
    "age_smo.TOBBACO_OR_DRUGS = age_smo.TOBBACO_OR_DRUGS > 0\n",
    "\n",
    "age_smo.groupby('AGE').size().plot(kind='area', title='Time Spent Using Tobacco or Drugs by Users\\n  Age 18 to 75')"
   ]
  },
  {
   "cell_type": "code",
   "execution_count": 240,
   "metadata": {
    "collapsed": false
   },
   "outputs": [
    {
     "data": {
      "text/plain": [
       "<matplotlib.axes._subplots.AxesSubplot at 0x11714cfd0>"
      ]
     },
     "execution_count": 240,
     "metadata": {},
     "output_type": "execute_result"
    },
    {
     "data": {
      "image/png": "[encoded data removed]",
      "text/plain": [
       "<matplotlib.figure.Figure at 0x116a26fd0>"
      ]
     },
     "metadata": {},
     "output_type": "display_data"
    }
   ],
   "source": [
    "age_smo = summary[['ID', 'AGE', 'TOBBACO_OR_DRUGS']]\n",
    "age_smo.index = age_smo.ID\n",
    "age_smo = age_smo[(age_smo.AGE < 30) & (age_smo.AGE >= 20)]\n",
    "age_smo = age_smo[['AGE', 'TOBBACO_OR_DRUGS']]\n",
    "age_smo.sort_index()\n",
    "age_smo.TOBBACO_OR_DRUGS = age_smo.TOBBACO_OR_DRUGS > 0\n",
    "\n",
    "age_smo.groupby('AGE').size().plot(kind='area', title=\"Time Spent Using Tobacco or Drugs by Users\\n Persons in their 20's\")"
   ]
  },
  {
   "cell_type": "code",
   "execution_count": 243,
   "metadata": {
    "collapsed": false
   },
   "outputs": [
    {
     "data": {
      "text/plain": [
       "<matplotlib.axes._subplots.AxesSubplot at 0x11741f668>"
      ]
     },
     "execution_count": 243,
     "metadata": {},
     "output_type": "execute_result"
    },
    {
     "data": {
      "image/png": "[encoded data removed]",
      "text/plain": [
       "<matplotlib.figure.Figure at 0x117068518>"
      ]
     },
     "metadata": {},
     "output_type": "display_data"
    }
   ],
   "source": [
    "age_smo = summary[['ID', 'AGE', 'TOBBACO_OR_DRUGS']]\n",
    "age_smo.index = age_smo.ID\n",
    "age_smo = age_smo[(age_smo.AGE < 75) & (age_smo.AGE >= 60)]\n",
    "age_smo = age_smo[['AGE', 'TOBBACO_OR_DRUGS']]\n",
    "age_smo.sort_index()\n",
    "age_smo.TOBBACO_OR_DRUGS = age_smo.TOBBACO_OR_DRUGS > 0\n",
    "\n",
    "age_smo.groupby('AGE').size().plot(kind='area', title=\"Time Spent Using Tobacco or Drugs by Users\\n Age 60-75\")"
   ]
  },
  {
   "cell_type": "markdown",
   "metadata": {},
   "source": [
    "## By looking at the graphs you can see that time spent using tobbaco or drugs goes up for people in their late 20s and then starts to decrease  in their 60s"
   ]
  },
  {
   "cell_type": "code",
   "execution_count": null,
   "metadata": {
    "collapsed": true
   },
   "outputs": [],
   "source": []
  }
 ],
 "metadata": {
  "kernelspec": {
   "display_name": "Python 3",
   "language": "python",
   "name": "python3"
  },
  "language_info": {
   "codemirror_mode": {
    "name": "ipython",
    "version": 3
   },
   "file_extension": ".py",
   "mimetype": "text/x-python",
   "name": "python",
   "nbconvert_exporter": "python",
   "pygments_lexer": "ipython3",
   "version": "3.4.2"
  }
 },
 "nbformat": 4,
 "nbformat_minor": 0
}
